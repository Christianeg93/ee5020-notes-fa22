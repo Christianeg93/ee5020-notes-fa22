{
 "cells": [
  {
   "cell_type": "markdown",
   "id": "726b01c3-b3d4-42b0-8263-43ec2ce59897",
   "metadata": {},
   "source": [
    "# Introduction to `pandas` and `matplotlib`\n"
   ]
  },
  {
   "cell_type": "markdown",
   "id": "05115669-604e-43a3-851c-239846fbae59",
   "metadata": {},
   "source": [
    "This notebook shows how to import libraries in Python and how to use the `pandas` and `matplotlib` libraries to analyze CSV files.\n",
    "\n",
    "To import and define a function that loads a CSV:"
   ]
  },
  {
   "cell_type": "code",
   "execution_count": null,
   "id": "70530e8e-925a-4c6d-b110-2e85683be792",
   "metadata": {},
   "outputs": [],
   "source": []
  },
  {
   "cell_type": "markdown",
   "id": "c03cf6fe-5a96-4b23-86f6-d3c1dbb9742a",
   "metadata": {
    "tags": []
   },
   "source": [
    "Load the \"unemployment.csv\" dataset by calling `load_dataset()`:"
   ]
  },
  {
   "cell_type": "code",
   "execution_count": null,
   "id": "26b055ad-14ed-4027-92f4-efec00efc07b",
   "metadata": {},
   "outputs": [],
   "source": []
  },
  {
   "cell_type": "markdown",
   "id": "6e402dd9-6875-4463-b5f7-8739029731db",
   "metadata": {},
   "source": [
    "What are the head rows of this unemployment dataset?"
   ]
  },
  {
   "cell_type": "code",
   "execution_count": null,
   "id": "b6f27029-ae08-4945-9a01-0e9accbe2906",
   "metadata": {},
   "outputs": [],
   "source": []
  },
  {
   "cell_type": "markdown",
   "id": "3ce16c59-5c96-4ac7-b8d9-1d1f58bb5c6d",
   "metadata": {},
   "source": [
    "This is how to obtain the information for the `df_unemployment` dataframe:"
   ]
  },
  {
   "cell_type": "code",
   "execution_count": null,
   "id": "3b05aa34-9756-49b1-b9ed-f26757eba4e7",
   "metadata": {},
   "outputs": [],
   "source": []
  },
  {
   "cell_type": "code",
   "execution_count": null,
   "id": "d5426605-6a3e-4627-8c4e-0477ce078717",
   "metadata": {},
   "outputs": [],
   "source": []
  },
  {
   "cell_type": "markdown",
   "id": "d9a38bc6-442e-4627-ba06-d20af2b9f7fd",
   "metadata": {},
   "source": [
    "Let's create a plot of the unemployment over time using `seaborn`:"
   ]
  },
  {
   "cell_type": "code",
   "execution_count": null,
   "id": "5a308642-9e44-41b8-9c1f-92f489ad498a",
   "metadata": {},
   "outputs": [],
   "source": []
  },
  {
   "cell_type": "code",
   "execution_count": null,
   "id": "b739d4fa-1f33-4074-ae34-51eab1b67fba",
   "metadata": {},
   "outputs": [],
   "source": []
  }
 ],
 "metadata": {
  "kernelspec": {
   "display_name": "Python 3 (ipykernel)",
   "language": "python",
   "name": "python3"
  },
  "language_info": {
   "codemirror_mode": {
    "name": "ipython",
    "version": 3
   },
   "file_extension": ".py",
   "mimetype": "text/x-python",
   "name": "python",
   "nbconvert_exporter": "python",
   "pygments_lexer": "ipython3",
   "version": "3.9.7"
  }
 },
 "nbformat": 4,
 "nbformat_minor": 5
}
