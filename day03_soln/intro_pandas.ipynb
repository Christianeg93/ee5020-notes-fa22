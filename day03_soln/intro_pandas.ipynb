{
 "cells": [
  {
   "cell_type": "markdown",
   "id": "726b01c3-b3d4-42b0-8263-43ec2ce59897",
   "metadata": {},
   "source": [
    "# Introduction to `pandas` and `matplotlib`\n"
   ]
  },
  {
   "cell_type": "markdown",
   "id": "05115669-604e-43a3-851c-239846fbae59",
   "metadata": {},
   "source": [
    "This notebook shows how to import libraries in Python and how to use the `pandas` and `matplotlib` libraries to analyze CSV files.\n",
    "\n",
    "To import and define a function that loads a CSV:"
   ]
  },
  {
   "cell_type": "code",
   "execution_count": 1,
   "id": "70530e8e-925a-4c6d-b110-2e85683be792",
   "metadata": {},
   "outputs": [],
   "source": [
    "import numpy as np\n",
    "import pandas as pd\n",
    "import seaborn as sns"
   ]
  },
  {
   "cell_type": "markdown",
   "id": "c03cf6fe-5a96-4b23-86f6-d3c1dbb9742a",
   "metadata": {
    "tags": []
   },
   "source": [
    "Load the \"unemployment.csv\" dataset by calling `load_dataset()`:"
   ]
  },
  {
   "cell_type": "code",
   "execution_count": 2,
   "id": "26b055ad-14ed-4027-92f4-efec00efc07b",
   "metadata": {},
   "outputs": [],
   "source": [
    "df_unemployment = pd.read_csv(\"../datasets_as/unemployment.csv\")"
   ]
  },
  {
   "cell_type": "markdown",
   "id": "6e402dd9-6875-4463-b5f7-8739029731db",
   "metadata": {},
   "source": [
    "What are the head rows of this unemployment dataset?"
   ]
  },
  {
   "cell_type": "code",
   "execution_count": 3,
   "id": "b6f27029-ae08-4945-9a01-0e9accbe2906",
   "metadata": {},
   "outputs": [
    {
     "data": {
      "text/html": [
       "<div>\n",
       "<style scoped>\n",
       "    .dataframe tbody tr th:only-of-type {\n",
       "        vertical-align: middle;\n",
       "    }\n",
       "\n",
       "    .dataframe tbody tr th {\n",
       "        vertical-align: top;\n",
       "    }\n",
       "\n",
       "    .dataframe thead th {\n",
       "        text-align: right;\n",
       "    }\n",
       "</style>\n",
       "<table border=\"1\" class=\"dataframe\">\n",
       "  <thead>\n",
       "    <tr style=\"text-align: right;\">\n",
       "      <th></th>\n",
       "      <th>Year</th>\n",
       "      <th>Value</th>\n",
       "    </tr>\n",
       "  </thead>\n",
       "  <tbody>\n",
       "    <tr>\n",
       "      <th>0</th>\n",
       "      <td>1980</td>\n",
       "      <td>7.175</td>\n",
       "    </tr>\n",
       "    <tr>\n",
       "      <th>1</th>\n",
       "      <td>1981</td>\n",
       "      <td>7.617</td>\n",
       "    </tr>\n",
       "    <tr>\n",
       "      <th>2</th>\n",
       "      <td>1982</td>\n",
       "      <td>9.708</td>\n",
       "    </tr>\n",
       "    <tr>\n",
       "      <th>3</th>\n",
       "      <td>1983</td>\n",
       "      <td>9.600</td>\n",
       "    </tr>\n",
       "    <tr>\n",
       "      <th>4</th>\n",
       "      <td>1984</td>\n",
       "      <td>7.508</td>\n",
       "    </tr>\n",
       "  </tbody>\n",
       "</table>\n",
       "</div>"
      ],
      "text/plain": [
       "   Year  Value\n",
       "0  1980  7.175\n",
       "1  1981  7.617\n",
       "2  1982  9.708\n",
       "3  1983  9.600\n",
       "4  1984  7.508"
      ]
     },
     "execution_count": 3,
     "metadata": {},
     "output_type": "execute_result"
    }
   ],
   "source": [
    "df_unemployment.head()"
   ]
  },
  {
   "cell_type": "markdown",
   "id": "3ce16c59-5c96-4ac7-b8d9-1d1f58bb5c6d",
   "metadata": {},
   "source": [
    "This is how to obtain the information for the `df_unemployment` dataframe:"
   ]
  },
  {
   "cell_type": "code",
   "execution_count": 4,
   "id": "3b05aa34-9756-49b1-b9ed-f26757eba4e7",
   "metadata": {},
   "outputs": [
    {
     "name": "stdout",
     "output_type": "stream",
     "text": [
      "<class 'pandas.core.frame.DataFrame'>\n",
      "RangeIndex: 38 entries, 0 to 37\n",
      "Data columns (total 2 columns):\n",
      " #   Column  Non-Null Count  Dtype  \n",
      "---  ------  --------------  -----  \n",
      " 0   Year    38 non-null     int64  \n",
      " 1   Value   38 non-null     float64\n",
      "dtypes: float64(1), int64(1)\n",
      "memory usage: 736.0 bytes\n"
     ]
    }
   ],
   "source": [
    "df_unemployment.info()"
   ]
  },
  {
   "cell_type": "code",
   "execution_count": 5,
   "id": "d5426605-6a3e-4627-8c4e-0477ce078717",
   "metadata": {},
   "outputs": [
    {
     "data": {
      "text/html": [
       "<div>\n",
       "<style scoped>\n",
       "    .dataframe tbody tr th:only-of-type {\n",
       "        vertical-align: middle;\n",
       "    }\n",
       "\n",
       "    .dataframe tbody tr th {\n",
       "        vertical-align: top;\n",
       "    }\n",
       "\n",
       "    .dataframe thead th {\n",
       "        text-align: right;\n",
       "    }\n",
       "</style>\n",
       "<table border=\"1\" class=\"dataframe\">\n",
       "  <thead>\n",
       "    <tr style=\"text-align: right;\">\n",
       "      <th></th>\n",
       "      <th>Year</th>\n",
       "      <th>Value</th>\n",
       "    </tr>\n",
       "  </thead>\n",
       "  <tbody>\n",
       "    <tr>\n",
       "      <th>count</th>\n",
       "      <td>38.000000</td>\n",
       "      <td>38.000000</td>\n",
       "    </tr>\n",
       "    <tr>\n",
       "      <th>mean</th>\n",
       "      <td>1998.500000</td>\n",
       "      <td>6.334237</td>\n",
       "    </tr>\n",
       "    <tr>\n",
       "      <th>std</th>\n",
       "      <td>11.113055</td>\n",
       "      <td>1.610117</td>\n",
       "    </tr>\n",
       "    <tr>\n",
       "      <th>min</th>\n",
       "      <td>1980.000000</td>\n",
       "      <td>3.967000</td>\n",
       "    </tr>\n",
       "    <tr>\n",
       "      <th>25%</th>\n",
       "      <td>1989.250000</td>\n",
       "      <td>5.126750</td>\n",
       "    </tr>\n",
       "    <tr>\n",
       "      <th>50%</th>\n",
       "      <td>1998.500000</td>\n",
       "      <td>5.896000</td>\n",
       "    </tr>\n",
       "    <tr>\n",
       "      <th>75%</th>\n",
       "      <td>2007.750000</td>\n",
       "      <td>7.323250</td>\n",
       "    </tr>\n",
       "    <tr>\n",
       "      <th>max</th>\n",
       "      <td>2017.000000</td>\n",
       "      <td>9.708000</td>\n",
       "    </tr>\n",
       "  </tbody>\n",
       "</table>\n",
       "</div>"
      ],
      "text/plain": [
       "              Year      Value\n",
       "count    38.000000  38.000000\n",
       "mean   1998.500000   6.334237\n",
       "std      11.113055   1.610117\n",
       "min    1980.000000   3.967000\n",
       "25%    1989.250000   5.126750\n",
       "50%    1998.500000   5.896000\n",
       "75%    2007.750000   7.323250\n",
       "max    2017.000000   9.708000"
      ]
     },
     "execution_count": 5,
     "metadata": {},
     "output_type": "execute_result"
    }
   ],
   "source": [
    "df_unemployment.describe()"
   ]
  },
  {
   "cell_type": "markdown",
   "id": "d9a38bc6-442e-4627-ba06-d20af2b9f7fd",
   "metadata": {},
   "source": [
    "Let's create a plot of the unemployment over time using `seaborn`:"
   ]
  },
  {
   "cell_type": "code",
   "execution_count": 7,
   "id": "5a308642-9e44-41b8-9c1f-92f489ad498a",
   "metadata": {},
   "outputs": [
    {
     "data": {
      "text/plain": [
       "<AxesSubplot:xlabel='Year', ylabel='Value'>"
      ]
     },
     "execution_count": 7,
     "metadata": {},
     "output_type": "execute_result"
    },
    {
     "data": {
      "image/png": "[encoded data removed]",
      "text/plain": [
       "<Figure size 432x288 with 1 Axes>"
      ]
     },
     "metadata": {
      "needs_background": "light"
     },
     "output_type": "display_data"
    }
   ],
   "source": [
    "sns.scatterplot(data=df_unemployment, x=\"Year\", y=\"Value\", hue=\"Value\")"
   ]
  },
  {
   "cell_type": "code",
   "execution_count": null,
   "id": "b739d4fa-1f33-4074-ae34-51eab1b67fba",
   "metadata": {},
   "outputs": [],
   "source": []
  }
 ],
 "metadata": {
  "kernelspec": {
   "display_name": "Python 3 (ipykernel)",
   "language": "python",
   "name": "python3"
  },
  "language_info": {
   "codemirror_mode": {
    "name": "ipython",
    "version": 3
   },
   "file_extension": ".py",
   "mimetype": "text/x-python",
   "name": "python",
   "nbconvert_exporter": "python",
   "pygments_lexer": "ipython3",
   "version": "3.9.7"
  }
 },
 "nbformat": 4,
 "nbformat_minor": 5
}
