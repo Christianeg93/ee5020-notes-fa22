{
 "cells": [
  {
   "cell_type": "markdown",
   "id": "39dbc401-96dd-4720-81cb-32f9db5c9c24",
   "metadata": {
    "slideshow": {
     "slide_type": "slide"
    },
    "tags": []
   },
   "source": [
    "# Lesson 3: Statistics and Significance"
   ]
  },
  {
   "cell_type": "markdown",
   "id": "4fa49d57-50cf-4ff7-b6c9-8f691cb937f6",
   "metadata": {
    "slideshow": {
     "slide_type": "slide"
    },
    "tags": []
   },
   "source": [
    "## Ideas\n",
    "\n",
    "1. What is statistics?\n",
    "2. How is statistics related to probability?"
   ]
  },
  {
   "cell_type": "markdown",
   "id": "ab1862b5-4303-4c72-8c4d-4bca78dd5ff7",
   "metadata": {
    "slideshow": {
     "slide_type": "slide"
    },
    "tags": []
   },
   "source": [
    "## Terminology Recap\n",
    "\n",
    "See PA 2.1.1, PA 2.2.2, and PA 2.4.2:\n",
    "- **sample:** one measurement of a certain unit\n",
    "- **sample size:** number of measurements\n",
    "- **population:** group that we're sampling from\n",
    "- **parameter ($\\pi$):** any measured quantity of an entire population\n",
    "- **variable ($x$):** the actual sample's measurement\n",
    "\n",
    "\n",
    "See PA 2.1.5 and PA 2.3.3:\n",
    "- **model:** mathematical model that's data-driven\n",
    "- **chance model:** probabilistic model based on heuristics or assumptions\n",
    "- **statistical inference:** assumptions made based on our data and statistical model\n",
    "- **statistical significance:** strength or measure of confidence of model\n",
    "\n",
    "\n",
    "- **measures of center (dataset tendency or dispersion):** tendency to \"gravitate\" toward a value\n",
    "- **mean:** arithmetic mean of the dataset\n",
    "- **median:** exact middle of the dataset\n",
    "- **mode:** maximum-repeated value of the dataset\n",
    "- **outlier:** in frequentist terms, deviated data"
   ]
  },
  {
   "cell_type": "markdown",
   "id": "cb8c8410-c117-4906-806f-404e39858866",
   "metadata": {
    "jp-MarkdownHeadingCollapsed": true,
    "slideshow": {
     "slide_type": "slide"
    },
    "tags": []
   },
   "source": [
    "## Sampling (PA 2.2.5)\n",
    "\n",
    "- **simple random sampling:** take random from the population\n",
    "- **systematic (monotonic) sampling:** take every x sample from the population\n",
    "- **stratified sampling:** group out and take some k subset from each group\n",
    "- **cluster sampling:** randomly choose one group\n",
    "- **convenience sampling:** whatever samples you can get"
   ]
  },
  {
   "cell_type": "markdown",
   "id": "2cfc3b36-edba-4524-a1dc-66bad85fcce2",
   "metadata": {
    "slideshow": {
     "slide_type": "slide"
    },
    "tags": []
   },
   "source": [
    "## Statistical Testing (PA 2.4.6, 2.6.2, 2.6.3)\n",
    "\n",
    "- **null hypothesis ($H_0$):** process is random chance\n",
    "- **alternative hypothesis ($H_A$):** process is not random chance\n",
    "- **standardized statistic ($z$):**  $\\frac{\\bar{x} - \\pi_0}{\\hat{\\pi_0}}$ where $\\hat{\\pi_0} = \\sqrt{\\pi(1 - \\pi)/n}$\n",
    "- **p-value:** probability of obtaining an extreme value (outside of the distribution) assuming $H_0$ is true\n",
    "\n",
    "![p-value closeness to random, z-score is distance from random](https://desktop.arcgis.com/en/arcmap/10.3/tools/spatial-statistics-toolbox/GUID-CBF63B74-D1B2-44FC-A316-7AC2B1C1D464-web.png)\n",
    "\n",
    "- How does sample size affect these (PA 2.6.7)?\n",
    "- Are $H_A : \\pi > 0.5$ and $H_A : \\pi \\ne 0.5$ the same?"
   ]
  },
  {
   "cell_type": "markdown",
   "id": "ecac12f3-d223-48ea-b17f-b49e2466bf76",
   "metadata": {
    "slideshow": {
     "slide_type": "slide"
    },
    "tags": []
   },
   "source": [
    "## Let's do some statistical inference!\n",
    "\n",
    "So what are we really trying to do with statistics?\n",
    "\n",
    "Is there a difference between **binary** (categorical) data and numerical data?\n",
    "\n",
    "Let's analyze the dataset in `bac.csv`!  This dataset contains two columns of interest: `BAC` and `PASS`.  It is a dataset that indicates the `BAC` (numerical continuous data) and `PASS`, whether the subject passed the field sobriety test (binary data).  We need to make a third column for whether or not the subject truly failed (binary variable), based on if BAC >= 0.08.  All subjects tested were pulled over on suspicion of driving under the influence (DUI) by a police officer.\n",
    "\n",
    "### 1. What research questions can we ask?  What type of data do we have here?\n",
    "\n",
    "**Q1:** Is a police officer able to use driver behavior to predict DUI better than random chance?\n",
    "\n",
    "In this assumption, we assume that every driver pulled over is DUI. The hypotheses are formed:\n",
    "\n",
    "$H_0(\\text{pulled\\_over\\_correctly}): \\pi = 0.5$\n",
    "\n",
    "$H_A(\\text{pulled\\_over\\_correctly}): \\pi \\gt 0.5$.\n",
    "\n",
    "\n",
    "\n",
    "**Q2:** An alternative question could be to ask whether a sobriety test is better than random chance at predicting whether someone is biologically drunk, based on suspicions by police officers on drunk driving.\n",
    "\n",
    "This means that the null hypothesis for the sobriety test correctness is a mean that is better than random chance (50% chance).  The following hypotheses are formed as a result of this question.\n",
    "\n",
    "$H_0(\\text{sobriety\\_test\\_correctness}): \\pi = 0.5$\n",
    "\n",
    "$H_A(\\text{sobriety\\_test\\_correctness}): \\pi \\gt 0.5$\n",
    "\n",
    "\n",
    "### 2. What preliminary metrics (statistics) should we compute?\n",
    "Mean, standard deviation, histogram."
   ]
  },
  {
   "cell_type": "code",
   "execution_count": null,
   "id": "b78db38d-d5d6-40d6-a205-30422e511c66",
   "metadata": {},
   "outputs": [],
   "source": [
    "import matplotlib.pyplot as plt\n",
    "import numpy as np\n",
    "import pandas as pd\n",
    "import seaborn as sns"
   ]
  },
  {
   "cell_type": "code",
   "execution_count": null,
   "id": "b8e03857-21cf-44e4-a05d-7fde30ce3b99",
   "metadata": {},
   "outputs": [],
   "source": [
    "df_bac = pd.read_csv(\"../datasets_as/bac.csv\")\n",
    "print(df_bac.head())"
   ]
  },
  {
   "cell_type": "markdown",
   "id": "b70c9730-902d-49ba-b487-d041abe4b804",
   "metadata": {},
   "source": [
    "It looks like there are some column names that are not too descriptive.  Let's also remove some columns that we do not need."
   ]
  },
  {
   "cell_type": "code",
   "execution_count": null,
   "id": "7dd0accc-af59-4ed6-9be2-28890269c3d6",
   "metadata": {},
   "outputs": [],
   "source": []
  },
  {
   "cell_type": "markdown",
   "id": "0a936559-1294-4958-92c8-0fff2a552403",
   "metadata": {},
   "source": [
    "Then, let's add our better column name and remove the columns we do not want."
   ]
  },
  {
   "cell_type": "code",
   "execution_count": null,
   "id": "3fcb3cd1-3586-437e-959e-5d76b38d2801",
   "metadata": {},
   "outputs": [],
   "source": []
  },
  {
   "cell_type": "code",
   "execution_count": null,
   "id": "a5d97350-ee21-405a-975f-e14516f54def",
   "metadata": {},
   "outputs": [],
   "source": []
  },
  {
   "cell_type": "markdown",
   "id": "aa570a1e-61a9-45fc-855a-07a125e0c8ad",
   "metadata": {},
   "source": [
    "Upon looking at the histograms, it does not appear that BAC is very distinguished between samples.  However, there is a massive difference where BAC is used to determine whether someone is truly legal.  There is a higher proportion of subjects passing the sobriety test.  Let's compute the proportions so we can see more quantitatively the difference between failing a sobriety test and truly driving under the influence, and whether the original suspicions were correct:"
   ]
  },
  {
   "cell_type": "code",
   "execution_count": null,
   "id": "080c0c48-1234-495d-9586-576333e21c10",
   "metadata": {},
   "outputs": [],
   "source": []
  },
  {
   "cell_type": "markdown",
   "id": "214906b9-4e2e-4839-aba9-be1bcc24ee51",
   "metadata": {},
   "source": [
    "It seems that indeed, the proportion of drivers pulled over by the police officers were primarily not drunk.\n",
    "\n",
    "Now, let's compute the Z-score for the mean of the variable of officers' intuition correctly pulling over drunk drivers, to see if there is a difference between random chance and the police officers' intuition.\n",
    "\n",
    "Let's checkout how to use statsmodels' `stats` package: https://www.statsmodels.org/stable/stats.html"
   ]
  },
  {
   "cell_type": "code",
   "execution_count": null,
   "id": "a56ee873-0674-4d1c-a6f5-03a5cca21dac",
   "metadata": {},
   "outputs": [],
   "source": []
  },
  {
   "cell_type": "code",
   "execution_count": null,
   "id": "053f5750-3cec-40ab-afbc-b8fe85790c46",
   "metadata": {},
   "outputs": [],
   "source": []
  },
  {
   "cell_type": "code",
   "execution_count": null,
   "id": "cb177419-8d6d-4370-afbd-6d5ad228bf77",
   "metadata": {},
   "outputs": [],
   "source": []
  },
  {
   "cell_type": "code",
   "execution_count": null,
   "id": "0ff1eee4-4c23-41a3-9aac-d0c0c72c634b",
   "metadata": {},
   "outputs": [],
   "source": []
  },
  {
   "cell_type": "markdown",
   "id": "1ccbdd19-8772-439f-9261-ac51c89973c8",
   "metadata": {
    "slideshow": {
     "slide_type": "slide"
    },
    "tags": []
   },
   "source": [
    "### 3. What statistical inferences can we draw?\n",
    "The variable of a driver being pulled over correctly due to officers' intuition of 18% was statistically significant.  The variable of the sobriety test being correct more than random chance of 79% was statistically significant.\n",
    "\n",
    "### 4. Can we make any statistically-significant conclusions?\n",
    "We can conclude that the police officers in this dataset do not necessarily have great intuition when it comes to using intuition to detect drunk drivers.  However, sobriety tests seem to be effective for detection of high BACs.\n",
    "\n",
    "### 5. How could we improve this study?\n",
    "Please try to think of some ideas :)"
   ]
  },
  {
   "cell_type": "markdown",
   "id": "3d873c7a-bfa4-4683-82c5-64a8738cd93b",
   "metadata": {},
   "source": []
  }
 ],
 "metadata": {
  "kernelspec": {
   "display_name": "Python 3 (ipykernel)",
   "language": "python",
   "name": "python3"
  },
  "language_info": {
   "codemirror_mode": {
    "name": "ipython",
    "version": 3
   },
   "file_extension": ".py",
   "mimetype": "text/x-python",
   "name": "python",
   "nbconvert_exporter": "python",
   "pygments_lexer": "ipython3",
   "version": "3.9.7"
  }
 },
 "nbformat": 4,
 "nbformat_minor": 5
}
