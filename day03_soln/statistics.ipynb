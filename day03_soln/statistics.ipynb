{
 "cells": [
  {
   "cell_type": "markdown",
   "id": "39dbc401-96dd-4720-81cb-32f9db5c9c24",
   "metadata": {
    "slideshow": {
     "slide_type": "slide"
    },
    "tags": []
   },
   "source": [
    "# Lesson 3: Statistics and Significance"
   ]
  },
  {
   "cell_type": "markdown",
   "id": "4fa49d57-50cf-4ff7-b6c9-8f691cb937f6",
   "metadata": {
    "slideshow": {
     "slide_type": "slide"
    },
    "tags": []
   },
   "source": [
    "## Ideas\n",
    "\n",
    "1. What is statistics?\n",
    "2. How is statistics related to probability?"
   ]
  },
  {
   "cell_type": "markdown",
   "id": "ab1862b5-4303-4c72-8c4d-4bca78dd5ff7",
   "metadata": {
    "slideshow": {
     "slide_type": "slide"
    },
    "tags": []
   },
   "source": [
    "## Terminology Recap\n",
    "\n",
    "See PA 2.1.1, PA 2.2.2, and PA 2.4.2:\n",
    "- **sample:** one measurement of a certain unit\n",
    "- **sample size:** number of measurements\n",
    "- **population:** group that we're sampling from\n",
    "- **parameter ($\\pi$):** any measured quantity of an entire population\n",
    "- **variable ($x$):** the actual sample's measurement\n",
    "\n",
    "\n",
    "See PA 2.1.5 and PA 2.3.3:\n",
    "- **model:** mathematical model that's data-driven\n",
    "- **chance model:** probabilistic model based on heuristics or assumptions\n",
    "- **statistical inference:** assumptions made based on our data and statistical model\n",
    "- **statistical significance:** strength or measure of confidence of model\n",
    "\n",
    "\n",
    "- **measures of center (dataset tendency or dispersion):** tendency to \"gravitate\" toward a value\n",
    "- **mean:** arithmetic mean of the dataset\n",
    "- **median:** exact middle of the dataset\n",
    "- **mode:** maximum-repeated value of the dataset\n",
    "- **outlier:** in frequentist terms, deviated data"
   ]
  },
  {
   "cell_type": "markdown",
   "id": "cb8c8410-c117-4906-806f-404e39858866",
   "metadata": {
    "jp-MarkdownHeadingCollapsed": true,
    "slideshow": {
     "slide_type": "slide"
    },
    "tags": []
   },
   "source": [
    "## Sampling (PA 2.2.5)\n",
    "\n",
    "- **simple random sampling:** take random from the population\n",
    "- **systematic (monotonic) sampling:** take every x sample from the population\n",
    "- **stratified sampling:** group out and take some k subset from each group\n",
    "- **cluster sampling:** randomly choose one group\n",
    "- **convenience sampling:** whatever samples you can get"
   ]
  },
  {
   "cell_type": "markdown",
   "id": "2cfc3b36-edba-4524-a1dc-66bad85fcce2",
   "metadata": {
    "slideshow": {
     "slide_type": "slide"
    },
    "tags": []
   },
   "source": [
    "## Statistical Testing (PA 2.4.6, 2.6.2, 2.6.3)\n",
    "\n",
    "- **null hypothesis ($H_0$):** process is random chance\n",
    "- **alternative hypothesis ($H_A$):** process is not random chance\n",
    "- **standardized statistic ($z$):**  $\\frac{\\bar{x} - \\pi_0}{\\hat{\\pi_0}}$ where $\\hat{\\pi_0} = \\sqrt{\\pi(1 - \\pi)/n}$\n",
    "- **p-value:** probability of obtaining an extreme value (outside of the distribution) assuming $H_0$ is true\n",
    "\n",
    "![p-value closeness to random, z-score is distance from random](https://desktop.arcgis.com/en/arcmap/10.3/tools/spatial-statistics-toolbox/GUID-CBF63B74-D1B2-44FC-A316-7AC2B1C1D464-web.png)\n",
    "\n",
    "- How does sample size affect these (PA 2.6.7)?\n",
    "- Are $H_A : \\pi > 0.5$ and $H_A : \\pi \\ne 0.5$ the same?"
   ]
  },
  {
   "cell_type": "markdown",
   "id": "ecac12f3-d223-48ea-b17f-b49e2466bf76",
   "metadata": {
    "slideshow": {
     "slide_type": "slide"
    },
    "tags": []
   },
   "source": [
    "## Let's do some statistical inference!\n",
    "\n",
    "So what are we really trying to do with statistics?\n",
    "\n",
    "Is there a difference between **binary** (categorical) data and numerical data?\n",
    "\n",
    "Let's analyze the dataset in `bac.csv`!  This dataset contains two columns of interest: `BAC` and `PASS`.  It is a dataset that indicates the `BAC` (numerical continuous data) and `PASS`, whether the subject passed the field sobriety test (binary data).  We need to make a third column for whether or not the subject truly failed (binary variable), based on if BAC >= 0.08.  All subjects tested were pulled over on suspicion of driving under the influence (DUI) by a police officer.\n",
    "\n",
    "### 1. What research questions can we ask?  What type of data do we have here?\n",
    "\n",
    "**Q1:** Is a police officer able to use driver behavior to predict DUI better than random chance?\n",
    "\n",
    "In this assumption, we assume that every driver pulled over is DUI. The hypotheses are formed:\n",
    "\n",
    "$H_0(\\text{pulled\\_over\\_correctly}): \\pi = 0.5$\n",
    "\n",
    "$H_A(\\text{pulled\\_over\\_correctly}): \\pi \\gt 0.5$.\n",
    "\n",
    "\n",
    "\n",
    "**Q2:** An alternative question could be to ask whether a sobriety test is better than random chance at predicting whether someone is biologically drunk, based on suspicions by police officers on drunk driving.\n",
    "\n",
    "This means that the null hypothesis for the sobriety test correctness is a mean that is better than random chance (50% chance).  The following hypotheses are formed as a result of this question.\n",
    "\n",
    "$H_0(\\text{sobriety\\_test\\_correctness}): \\pi = 0.5$\n",
    "\n",
    "$H_A(\\text{sobriety\\_test\\_correctness}): \\pi \\gt 0.5$\n",
    "\n",
    "\n",
    "### 2. What preliminary metrics (statistics) should we compute?\n",
    "Mean, standard deviation, histogram."
   ]
  },
  {
   "cell_type": "code",
   "execution_count": 11,
   "id": "b78db38d-d5d6-40d6-a205-30422e511c66",
   "metadata": {},
   "outputs": [],
   "source": [
    "import matplotlib.pyplot as plt\n",
    "import numpy as np\n",
    "import pandas as pd\n",
    "import statsmodels.stats.proportion as pp  # importing the proportions module from statsmodels"
   ]
  },
  {
   "cell_type": "code",
   "execution_count": 2,
   "id": "b8e03857-21cf-44e4-a05d-7fde30ce3b99",
   "metadata": {},
   "outputs": [
    {
     "name": "stdout",
     "output_type": "stream",
     "text": [
      "   Subject       BAC  PASS   forpass      pred  pass.ols  PASS.OLS\n",
      "0       54  0.000344     1  0.518128  0.971148         0         0\n",
      "1       94  0.000523     1  0.464620  0.970857         0         0\n",
      "2       72  0.001530     1  0.797098  0.969166         0         1\n",
      "3        1  0.001819     1  0.327069  0.968663         0         0\n",
      "4       49  0.001850     1  0.546285  0.968608         0         0\n"
     ]
    }
   ],
   "source": [
    "df_bac = pd.read_csv(\"../datasets_as/bac.csv\")\n",
    "print(df_bac.head())"
   ]
  },
  {
   "cell_type": "markdown",
   "id": "b70c9730-902d-49ba-b487-d041abe4b804",
   "metadata": {},
   "source": [
    "It looks like there are some column names that are not too descriptive.  Let's also remove some columns that we do not need."
   ]
  },
  {
   "cell_type": "code",
   "execution_count": 3,
   "id": "7dd0accc-af59-4ed6-9be2-28890269c3d6",
   "metadata": {},
   "outputs": [
    {
     "data": {
      "text/html": [
       "<div>\n",
       "<style scoped>\n",
       "    .dataframe tbody tr th:only-of-type {\n",
       "        vertical-align: middle;\n",
       "    }\n",
       "\n",
       "    .dataframe tbody tr th {\n",
       "        vertical-align: top;\n",
       "    }\n",
       "\n",
       "    .dataframe thead th {\n",
       "        text-align: right;\n",
       "    }\n",
       "</style>\n",
       "<table border=\"1\" class=\"dataframe\">\n",
       "  <thead>\n",
       "    <tr style=\"text-align: right;\">\n",
       "      <th></th>\n",
       "      <th>Subject</th>\n",
       "      <th>BAC</th>\n",
       "      <th>PASS</th>\n",
       "    </tr>\n",
       "  </thead>\n",
       "  <tbody>\n",
       "    <tr>\n",
       "      <th>0</th>\n",
       "      <td>54</td>\n",
       "      <td>0.000344</td>\n",
       "      <td>1</td>\n",
       "    </tr>\n",
       "    <tr>\n",
       "      <th>1</th>\n",
       "      <td>94</td>\n",
       "      <td>0.000523</td>\n",
       "      <td>1</td>\n",
       "    </tr>\n",
       "    <tr>\n",
       "      <th>2</th>\n",
       "      <td>72</td>\n",
       "      <td>0.001530</td>\n",
       "      <td>1</td>\n",
       "    </tr>\n",
       "    <tr>\n",
       "      <th>3</th>\n",
       "      <td>1</td>\n",
       "      <td>0.001819</td>\n",
       "      <td>1</td>\n",
       "    </tr>\n",
       "    <tr>\n",
       "      <th>4</th>\n",
       "      <td>49</td>\n",
       "      <td>0.001850</td>\n",
       "      <td>1</td>\n",
       "    </tr>\n",
       "  </tbody>\n",
       "</table>\n",
       "</div>"
      ],
      "text/plain": [
       "   Subject       BAC  PASS\n",
       "0       54  0.000344     1\n",
       "1       94  0.000523     1\n",
       "2       72  0.001530     1\n",
       "3        1  0.001819     1\n",
       "4       49  0.001850     1"
      ]
     },
     "execution_count": 3,
     "metadata": {},
     "output_type": "execute_result"
    }
   ],
   "source": [
    "df_bac_trim = df_bac[['Subject', 'BAC', 'PASS']].copy()\n",
    "df_bac_trim.head()"
   ]
  },
  {
   "cell_type": "markdown",
   "id": "0a936559-1294-4958-92c8-0fff2a552403",
   "metadata": {},
   "source": [
    "Then, let's add our better column name and remove the columns we do not want."
   ]
  },
  {
   "cell_type": "code",
   "execution_count": 6,
   "id": "3fcb3cd1-3586-437e-959e-5d76b38d2801",
   "metadata": {},
   "outputs": [],
   "source": [
    "df_bac_trim.rename(columns={\"PASS\": \"FST Pass\"}, inplace=True)"
   ]
  },
  {
   "cell_type": "code",
   "execution_count": 7,
   "id": "a5d97350-ee21-405a-975f-e14516f54def",
   "metadata": {},
   "outputs": [
    {
     "data": {
      "text/html": [
       "<div>\n",
       "<style scoped>\n",
       "    .dataframe tbody tr th:only-of-type {\n",
       "        vertical-align: middle;\n",
       "    }\n",
       "\n",
       "    .dataframe tbody tr th {\n",
       "        vertical-align: top;\n",
       "    }\n",
       "\n",
       "    .dataframe thead th {\n",
       "        text-align: right;\n",
       "    }\n",
       "</style>\n",
       "<table border=\"1\" class=\"dataframe\">\n",
       "  <thead>\n",
       "    <tr style=\"text-align: right;\">\n",
       "      <th></th>\n",
       "      <th>Subject</th>\n",
       "      <th>BAC</th>\n",
       "      <th>FST Pass</th>\n",
       "    </tr>\n",
       "  </thead>\n",
       "  <tbody>\n",
       "    <tr>\n",
       "      <th>0</th>\n",
       "      <td>54</td>\n",
       "      <td>0.000344</td>\n",
       "      <td>1</td>\n",
       "    </tr>\n",
       "    <tr>\n",
       "      <th>1</th>\n",
       "      <td>94</td>\n",
       "      <td>0.000523</td>\n",
       "      <td>1</td>\n",
       "    </tr>\n",
       "    <tr>\n",
       "      <th>2</th>\n",
       "      <td>72</td>\n",
       "      <td>0.001530</td>\n",
       "      <td>1</td>\n",
       "    </tr>\n",
       "    <tr>\n",
       "      <th>3</th>\n",
       "      <td>1</td>\n",
       "      <td>0.001819</td>\n",
       "      <td>1</td>\n",
       "    </tr>\n",
       "    <tr>\n",
       "      <th>4</th>\n",
       "      <td>49</td>\n",
       "      <td>0.001850</td>\n",
       "      <td>1</td>\n",
       "    </tr>\n",
       "  </tbody>\n",
       "</table>\n",
       "</div>"
      ],
      "text/plain": [
       "   Subject       BAC  FST Pass\n",
       "0       54  0.000344         1\n",
       "1       94  0.000523         1\n",
       "2       72  0.001530         1\n",
       "3        1  0.001819         1\n",
       "4       49  0.001850         1"
      ]
     },
     "execution_count": 7,
     "metadata": {},
     "output_type": "execute_result"
    }
   ],
   "source": [
    "df_bac_trim.head()"
   ]
  },
  {
   "cell_type": "code",
   "execution_count": 9,
   "id": "5645e0d3-4f48-48ff-83a7-238934d5c3e8",
   "metadata": {},
   "outputs": [
    {
     "name": "stdout",
     "output_type": "stream",
     "text": [
      "<class 'pandas.core.frame.DataFrame'>\n",
      "Int64Index: 100 entries, 0 to 99\n",
      "Data columns (total 3 columns):\n",
      " #   Column    Non-Null Count  Dtype  \n",
      "---  ------    --------------  -----  \n",
      " 0   Subject   100 non-null    int64  \n",
      " 1   BAC       100 non-null    float64\n",
      " 2   FST Pass  100 non-null    int64  \n",
      "dtypes: float64(1), int64(2)\n",
      "memory usage: 3.1 KB\n"
     ]
    }
   ],
   "source": [
    "df_bac_trim.info()"
   ]
  },
  {
   "cell_type": "markdown",
   "id": "aa570a1e-61a9-45fc-855a-07a125e0c8ad",
   "metadata": {},
   "source": [
    "Upon looking at the histograms, it does not appear that BAC is very distinguished between samples.  However, there is a massive difference where BAC is used to determine whether someone is truly legal.  There is a higher proportion of subjects passing the sobriety test.  Let's compute the proportions so we can see more quantitatively the difference between failing a sobriety test and truly driving under the influence, and whether the original suspicions were correct:"
   ]
  },
  {
   "cell_type": "code",
   "execution_count": 8,
   "id": "080c0c48-1234-495d-9586-576333e21c10",
   "metadata": {},
   "outputs": [
    {
     "data": {
      "text/plain": [
       "Subject     18\n",
       "BAC         18\n",
       "FST Pass    18\n",
       "dtype: int64"
      ]
     },
     "execution_count": 8,
     "metadata": {},
     "output_type": "execute_result"
    }
   ],
   "source": [
    "df_bac_trim[df_bac_trim['BAC'] >= 0.08].count()"
   ]
  },
  {
   "cell_type": "code",
   "execution_count": 10,
   "id": "33fa8dad-9df0-4e42-a828-1855fe5e1ef8",
   "metadata": {},
   "outputs": [
    {
     "data": {
      "text/plain": [
       "Subject     39\n",
       "BAC         39\n",
       "FST Pass    39\n",
       "dtype: int64"
      ]
     },
     "execution_count": 10,
     "metadata": {},
     "output_type": "execute_result"
    }
   ],
   "source": [
    "df_bac_trim[df_bac_trim['FST Pass'] == 0].count()"
   ]
  },
  {
   "cell_type": "code",
   "execution_count": 15,
   "id": "fe445476-2e0e-4823-9236-951a341f4b61",
   "metadata": {
    "tags": []
   },
   "outputs": [
    {
     "data": {
      "text/plain": [
       "100"
      ]
     },
     "execution_count": 15,
     "metadata": {},
     "output_type": "execute_result"
    }
   ],
   "source": [
    "df_bac_trim['Subject'].count()"
   ]
  },
  {
   "cell_type": "markdown",
   "id": "214906b9-4e2e-4839-aba9-be1bcc24ee51",
   "metadata": {},
   "source": [
    "It seems that indeed, the proportion of drivers pulled over by the police officers were primarily not drunk.\n",
    "\n",
    "Now, let's compute the Z-score for the mean of the variable of officers' intuition correctly pulling over drunk drivers, to see if there is a difference between random chance and the police officers' intuition.\n",
    "\n",
    "Let's checkout how to use statsmodels' `stats` package: https://www.statsmodels.org/stable/stats.html"
   ]
  },
  {
   "cell_type": "code",
   "execution_count": 34,
   "id": "a56ee873-0674-4d1c-a6f5-03a5cca21dac",
   "metadata": {},
   "outputs": [
    {
     "data": {
      "text/plain": [
       "(-21.343747458109497, 4.457478379159264e-101)"
      ]
     },
     "execution_count": 34,
     "metadata": {},
     "output_type": "execute_result"
    }
   ],
   "source": [
    "pp.proportions_ztest(count=df_bac_trim[df_bac_trim['BAC'] >= 0.08]['Subject'].count(),\n",
    "                     nobs=df_bac_trim['Subject'].count(),\n",
    "                     value=1.0  # null hypothesis assumes officer is always correct\n",
    "                    )"
   ]
  },
  {
   "cell_type": "markdown",
   "id": "aef6797b-5807-4b11-8f0c-354fa3d49734",
   "metadata": {},
   "source": [
    "This p-value, being significant as it is smaller than 0.05, indicates that the 18% correctness is statistically significantly different than a coin flip.  So statistically speaking, the officers in this study have a high false positive rate of incorrect driver stoppage that is definitely different than being 100% correct.\n",
    "\n",
    "Let's see now if the sobriety test is correct by filtering on multiple conditions.  Make sure to use parentheses to separate out the conditions, or you'll get funny errors due to the ampersand (bitwise AND):"
   ]
  },
  {
   "cell_type": "code",
   "execution_count": 25,
   "id": "053f5750-3cec-40ab-afbc-b8fe85790c46",
   "metadata": {},
   "outputs": [
    {
     "data": {
      "text/plain": [
       "Subject     18\n",
       "BAC         18\n",
       "FST Pass    18\n",
       "dtype: int64"
      ]
     },
     "execution_count": 25,
     "metadata": {},
     "output_type": "execute_result"
    }
   ],
   "source": [
    "df_bac_trim[(df_bac_trim['BAC'] >= 0.08) & (df_bac_trim['FST Pass'] == 0)].count()"
   ]
  },
  {
   "cell_type": "code",
   "execution_count": 26,
   "id": "cb177419-8d6d-4370-afbd-6d5ad228bf77",
   "metadata": {},
   "outputs": [
    {
     "data": {
      "text/plain": [
       "Subject     39\n",
       "BAC         39\n",
       "FST Pass    39\n",
       "dtype: int64"
      ]
     },
     "execution_count": 26,
     "metadata": {},
     "output_type": "execute_result"
    }
   ],
   "source": [
    "df_bac_trim[df_bac_trim['FST Pass'] == 0].count()"
   ]
  },
  {
   "cell_type": "code",
   "execution_count": 30,
   "id": "4bec17b1-04c7-415e-8eb5-dbbac2f2a8ed",
   "metadata": {},
   "outputs": [
    {
     "name": "stdout",
     "output_type": "stream",
     "text": [
      "0.46153846153846156\n"
     ]
    }
   ],
   "source": [
    "qty_subj_failed_and_drunk = (\n",
    "    df_bac_trim[(df_bac_trim['FST Pass'] == 0) &\n",
    "                (df_bac_trim['BAC'] >= 0.08)].count()['Subject'])\n",
    "\n",
    "qty_subj_failed = df_bac_trim[df_bac_trim['FST Pass'] == 0].count()['Subject']\n",
    "\n",
    "ratio_sobriety_correct = qty_subj_failed_and_drunk / qty_subj_failed\n",
    "\n",
    "print(ratio_sobriety_correct)"
   ]
  },
  {
   "cell_type": "markdown",
   "id": "c69160a7-b194-42e7-adb3-95fd225447c5",
   "metadata": {},
   "source": [
    "So we see that there are 39 total failures of the sobriety test, but only 18 of the subjects who failed actually have blood alcohol content above the legal limit.  So, how awful is this 46% failure rate?"
   ]
  },
  {
   "cell_type": "code",
   "execution_count": 38,
   "id": "0ff1eee4-4c23-41a3-9aac-d0c0c72c634b",
   "metadata": {},
   "outputs": [
    {
     "data": {
      "text/plain": [
       "(-0.4818120558297154, 0.6299394643484414)"
      ]
     },
     "execution_count": 38,
     "metadata": {},
     "output_type": "execute_result"
    }
   ],
   "source": [
    "pp.proportions_ztest(count=qty_subj_failed_and_drunk,\n",
    "                     nobs=qty_subj_failed,\n",
    "                     value=0.5  # null sobriety assumes sobriety test is just a coin flip\n",
    "                    )"
   ]
  },
  {
   "cell_type": "markdown",
   "id": "1e97dbf5-5701-4780-991e-649691e636e1",
   "metadata": {},
   "source": [
    "In this case, our 46% failure rate is statistically insignificant, meaning that we accept the null hypothesis in that the sobriety test is really no better than a coin flip."
   ]
  },
  {
   "cell_type": "markdown",
   "id": "1ccbdd19-8772-439f-9261-ac51c89973c8",
   "metadata": {
    "slideshow": {
     "slide_type": "slide"
    },
    "tags": []
   },
   "source": [
    "### 3. What statistical inferences can we draw?\n",
    "The variable of a driver being pulled over correctly due to officers' intuition of 18% was statistically significant.  The variable of the sobriety test being correct more than random chance of 79% was statistically significant.\n",
    "\n",
    "### 4. Can we make any statistically-significant conclusions?\n",
    "We can conclude that the police officers in this dataset do not necessarily have great intuition when it comes to using intuition to detect drunk drivers.  However, sobriety tests seem to be effective for detection of high BACs.\n",
    "\n",
    "### 5. How could we improve this study?\n",
    "Please try to think of some ideas :)"
   ]
  },
  {
   "cell_type": "markdown",
   "id": "3d873c7a-bfa4-4683-82c5-64a8738cd93b",
   "metadata": {},
   "source": []
  }
 ],
 "metadata": {
  "kernelspec": {
   "display_name": "Python 3 (ipykernel)",
   "language": "python",
   "name": "python3"
  },
  "language_info": {
   "codemirror_mode": {
    "name": "ipython",
    "version": 3
   },
   "file_extension": ".py",
   "mimetype": "text/x-python",
   "name": "python",
   "nbconvert_exporter": "python",
   "pygments_lexer": "ipython3",
   "version": "3.9.7"
  }
 },
 "nbformat": 4,
 "nbformat_minor": 5
}
