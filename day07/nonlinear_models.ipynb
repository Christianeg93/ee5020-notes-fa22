{
 "cells": [
  {
   "cell_type": "markdown",
   "id": "7f6c6717-de74-40c6-965f-10e8ff0f1295",
   "metadata": {},
   "source": [
    "# Nonlinear Regression Models\n",
    "\n",
    "Sometimes, we do not really care about a direct, linear statistical relationship between our data and a model we want to use for estimation.  Sometimes, we just want the model, and the data might have gone through a nonlinear function in order to be represented in the response (output).\n",
    "\n",
    "In these cases, we'll want to use a nonlinear regression model.\n",
    "\n",
    "There are a few different nonlinear regression algorithms, which in general fall into supervised learning:\n",
    "\n",
    "- Support Vector Machine Regression\n",
    "- Kernel Ridge Regression\n",
    "- Decision Trees\n",
    "- AdaBoost\n",
    "- Random Forest of Decision Trees\n",
    "- Neural networks (multilayer perceptrons)  (note: this usually requires a lot of data)\n",
    "\n",
    "Let's try these on `../datasets_as/fat.csv` or `../datasets_ml/building_energy_efficiency.csv`:"
   ]
  },
  {
   "cell_type": "code",
   "execution_count": null,
   "id": "4e871a11-3fb0-41ba-b7fb-b67804d36bae",
   "metadata": {},
   "outputs": [],
   "source": []
  },
  {
   "cell_type": "code",
   "execution_count": null,
   "id": "fa868f43-c98b-44f6-8ff7-734bb4552ecd",
   "metadata": {},
   "outputs": [],
   "source": []
  },
  {
   "cell_type": "code",
   "execution_count": null,
   "id": "8294e621-4ad0-4d83-bec2-c767db0263ea",
   "metadata": {},
   "outputs": [],
   "source": []
  },
  {
   "cell_type": "code",
   "execution_count": null,
   "id": "78295b03-9a47-4ded-bc09-0606a25fba64",
   "metadata": {},
   "outputs": [],
   "source": []
  },
  {
   "cell_type": "code",
   "execution_count": null,
   "id": "0af10da4-e357-4a9b-9f0c-332cfa9f11ab",
   "metadata": {},
   "outputs": [],
   "source": []
  },
  {
   "cell_type": "code",
   "execution_count": null,
   "id": "22ea2168-2685-40ae-ab10-c49f8c17eb33",
   "metadata": {},
   "outputs": [],
   "source": []
  },
  {
   "cell_type": "code",
   "execution_count": null,
   "id": "f8210791-fe5e-462d-bb29-3c164bd1493d",
   "metadata": {},
   "outputs": [],
   "source": []
  }
 ],
 "metadata": {
  "kernelspec": {
   "display_name": "Python 3 (ipykernel)",
   "language": "python",
   "name": "python3"
  },
  "language_info": {
   "codemirror_mode": {
    "name": "ipython",
    "version": 3
   },
   "file_extension": ".py",
   "mimetype": "text/x-python",
   "name": "python",
   "nbconvert_exporter": "python",
   "pygments_lexer": "ipython3",
   "version": "3.9.7"
  }
 },
 "nbformat": 4,
 "nbformat_minor": 5
}
