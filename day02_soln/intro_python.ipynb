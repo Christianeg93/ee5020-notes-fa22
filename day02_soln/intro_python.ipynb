{
 "cells": [
  {
   "cell_type": "markdown",
   "id": "74569962-1177-4720-8676-8801fabc29ee",
   "metadata": {},
   "source": [
    "# Introduction to Python\n",
    "\n",
    "In this notebook, we'll explore more about Python's syntax and module (library) loading system.  You'll work through some writing some functions in this notebook before modifying `py_demo_lib.py` and adding functions there so that you can abstract your code away and keep the \"big picture\" items in the notebook for presentation."
   ]
  },
  {
   "cell_type": "markdown",
   "id": "48a265e4-c47c-458c-96a0-3bc2363b89ef",
   "metadata": {},
   "source": [
    "## Python syntax"
   ]
  },
  {
   "cell_type": "markdown",
   "id": "c751be5b-b27f-4103-9a69-8ed86874c37d",
   "metadata": {},
   "source": [
    "### Data types and variables\n",
    "\n",
    "- **int**: integer numeric type\n",
    "- **float**: floating-point (decimal point) numeric type\n",
    "- **str**: sequence type for text\n",
    "- **bool**: True or False (Boolean) type\n",
    "\n",
    "Use the assignment `=` operator to assign values on the right-hand side to names or objects on the left-hand side.\n",
    "\n",
    "You can hint to Python that a variable should be a particular data type by writing a colon immediately after the name and providing the data type.  For instance:\n",
    "\n",
    "```\n",
    "PI: float = 3.141592\n",
    "```\n",
    "\n",
    "Try using variables to solve the problem below:\n",
    "\n",
    "Say I have four items in my shopping basket: three bags of Takis (2 USD each bag), and a box of chicken tenders (5 USD each box). I want to compute the subtotal (price without tax) of this basket:"
   ]
  },
  {
   "cell_type": "code",
   "execution_count": 1,
   "id": "80348bd1-d047-4441-8802-255ca11b5de8",
   "metadata": {},
   "outputs": [
    {
     "name": "stdout",
     "output_type": "stream",
     "text": [
      "The subtotal is $11\n"
     ]
    }
   ],
   "source": [
    "takis_bag_price_usd = 2\n",
    "takis_bag_count = 3\n",
    "\n",
    "tenders_box_price_usd = 5\n",
    "tenders_box_count = 1\n",
    "\n",
    "subtotal = (takis_bag_price_usd * takis_bag_count\n",
    "            + tenders_box_price_usd * tenders_box_count)\n",
    "print(f\"The subtotal is ${subtotal}\")"
   ]
  },
  {
   "cell_type": "markdown",
   "id": "ffaf5554-392d-4106-808c-b72527260955",
   "metadata": {},
   "source": [
    "### Terminology refresher\n",
    "\n",
    "- When we \"use\" a function, we **call** (invoke) the **function**\n",
    "  - Functions also used to be called subroutines\n",
    "- The inputs to a function are input **parameters** or **arguments**\n",
    "- The output of a function is the **return value**\n",
    "- Use parentheses to surround the parameter list\n",
    "- A **class** is a \"definable\" data type\n",
    "- All data in Python is considered an **object** of some **class** (data type)\n",
    "\n",
    "### Scoping\n",
    "\n",
    "Scoping in Python is performed by whitespace.  This allows you to visually note what code is part of which block, and to purposefully encourage you to keep blocks small.\n",
    "\n",
    "A colon (:) at the end of the line indicates to Python that you will begin a new scope.  In the new scope, anything that is created inside the scope will not be automatically available on the outside of the scope.\n",
    "\n",
    "The function definition provides the simplest form of scoping.  For example, this function that simply performs a multiply-add (multiply-accumulate) function:"
   ]
  },
  {
   "cell_type": "code",
   "execution_count": 2,
   "id": "42b95a1e-1715-4278-a690-4f85a2647313",
   "metadata": {},
   "outputs": [],
   "source": [
    "def multiply_add(num_a: float, num_b: float, num_c: float) -> float:\n",
    "    \"\"\"\n",
    "    Performs the multiply-accumulate operation.\n",
    "    \n",
    "    :example: multiply_add(1.0, 2.0, 3.0) -> 7.0\n",
    "    \n",
    "    :param num_a: the accumulator a\n",
    "    :param num_b: the product operand b\n",
    "    :param num_c: the product operand c\n",
    "    :returns: a + b * c\n",
    "    \"\"\"\n",
    "    return num_a + num_b * num_c"
   ]
  },
  {
   "cell_type": "code",
   "execution_count": 3,
   "id": "810a84fc-6d71-4f4e-8199-39e4626c09a9",
   "metadata": {},
   "outputs": [
    {
     "data": {
      "text/plain": [
       "7.0"
      ]
     },
     "execution_count": 3,
     "metadata": {},
     "output_type": "execute_result"
    }
   ],
   "source": [
    "multiply_add(1.0, 2.0, 3.0)"
   ]
  },
  {
   "cell_type": "markdown",
   "id": "185db8e5-d2cd-4cb5-803e-a1a8598dd461",
   "metadata": {},
   "source": [
    "## Programming practices\n",
    "\n",
    "This course exists to help you get used to best practices when it comes to programming.\n",
    "\n",
    "Here are a few best practices:\n",
    "- Make clear function signatures, especially in Python\n",
    "- A function should only do one task -- you can split up tasks into multiple functions\n",
    "- Avoid global-context variables unless strictly needed\n",
    "- Use descriptive names:\n",
    "  - Constants should be fully capitalized\n",
    "  - Use snake_case (underscores) for variables and function names\n",
    "  - Use CamelCase for data type and class names\n",
    "  - Include units in variable names as necessary\n",
    "- Run test cases (examples) as the main() for library modules\n",
    "- Follow the Design Recipe\n",
    "\n",
    "### The Function Design Recipe\n",
    "\n",
    "In this class, all functions should follow the Function Design Recipe.  It is a structured way to approach writing functions that allows you to focus on a clean design for a solution to a problem. \n",
    "\n",
    "0. Start by exploring the problem by hand, making sure you understand the problem.\n",
    "1. Define the function signature and purpose portions of the function header.\n",
    "2. Determine the strategy for solving the problem: function composition or data decomposition.\n",
    "3. Explain the input parameters (arguments) and the return value of the function.\n",
    "4. Provide some examples (test cases).\n",
    "5. Finally, write the function body (action code)."
   ]
  },
  {
   "cell_type": "markdown",
   "id": "758d6f4c-9b70-4784-997c-28ca4a879893",
   "metadata": {},
   "source": [
    "## Function Design Recipe Practice\n",
    "\n",
    "### Problem 1\n",
    "\n",
    "Let's calculate the amount of ice cream that a waffle cone can contain!  Assume that our waffle cone is 4 inches tall and has a 1.5 inch radius at the open end.  One inch is equivalent to 2.54 centimeters.  \n",
    "\n",
    "What is the volume of ice cream inside this waffle cone, given in centimeters cubed?"
   ]
  },
  {
   "cell_type": "code",
   "execution_count": 4,
   "id": "fdfec74c-d016-4aee-8605-ff89b3e1478c",
   "metadata": {},
   "outputs": [],
   "source": [
    "def calc_waffle_cone_volume(radius: float, height: float) -> float:\n",
    "    \"\"\"\n",
    "    Calculates the volume of a cone, given the radius and height,\n",
    "      assuming the radius and height are in the same units.\n",
    "      \n",
    "    :example: calc_waffle_cone_volume(1., 1.) -> 1.047\n",
    "    \n",
    "    :param radius: the radius of the cone in some unit\n",
    "    :param height: the height of the cone in the same unit as the radius\n",
    "    :returns: volume of the cone\n",
    "    \"\"\"\n",
    "    PI: float = 3.141592\n",
    "    return (1./3.) * PI * (radius ** 2) * height"
   ]
  },
  {
   "cell_type": "code",
   "execution_count": 5,
   "id": "5126439e-b466-4cf1-8148-a4e3bed38efc",
   "metadata": {},
   "outputs": [
    {
     "data": {
      "text/plain": [
       "1.0471973333333333"
      ]
     },
     "execution_count": 5,
     "metadata": {},
     "output_type": "execute_result"
    }
   ],
   "source": [
    "calc_waffle_cone_volume(1., 1.)"
   ]
  },
  {
   "cell_type": "markdown",
   "id": "c9ac6891-695c-496f-aad3-10bf11528116",
   "metadata": {},
   "source": [
    "## Python Module Practice"
   ]
  },
  {
   "cell_type": "markdown",
   "id": "81f0fc81-e7ca-419b-870a-e3f226f2f09b",
   "metadata": {},
   "source": [
    "### Problem 1\n",
    "\n",
    "Using the [NumPy documentation](https://numpy.org/doc/), write a version of the multiply-accumulate function that accepts `np.ndarray` objects instead of just singular floating point objects, inside `py_demo_lib.py`.  Then, test your function definition by importing `py_demo_lib` and calling your function."
   ]
  },
  {
   "cell_type": "code",
   "execution_count": 6,
   "id": "85f5db90-d327-49bf-9bb7-a878d2b3da5d",
   "metadata": {},
   "outputs": [],
   "source": [
    "import numpy as np"
   ]
  },
  {
   "cell_type": "code",
   "execution_count": 7,
   "id": "e0113886-d12e-430a-ae0c-d46c804ac480",
   "metadata": {},
   "outputs": [],
   "source": [
    "some_array = np.array([1, 2, 3])"
   ]
  },
  {
   "cell_type": "code",
   "execution_count": 8,
   "id": "13c135f3-8cea-4c22-801b-b96af6243fb7",
   "metadata": {},
   "outputs": [
    {
     "data": {
      "text/plain": [
       "array([1, 2, 3])"
      ]
     },
     "execution_count": 8,
     "metadata": {},
     "output_type": "execute_result"
    }
   ],
   "source": [
    "some_array"
   ]
  },
  {
   "cell_type": "code",
   "execution_count": 9,
   "id": "8e103e78-34e5-45ed-ab1a-49f063140b2e",
   "metadata": {},
   "outputs": [
    {
     "data": {
      "text/plain": [
       "array([1, 3, 6])"
      ]
     },
     "execution_count": 9,
     "metadata": {},
     "output_type": "execute_result"
    }
   ],
   "source": [
    "np.cumsum(some_array)"
   ]
  },
  {
   "cell_type": "code",
   "execution_count": 10,
   "id": "6c21f80f-1451-4d85-bdbf-7cbc7e17d881",
   "metadata": {},
   "outputs": [],
   "source": [
    "another_array = np.arange(1, 10)"
   ]
  },
  {
   "cell_type": "code",
   "execution_count": 11,
   "id": "6a198263-5cdf-4e5b-8eb8-3829d8c185ee",
   "metadata": {},
   "outputs": [
    {
     "data": {
      "text/plain": [
       "array([1, 2, 3, 4, 5, 6, 7, 8, 9])"
      ]
     },
     "execution_count": 11,
     "metadata": {},
     "output_type": "execute_result"
    }
   ],
   "source": [
    "another_array"
   ]
  },
  {
   "cell_type": "code",
   "execution_count": 12,
   "id": "9814fbe5-f7f1-4e4e-ac75-afe11fbac33a",
   "metadata": {},
   "outputs": [
    {
     "data": {
      "text/plain": [
       "array([ 1,  3,  6, 10, 15, 21, 28, 36, 45])"
      ]
     },
     "execution_count": 12,
     "metadata": {},
     "output_type": "execute_result"
    }
   ],
   "source": [
    "np.cumsum(another_array)"
   ]
  },
  {
   "cell_type": "code",
   "execution_count": 13,
   "id": "9c587127-4ccf-4632-915d-8ba920080003",
   "metadata": {},
   "outputs": [],
   "source": [
    "import py_demo_lib as pdl"
   ]
  },
  {
   "cell_type": "code",
   "execution_count": 14,
   "id": "181edd81-30df-45b1-9a91-f7a9b1b60165",
   "metadata": {},
   "outputs": [
    {
     "data": {
      "text/plain": [
       "array([ 2,  6, 12, 20, 30, 42, 56, 72, 90])"
      ]
     },
     "execution_count": 14,
     "metadata": {},
     "output_type": "execute_result"
    }
   ],
   "source": [
    "pdl.multiply_add(another_array, another_array, another_array)"
   ]
  },
  {
   "cell_type": "code",
   "execution_count": 15,
   "id": "f2191111-b67c-42a0-a5cb-8686d054fdf9",
   "metadata": {},
   "outputs": [
    {
     "data": {
      "text/plain": [
       "array([ 2,  6, 12, 20, 30, 42, 56, 72, 90])"
      ]
     },
     "execution_count": 15,
     "metadata": {},
     "output_type": "execute_result"
    }
   ],
   "source": [
    "pdl.multiply_add_ndarray(another_array, another_array, another_array)"
   ]
  },
  {
   "cell_type": "code",
   "execution_count": null,
   "id": "ed09cfea-2f41-4274-a73d-a80c5044ec58",
   "metadata": {},
   "outputs": [],
   "source": []
  },
  {
   "cell_type": "code",
   "execution_count": 16,
   "id": "1872ca58-9441-4b1a-8534-529b7278609d",
   "metadata": {},
   "outputs": [],
   "source": [
    "half_circle_deg_angles = np.arange(-180., 200., 20.)\n",
    "half_circle_rad_angles = np.deg2rad(half_circle_deg_angles)"
   ]
  },
  {
   "cell_type": "code",
   "execution_count": 17,
   "id": "96575b1c-ca15-42f2-bd78-4ea4252f29b1",
   "metadata": {},
   "outputs": [],
   "source": [
    "import matplotlib.pyplot as plt"
   ]
  },
  {
   "cell_type": "code",
   "execution_count": 18,
   "id": "6c055be3-895e-43d2-ae3a-c25a98436b85",
   "metadata": {},
   "outputs": [
    {
     "data": {
      "text/plain": [
       "<matplotlib.collections.PathCollection at 0x7f7a19bfe880>"
      ]
     },
     "execution_count": 18,
     "metadata": {},
     "output_type": "execute_result"
    },
    {
     "data": {
      "image/png": "[encoded data removed]",
      "text/plain": [
       "<Figure size 432x288 with 1 Axes>"
      ]
     },
     "metadata": {
      "needs_background": "light"
     },
     "output_type": "display_data"
    }
   ],
   "source": [
    "plt.scatter(half_circle_deg_angles, half_circle_rad_angles)"
   ]
  },
  {
   "cell_type": "code",
   "execution_count": null,
   "id": "3a0e2fb5-0fd6-4838-bcc1-f5d6537a0bbd",
   "metadata": {},
   "outputs": [],
   "source": []
  }
 ],
 "metadata": {
  "kernelspec": {
   "display_name": "Python 3 (ipykernel)",
   "language": "python",
   "name": "python3"
  },
  "language_info": {
   "codemirror_mode": {
    "name": "ipython",
    "version": 3
   },
   "file_extension": ".py",
   "mimetype": "text/x-python",
   "name": "python",
   "nbconvert_exporter": "python",
   "pygments_lexer": "ipython3",
   "version": "3.9.7"
  },
  "toc-autonumbering": true
 },
 "nbformat": 4,
 "nbformat_minor": 5
}
