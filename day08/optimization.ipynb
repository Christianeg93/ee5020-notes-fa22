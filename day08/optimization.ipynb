{
 "cells": [
  {
   "cell_type": "code",
   "execution_count": null,
   "id": "9b8491dc-9b8d-4a08-898a-f3fa5e12efe2",
   "metadata": {},
   "outputs": [],
   "source": [
    "import numpy as np\n",
    "import matplotlib.pyplot as plt\n",
    "import scipy.optimize\n",
    "from typing import Callable"
   ]
  },
  {
   "cell_type": "markdown",
   "id": "85a43cce-d6c9-4526-a727-1f6fad5b5300",
   "metadata": {},
   "source": [
    "# Optimization with SciPy\n",
    "\n",
    "## What is optimization?\n",
    "\n",
    "- Problem\n",
    "- Constraints\n",
    "- Objective function\n",
    "- Gradient\n",
    "- Problem type\n",
    "- Dimensionality\n",
    "\n",
    "## Have we done optimization already?\n",
    "\n",
    "1. Classic example: Least-squares linear regression\n",
    "\n",
    "## Example problem\n",
    "\n",
    "What is the maximal rectangle area's length/height that can fit within a parabola?  Let a = 1, b = 7 for the parabola.\n",
    "\n",
    "Variable names for the rectangle: l for length, h for height, origin_x, origin_y for the bottom-left origin of the rectangle."
   ]
  },
  {
   "cell_type": "code",
   "execution_count": null,
   "id": "c4d18735-45f3-4901-ac06-571012380563",
   "metadata": {},
   "outputs": [],
   "source": []
  },
  {
   "cell_type": "code",
   "execution_count": null,
   "id": "82bbea3e-cf46-4af3-9610-e058adb13c82",
   "metadata": {},
   "outputs": [],
   "source": []
  },
  {
   "cell_type": "code",
   "execution_count": null,
   "id": "e85ac119-f336-4edc-97ac-221f8cf4a073",
   "metadata": {},
   "outputs": [],
   "source": []
  },
  {
   "cell_type": "markdown",
   "id": "2caf6d94-bc43-4cfc-8e3b-999b5d7a5598",
   "metadata": {},
   "source": [
    "## Fitting a rectangular prism under a paraboloid\n",
    "\n",
    "This one is a little bit trickier.  We have to make a formulation that allows for origin_x and origin_y, where the height is the value of the paraboloid."
   ]
  },
  {
   "cell_type": "code",
   "execution_count": null,
   "id": "98b5ebaf-52db-44de-bb5e-fb702be77a2f",
   "metadata": {},
   "outputs": [],
   "source": []
  },
  {
   "cell_type": "code",
   "execution_count": null,
   "id": "d3ff5469-501a-41cd-98ec-3bc601e53724",
   "metadata": {},
   "outputs": [],
   "source": []
  }
 ],
 "metadata": {
  "kernelspec": {
   "display_name": "Python 3 (ipykernel)",
   "language": "python",
   "name": "python3"
  },
  "language_info": {
   "codemirror_mode": {
    "name": "ipython",
    "version": 3
   },
   "file_extension": ".py",
   "mimetype": "text/x-python",
   "name": "python",
   "nbconvert_exporter": "python",
   "pygments_lexer": "ipython3",
   "version": "3.9.7"
  }
 },
 "nbformat": 4,
 "nbformat_minor": 5
}
