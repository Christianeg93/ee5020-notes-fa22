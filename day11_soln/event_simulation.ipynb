{
 "cells": [
  {
   "cell_type": "markdown",
   "id": "f350cfa6-e5d5-4ec1-9725-de7c85ec93b1",
   "metadata": {},
   "source": [
    "# Event-based Simulation with SimPy"
   ]
  },
  {
   "cell_type": "code",
   "execution_count": 1,
   "id": "88c96fd6-714e-4206-9170-6457bf0da069",
   "metadata": {},
   "outputs": [],
   "source": [
    "import simpy as sp\n",
    "import numpy as np\n",
    "from typing import List, Tuple, Dict, Union\n",
    "\n",
    "# alternatively to using np.random's distributions,\n",
    "#   you can use a distribution directly from scipy.stats:\n",
    "# import scipy.stats"
   ]
  },
  {
   "cell_type": "markdown",
   "id": "8c1075ba-48e3-4797-9ebe-ea3d400aa385",
   "metadata": {},
   "source": [
    "## SimPy Basics\n",
    "\n",
    "SimPy has a few basic concepts to let you perform event-based simulation:\n",
    "1. **Environment:** think of this as \"the world\" in which your simulation occurs\n",
    "2. **Event:** an event that occurs in the environment -- it can be a happening, from time ticking to an action occurring\n",
    "3. **Process:** described by Python generator functions -- they create events and `yield` (yeet) them out to the world\n",
    "4. **Timeout:** a special time-based event, that describes how long it takes for an event to occur (assumed units)\n",
    "5. **Resource:** an object representing a resource that can be acquired or released by Processes (gas station with limited fuel pumps)\n",
    "6. **Container:** an object representing a resource that can be produced or consumed (like electrical power or apples)\n",
    "7. **Store:** an object representing a store that can replenish or sell its items (dynamic quantities)\n",
    "\n",
    "One thing that is key about event-based simulation is that, much like embedded systems, all processes are **interruptible** by priority, meaning that processes can be at different priorities (just like real life).\n",
    "\n",
    "If you need to yield multiple events (actions) at a time, use the `&` operator.  If you need to yield at least one event (whichever event is closest), use the `|` operator."
   ]
  },
  {
   "cell_type": "code",
   "execution_count": 16,
   "id": "9eb0187f-9d1b-4b6e-99a6-92d56bcd47d6",
   "metadata": {},
   "outputs": [],
   "source": [
    "def clock(env: sp.Environment, name: str, tick: float):\n",
    "    \"\"\"\n",
    "    generator: some clock that ticks at \"tick\" seconds\n",
    "    \n",
    "    :param env: the universe (SimPy Environment)\n",
    "    :param name: the name of the clock\n",
    "    :param tick: how often this clock will speak\n",
    "    \"\"\"\n",
    "    while True:\n",
    "        print(f\"clock {name}, current time: {env.now:.2f}\")\n",
    "        yield env.timeout(tick)"
   ]
  },
  {
   "cell_type": "code",
   "execution_count": 17,
   "id": "cc0d20ee-c1cd-4bd7-83ae-82235754ef8a",
   "metadata": {},
   "outputs": [],
   "source": [
    "test_env = sp.Environment()\n",
    "clock_slow = clock(test_env, \"slow\", 2.0)\n",
    "clock_fast = clock(test_env, \"fast\", 0.5)\n",
    "clock_ultra = clock(test_env, \"ultra\", 0.1)"
   ]
  },
  {
   "cell_type": "code",
   "execution_count": 18,
   "id": "e14dfe7f-3925-4bfa-93d7-a16650afdde7",
   "metadata": {},
   "outputs": [
    {
     "data": {
      "text/plain": [
       "<generator object clock at 0x000002C3D6AC4190>"
      ]
     },
     "execution_count": 18,
     "metadata": {},
     "output_type": "execute_result"
    }
   ],
   "source": [
    "clock_ultra"
   ]
  },
  {
   "cell_type": "code",
   "execution_count": 19,
   "id": "e0747bb0-fbfb-46d5-8127-6f776bdea445",
   "metadata": {},
   "outputs": [
    {
     "data": {
      "text/plain": [
       "<Process(clock) object at 0x2c3d6998040>"
      ]
     },
     "execution_count": 19,
     "metadata": {},
     "output_type": "execute_result"
    }
   ],
   "source": [
    "test_env.process(clock_ultra)\n",
    "test_env.process(clock_slow)\n",
    "test_env.process(clock_fast)"
   ]
  },
  {
   "cell_type": "code",
   "execution_count": 20,
   "id": "b1450f6b-6c8e-410e-9af7-9bb8d7691fed",
   "metadata": {},
   "outputs": [
    {
     "name": "stdout",
     "output_type": "stream",
     "text": [
      "clock ultra, current time: 0.00\n",
      "clock slow, current time: 0.00\n",
      "clock fast, current time: 0.00\n",
      "clock ultra, current time: 0.10\n",
      "clock ultra, current time: 0.20\n",
      "clock ultra, current time: 0.30\n",
      "clock ultra, current time: 0.40\n",
      "clock fast, current time: 0.50\n",
      "clock ultra, current time: 0.50\n",
      "clock ultra, current time: 0.60\n",
      "clock ultra, current time: 0.70\n",
      "clock ultra, current time: 0.80\n",
      "clock ultra, current time: 0.90\n",
      "clock ultra, current time: 1.00\n",
      "clock fast, current time: 1.00\n",
      "clock ultra, current time: 1.10\n",
      "clock ultra, current time: 1.20\n",
      "clock ultra, current time: 1.30\n",
      "clock ultra, current time: 1.40\n",
      "clock fast, current time: 1.50\n",
      "clock ultra, current time: 1.50\n",
      "clock ultra, current time: 1.60\n",
      "clock ultra, current time: 1.70\n",
      "clock ultra, current time: 1.80\n",
      "clock ultra, current time: 1.90\n",
      "clock slow, current time: 2.00\n",
      "clock fast, current time: 2.00\n",
      "clock ultra, current time: 2.00\n",
      "clock ultra, current time: 2.10\n",
      "clock ultra, current time: 2.20\n",
      "clock ultra, current time: 2.30\n",
      "clock ultra, current time: 2.40\n",
      "clock fast, current time: 2.50\n",
      "clock ultra, current time: 2.50\n",
      "clock ultra, current time: 2.60\n",
      "clock ultra, current time: 2.70\n",
      "clock ultra, current time: 2.80\n",
      "clock ultra, current time: 2.90\n",
      "clock fast, current time: 3.00\n",
      "clock ultra, current time: 3.00\n",
      "clock ultra, current time: 3.10\n",
      "clock ultra, current time: 3.20\n",
      "clock ultra, current time: 3.30\n",
      "clock ultra, current time: 3.40\n",
      "clock fast, current time: 3.50\n",
      "clock ultra, current time: 3.50\n",
      "clock ultra, current time: 3.60\n",
      "clock ultra, current time: 3.70\n",
      "clock ultra, current time: 3.80\n",
      "clock ultra, current time: 3.90\n",
      "clock slow, current time: 4.00\n",
      "clock fast, current time: 4.00\n",
      "clock ultra, current time: 4.00\n",
      "clock ultra, current time: 4.10\n",
      "clock ultra, current time: 4.20\n",
      "clock ultra, current time: 4.30\n",
      "clock ultra, current time: 4.40\n",
      "clock fast, current time: 4.50\n",
      "clock ultra, current time: 4.50\n",
      "clock ultra, current time: 4.60\n",
      "clock ultra, current time: 4.70\n",
      "clock ultra, current time: 4.80\n",
      "clock ultra, current time: 4.90\n",
      "clock ultra, current time: 5.00\n"
     ]
    }
   ],
   "source": [
    "test_env.run(until=5.)"
   ]
  },
  {
   "cell_type": "markdown",
   "id": "c44bdc8e-3c30-4a78-9c90-2dea976c2d40",
   "metadata": {},
   "source": [
    "### DMV customer example\n",
    "\n",
    "Just to show everything in context, I'll modify the [Bank example](https://simpy.readthedocs.io/en/latest/examples/bank_renege.html) to the DMV:"
   ]
  },
  {
   "cell_type": "code",
   "execution_count": 34,
   "id": "746a1f55-af1e-4879-991d-eb234933f1dd",
   "metadata": {},
   "outputs": [
    {
     "name": "stdout",
     "output_type": "stream",
     "text": [
      "SIMULATION: DMV in all of its glory (time units are minutes)\n",
      "at time    0.00, Customer 00 arrived\n",
      "at time    0.00, Customer 00 waited   0.00\n",
      "at time    2.40, Customer 01 arrived\n",
      "at time    2.40, Customer 01 waited   0.00\n",
      "at time    2.68, Customer 02 arrived\n",
      "at time    4.09, Customer 03 arrived\n",
      "at time    4.17, Customer 04 arrived\n",
      "at time    4.24, Customer 05 arrived\n",
      "at time    5.98, Customer 06 arrived\n",
      "at time    7.21, Customer 07 arrived\n",
      "at time    7.30, Customer 08 arrived\n",
      "at time    8.20, Customer 09 arrived\n",
      "at time    9.45, Customer 10 arrived\n",
      "at time   11.28, Customer 11 arrived\n",
      "at time   11.94, Customer 12 arrived\n",
      "at time   12.39, Customer 13 arrived\n",
      "at time   12.57, Customer 14 arrived\n",
      "at time   12.96, Customer 15 arrived\n",
      "at time   13.67, Customer 16 arrived\n",
      "at time   14.13, Customer 17 arrived\n",
      "at time   14.48, Customer 18 arrived\n",
      "at time   15.35, Customer 19 arrived\n",
      "at time   16.69, Customer 20 arrived\n",
      "at time   17.77, Customer 21 arrived\n",
      "at time   18.91, Customer 22 arrived\n",
      "at time   19.12, Customer 07 left the line after waiting  11.91 minutes\n",
      "at time   19.84, Customer 01 finished their transactions\n",
      "at time   19.84, Customer 02 waited  17.15\n",
      "at time   20.03, Customer 23 arrived\n",
      "at time   20.19, Customer 24 arrived\n",
      "at time   20.22, Customer 25 arrived\n",
      "at time   21.53, Customer 26 arrived\n",
      "at time   22.09, Customer 27 arrived\n",
      "at time   22.49, Customer 28 arrived\n",
      "at time   22.62, Customer 29 arrived\n",
      "at time   22.79, Customer 06 left the line after waiting  16.82 minutes\n",
      "at time   23.25, Customer 12 left the line after waiting  11.31 minutes\n",
      "at time   23.69, Customer 02 finished their transactions\n",
      "at time   23.69, Customer 03 waited  19.59\n",
      "at time   24.00, Customer 30 arrived\n",
      "at time   26.10, Customer 31 arrived\n",
      "at time   27.12, Customer 11 left the line after waiting  15.84 minutes\n",
      "at time   27.15, Customer 32 arrived\n",
      "at time   27.19, Customer 33 arrived\n",
      "at time   27.81, Customer 34 arrived\n",
      "at time   28.62, Customer 00 finished their transactions\n",
      "at time   28.62, Customer 04 waited  24.44\n",
      "at time   28.84, Customer 09 left the line after waiting  20.64 minutes\n",
      "at time   29.21, Customer 04 finished their transactions\n",
      "at time   29.21, Customer 05 waited  24.97\n",
      "at time   29.35, Customer 16 left the line after waiting  15.68 minutes\n",
      "at time   29.84, Customer 35 arrived\n",
      "at time   32.39, Customer 36 arrived\n",
      "at time   34.08, Customer 15 left the line after waiting  21.11 minutes\n",
      "at time   34.53, Customer 37 arrived\n",
      "at time   35.84, Customer 38 arrived\n",
      "at time   35.97, Customer 39 arrived\n",
      "at time   36.03, Customer 23 left the line after waiting  16.00 minutes\n",
      "at time   36.06, Customer 20 left the line after waiting  19.37 minutes\n",
      "at time   36.09, Customer 40 arrived\n",
      "at time   36.25, Customer 08 left the line after waiting  28.95 minutes\n",
      "at time   36.29, Customer 27 left the line after waiting  14.19 minutes\n",
      "at time   37.56, Customer 22 left the line after waiting  18.65 minutes\n",
      "at time   37.81, Customer 41 arrived\n",
      "at time   38.19, Customer 42 arrived\n",
      "at time   38.38, Customer 43 arrived\n",
      "at time   38.40, Customer 17 left the line after waiting  24.27 minutes\n",
      "at time   39.67, Customer 44 arrived\n",
      "at time   39.87, Customer 45 arrived\n",
      "at time   40.18, Customer 46 arrived\n",
      "at time   40.31, Customer 05 finished their transactions\n",
      "at time   40.31, Customer 10 waited  30.87\n",
      "at time   40.68, Customer 47 arrived\n",
      "at time   42.89, Customer 13 left the line after waiting  30.49 minutes\n",
      "at time   43.76, Customer 48 arrived\n",
      "at time   44.57, Customer 18 left the line after waiting  30.09 minutes\n",
      "at time   44.83, Customer 34 left the line after waiting  17.02 minutes\n",
      "at time   44.88, Customer 49 arrived\n",
      "at time   45.22, Customer 31 left the line after waiting  19.12 minutes\n",
      "at time   45.30, Customer 26 left the line after waiting  23.77 minutes\n",
      "at time   45.61, Customer 50 arrived\n",
      "at time   45.99, Customer 51 arrived\n",
      "at time   48.13, Customer 52 arrived\n",
      "at time   48.32, Customer 53 arrived\n",
      "at time   48.68, Customer 39 left the line after waiting  12.70 minutes\n",
      "at time   49.29, Customer 54 arrived\n",
      "at time   49.45, Customer 33 left the line after waiting  22.26 minutes\n",
      "at time   49.58, Customer 29 left the line after waiting  26.96 minutes\n",
      "at time   49.97, Customer 55 arrived\n",
      "at time   50.25, Customer 32 left the line after waiting  23.10 minutes\n",
      "at time   50.33, Customer 19 left the line after waiting  34.98 minutes\n",
      "at time   50.60, Customer 30 left the line after waiting  26.61 minutes\n",
      "at time   50.85, Customer 38 left the line after waiting  15.01 minutes\n",
      "at time   51.37, Customer 25 left the line after waiting  31.15 minutes\n",
      "at time   51.52, Customer 56 arrived\n",
      "at time   51.60, Customer 14 left the line after waiting  39.03 minutes\n",
      "at time   51.69, Customer 57 arrived\n",
      "at time   51.92, Customer 21 left the line after waiting  34.14 minutes\n",
      "at time   52.14, Customer 58 arrived\n",
      "at time   52.42, Customer 10 finished their transactions\n",
      "at time   52.42, Customer 24 waited  32.22\n",
      "at time   52.50, Customer 45 left the line after waiting  12.63 minutes\n",
      "at time   52.54, Customer 59 arrived\n",
      "at time   52.54, Customer 28 left the line after waiting  30.05 minutes\n",
      "at time   56.72, Customer 37 left the line after waiting  22.19 minutes\n",
      "at time   58.50, Customer 50 left the line after waiting  12.89 minutes\n",
      "at time   58.66, Customer 47 left the line after waiting  17.98 minutes\n",
      "at time   59.70, Customer 35 left the line after waiting  29.86 minutes\n",
      "at time   59.81, Customer 43 left the line after waiting  21.43 minutes\n",
      "at time   59.95, Customer 40 left the line after waiting  23.86 minutes\n",
      "at time   62.84, Customer 41 left the line after waiting  25.03 minutes\n",
      "at time   63.39, Customer 58 left the line after waiting  11.25 minutes\n",
      "at time   63.40, Customer 24 finished their transactions\n",
      "at time   63.40, Customer 36 waited  31.00\n",
      "at time   63.63, Customer 53 left the line after waiting  15.30 minutes\n",
      "at time   63.95, Customer 36 finished their transactions\n",
      "at time   63.95, Customer 42 waited  25.76\n",
      "at time   64.22, Customer 57 left the line after waiting  12.53 minutes\n",
      "at time   66.88, Customer 59 left the line after waiting  14.34 minutes\n",
      "at time   67.31, Customer 52 left the line after waiting  19.18 minutes\n",
      "at time   68.36, Customer 49 left the line after waiting  23.48 minutes\n",
      "at time   68.58, Customer 44 left the line after waiting  28.91 minutes\n",
      "at time   69.66, Customer 51 left the line after waiting  23.67 minutes\n",
      "at time   72.94, Customer 55 left the line after waiting  22.96 minutes\n",
      "at time   77.13, Customer 48 left the line after waiting  33.36 minutes\n",
      "at time   79.04, Customer 46 left the line after waiting  38.86 minutes\n",
      "at time   79.04, Customer 56 left the line after waiting  27.52 minutes\n",
      "at time   82.05, Customer 54 left the line after waiting  32.76 minutes\n",
      "at time   87.41, Customer 03 finished their transactions\n",
      "at time   96.70, Customer 42 finished their transactions\n"
     ]
    }
   ],
   "source": [
    "RANDOM_SEED = 42\n",
    "NEW_CUSTOMERS = 60  # Total number of customers\n",
    "INTERVAL_CUSTOMERS = 1.0  # Generate new customers roughly every x minutes\n",
    "MIN_PATIENCE = 10  # Min. customer patience\n",
    "MAX_PATIENCE = 40  # Max. customer patience\n",
    "\n",
    "\n",
    "def source(\n",
    "    env: sp.Environment, \n",
    "    number: int,  # number of customers to spawn\n",
    "    interval: float,  # some time interval into the exponential dist.\n",
    "    counter: sp.Resource,  # the DMV counter\n",
    "    the_rng: np.random.Generator\n",
    "):\n",
    "    \"\"\"Source (\"the door\") generates customers randomly\"\"\"\n",
    "    for i in range(number):\n",
    "        customer_generator = customer(env, 'Customer %02d' % i, counter, 12.0, the_rng)\n",
    "        env.process(customer_generator)\n",
    "        spawn_time = the_rng.exponential(interval)\n",
    "        yield env.timeout(spawn_time)\n",
    "\n",
    "\n",
    "def customer(\n",
    "    env: sp.Environment, \n",
    "    name: str, \n",
    "    counter: sp.Resource, \n",
    "    time_request_takes: float, \n",
    "    the_rng\n",
    "):\n",
    "    \"\"\"Customer arrives (spawned by \"the door\"), waits to get served and leaves after they're served.\"\"\"\n",
    "    arrive = env.now\n",
    "    print('at time %7.2f, %s arrived' % (arrive, name))\n",
    "\n",
    "    with counter.request() as req:\n",
    "        patience = the_rng.uniform(MIN_PATIENCE, MAX_PATIENCE)\n",
    "        # Wait for the counter or abort at the end of our tether\n",
    "        results = yield req | env.timeout(patience)\n",
    "\n",
    "        wait = env.now - arrive\n",
    "\n",
    "        if req in results:\n",
    "            # We got to the counter\n",
    "            print('at time %7.2f, %s waited %6.2f' % (env.now, name, wait))\n",
    "\n",
    "            tib = the_rng.exponential(time_request_takes)\n",
    "            yield env.timeout(tib)\n",
    "            print('at time %7.2f, %s finished their transactions' % (env.now, name))\n",
    "\n",
    "        else:\n",
    "            # We reneged\n",
    "            print('at time %7.2f, %s left the line after waiting %6.2f minutes' % (env.now, name, wait))\n",
    "\n",
    "\n",
    "# Setup and start the simulation\n",
    "print('SIMULATION: DMV in all of its glory (time units are minutes)')\n",
    "the_rng = np.random.default_rng(RANDOM_SEED)\n",
    "env = sp.Environment()\n",
    "\n",
    "# Start processes and run\n",
    "counter = sp.Resource(env, capacity=2)\n",
    "env.process(source(env, NEW_CUSTOMERS, INTERVAL_CUSTOMERS, counter, the_rng))\n",
    "env.run()"
   ]
  },
  {
   "cell_type": "markdown",
   "id": "298b8c2b-41a4-4b6d-b6d3-348f88d07b15",
   "metadata": {},
   "source": [
    "### Sample SimPy problem\n",
    "\n",
    "Let's perform a simulation of four electric cars (EV, electric vehicles) trying to drive to and use a battery charging station. A car will perform three actions:\n",
    "1. Driving to the EV charging station (accept the driving time as an input parameter).\n",
    "2. Request/acquire a charging spot.\n",
    "3. Charge the battery (accept the time it takes to charge the battery as an input parameter).\n",
    "\n",
    "Define the charging station as only having two spots, so we have a likely chance of at least one car waiting for charging to complete.\n",
    "Let's use a uniform distribution between 2 and 6 miles to model the distance each car has to drive in order to reach the EV charging station. Let's also assume that the cars can drive 35 miles per hour to reach the charging station.  Let's also use a uniform distribution to model the number of minutes that each car has to charge, from 30 minutes to 90 minutes.\n",
    "\n",
    "LPT: Don't forget the random seed!"
   ]
  },
  {
   "cell_type": "code",
   "execution_count": null,
   "id": "d41dcced-2a28-45b8-ad4b-6ebb73142452",
   "metadata": {},
   "outputs": [],
   "source": []
  },
  {
   "cell_type": "code",
   "execution_count": null,
   "id": "122ae4a2-b39f-4fe7-9d95-757fc9e5f726",
   "metadata": {},
   "outputs": [],
   "source": []
  },
  {
   "cell_type": "code",
   "execution_count": null,
   "id": "bb46fdc6-8c82-4bb6-96f7-d7060bc936a9",
   "metadata": {},
   "outputs": [],
   "source": []
  },
  {
   "cell_type": "markdown",
   "id": "7757a8c4-e550-4326-bcfb-39aa543c815e",
   "metadata": {},
   "source": [
    "## Handling priorities and interrupts\n",
    "\n",
    "### Using PriorityResource\n",
    "Let's bump the EV charging simulation up now, to 10 cars, and pretend that a couple of the cars have made reservations online, so they can jump the queue ([`simpy.PriorityResource`](https://simpy.readthedocs.io/en/latest/topical_guides/resources.html#priorityresource))."
   ]
  },
  {
   "cell_type": "code",
   "execution_count": null,
   "id": "19a5ac85-fa84-4735-a551-a341bbae603b",
   "metadata": {},
   "outputs": [],
   "source": []
  },
  {
   "cell_type": "code",
   "execution_count": null,
   "id": "0e46334e-8379-4bcd-bac8-4252f83357f9",
   "metadata": {},
   "outputs": [],
   "source": []
  },
  {
   "cell_type": "code",
   "execution_count": null,
   "id": "a59d4848-54bd-45f6-98a7-7b9710db6b75",
   "metadata": {},
   "outputs": [],
   "source": []
  },
  {
   "cell_type": "markdown",
   "id": "fc3864c3-0b42-417c-96a7-13d035930403",
   "metadata": {},
   "source": [
    "**Notice:** You can see that in the above output has cars with higher priority 0 that have \"jumped the queue\" over cars with lower priority 1."
   ]
  },
  {
   "cell_type": "markdown",
   "id": "3566bffc-77be-4e29-8ae9-902b99e84bbe",
   "metadata": {},
   "source": [
    "### Using a time-based interrupt\n",
    "\n",
    "Interrupts in a fair way, to indicate when a driver might have just gotten a text message and needs to leave and be somewhere instead.  We can simulate this by adding a \"scheduled event\" timeout in addition to the charging time timeout using the \"|\" (or) operator:"
   ]
  },
  {
   "cell_type": "code",
   "execution_count": null,
   "id": "387d1122-2bd5-4af8-ac26-2fccf8f81ebd",
   "metadata": {},
   "outputs": [],
   "source": []
  },
  {
   "cell_type": "code",
   "execution_count": null,
   "id": "a5b69876-0c3e-45e0-8eb3-5f8a80900950",
   "metadata": {},
   "outputs": [],
   "source": []
  },
  {
   "cell_type": "markdown",
   "id": "00aedff6-5d13-48fe-bdd7-7709fa26b9b5",
   "metadata": {},
   "source": [
    "**Notice:** Some of the cars above waited the whole charging time, others have just left because they need to go somewhere else."
   ]
  },
  {
   "cell_type": "markdown",
   "id": "db463ef3-d51f-4731-ae4e-b2f42aa9ffaa",
   "metadata": {},
   "source": [
    "### Using PreemptiveResource \n",
    "\n",
    "We could even say someone has a VIP card that can kick someone off of a pump ([`simpy.PreemptiveResource`](https://simpy.readthedocs.io/en/latest/topical_guides/resources.html#preemptiveresource)), though that would probably not be a fair system at all.  However, you can imagine there are simulation cases where you would want [preemption](https://en.wikipedia.org/wiki/Preemption_(computing)), such as in an embedded system that requires fast response times, networks that require resources to be shutdown for maintenance, etc. \n",
    "\n",
    "To catch when an interrupt occurs, we have to use a [try-except statement](https://docs.python.org/3/tutorial/errors.html#handling-exceptions).  We also have to use a while loop to re-enter the line.  Let's see it in action: "
   ]
  },
  {
   "cell_type": "code",
   "execution_count": null,
   "id": "adf4996f-3563-4652-bc27-7994fac12ed7",
   "metadata": {},
   "outputs": [],
   "source": []
  },
  {
   "cell_type": "code",
   "execution_count": null,
   "id": "e3a1b410-01e4-44a7-8dbb-28d32c321f28",
   "metadata": {},
   "outputs": [],
   "source": []
  },
  {
   "cell_type": "markdown",
   "id": "d6f23e3f-3ca8-4c63-84d3-ccce153975f3",
   "metadata": {},
   "source": [
    "**Notice:** We can capture if a car gives up in line, but if we extended the leave timeout then you can also see interrupted cars wait it out."
   ]
  },
  {
   "cell_type": "markdown",
   "id": "6cdaa508-88c5-4fee-806a-c3212533e5b3",
   "metadata": {},
   "source": [
    "## Monitoring your SimPy simulation\n",
    "\n",
    "There are three ways to go about monitoring a simulation, in order from easy to difficult:\n",
    "1. Implement your own monitoring harness (basically, add input/output data structures (such as lists) for monitoring into your process functions and classes)\n",
    "2. Patching (creating a wrapper) for Simpy `Events` ([see this link](https://simpy.readthedocs.io/en/latest/topical_guides/monitoring.html#event-tracing))\n",
    "3. Patching (creating a wrapper) for SimPy `Resources` ([see this link](https://simpy.readthedocs.io/en/latest/topical_guides/monitoring.html#resource-usage))"
   ]
  },
  {
   "cell_type": "markdown",
   "id": "7ee890aa-115e-4736-925e-e7959ae6edad",
   "metadata": {},
   "source": [
    "So, we can go ahead and use a dictionary and some lists to basically make our monitoring harness.  If we want to be fancier and make it available for analysis immediately after, we can use a pandas DataFrame after.  Either way, we must think about how we want to store our data (the columns of the table, the type of information, the granularity).  Sometimes this is called a _data schema_.\n",
    "\n",
    "So, let's go ahead and log the following information: Event time, Car ID, Car Priority, Drive Time, Available Time Left, Charge Time Left, Event\n",
    "\n",
    "Let's see how to setup our previous code so that we can finalize it into a `pandas.DataFrame` so we can easily get analyze it:"
   ]
  },
  {
   "cell_type": "code",
   "execution_count": null,
   "id": "d5805f74-af6a-4058-bb7a-12525568ea28",
   "metadata": {},
   "outputs": [],
   "source": []
  },
  {
   "cell_type": "code",
   "execution_count": null,
   "id": "1ed8078d-692b-4c93-b6f1-cd22d9c0b9b2",
   "metadata": {},
   "outputs": [],
   "source": []
  },
  {
   "cell_type": "code",
   "execution_count": null,
   "id": "fe3b4eeb-8c21-49aa-9561-d5633a4055bd",
   "metadata": {},
   "outputs": [],
   "source": []
  },
  {
   "cell_type": "code",
   "execution_count": null,
   "id": "0ea0dcd3-755c-4bf6-b02d-47cd82c6f2c3",
   "metadata": {},
   "outputs": [],
   "source": []
  },
  {
   "cell_type": "code",
   "execution_count": null,
   "id": "2543009d-2f13-41f6-8ba9-ccf1b345531b",
   "metadata": {},
   "outputs": [],
   "source": []
  },
  {
   "cell_type": "markdown",
   "id": "c8497e10-9d27-4584-a282-b1ea6e0c67b1",
   "metadata": {},
   "source": [
    "Now, say that we want to find out the average amount of charge time left on all cars.  One of the ways we can get this is to group by the Car ID, then get the minimum charge time of each car (or last time event of each car), and then take the mean of that:"
   ]
  },
  {
   "cell_type": "code",
   "execution_count": null,
   "id": "1e450d6e-8112-423d-917c-7339bb65fecf",
   "metadata": {},
   "outputs": [],
   "source": []
  },
  {
   "cell_type": "markdown",
   "id": "b486af03-98b7-4a69-a6a3-7f1dba9d0879",
   "metadata": {},
   "source": [
    "We see that for some reason, there are certain cars that did not get any charge time at all, pretty much.  If we were trying to optimize for a fair system, then we'd want to tweak our settings (perhaps get rid of the VIP provision!) until the standard deviation is much lower.  This is the power of discrete-event simulation -- we are able to run stochastic simulations that otherwise may be difficult to compute deterministically."
   ]
  },
  {
   "cell_type": "markdown",
   "id": "697ed2a8-ea88-4f46-abeb-b3cdae766ad8",
   "metadata": {
    "tags": []
   },
   "source": [
    "# Using SimPy for real-time ECE problems\n",
    "\n",
    "Turns out that SimPy also has a RealtimeEnvironment, which lets you synchronize events with wall-clock time.\n",
    "\n",
    "This means that we can perform the following simulations:\n",
    "1. Hardware-in-the-loop testing (VERY useful in electronics, embedded systems, medical devices, networking, etc.)\n",
    "2. Testing that requires human interaction (energy, sustainability, etc.)\n",
    "\n",
    "**Let's discuss:** what might be an event-based simulation problem in your specialization"
   ]
  }
 ],
 "metadata": {
  "kernelspec": {
   "display_name": "Python 3 (ipykernel)",
   "language": "python",
   "name": "python3"
  },
  "language_info": {
   "codemirror_mode": {
    "name": "ipython",
    "version": 3
   },
   "file_extension": ".py",
   "mimetype": "text/x-python",
   "name": "python",
   "nbconvert_exporter": "python",
   "pygments_lexer": "ipython3",
   "version": "3.10.6"
  },
  "toc-autonumbering": true
 },
 "nbformat": 4,
 "nbformat_minor": 5
}
