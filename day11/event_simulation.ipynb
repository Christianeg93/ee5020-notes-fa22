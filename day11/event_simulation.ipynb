{
 "cells": [
  {
   "cell_type": "markdown",
   "id": "f350cfa6-e5d5-4ec1-9725-de7c85ec93b1",
   "metadata": {},
   "source": [
    "# Event-based Simulation with SimPy"
   ]
  },
  {
   "cell_type": "code",
   "execution_count": null,
   "id": "88c96fd6-714e-4206-9170-6457bf0da069",
   "metadata": {},
   "outputs": [],
   "source": [
    "import simpy as sp\n",
    "import numpy as np\n",
    "from typing import List, Tuple, Dict, Union\n",
    "\n",
    "# alternatively to using np.random's distributions,\n",
    "#   you can use a distribution directly from scipy.stats:\n",
    "# import scipy.stats"
   ]
  },
  {
   "cell_type": "markdown",
   "id": "8c1075ba-48e3-4797-9ebe-ea3d400aa385",
   "metadata": {},
   "source": [
    "## SimPy Basics\n",
    "\n",
    "SimPy has a few basic concepts to let you perform event-based simulation:\n",
    "1. **Environment:** think of this as \"the world\" in which your simulation occurs\n",
    "2. **Event:** an event that occurs in the environment -- it can be a happening, from time ticking to an action occurring\n",
    "3. **Process:** described by Python generator functions -- they create events and `yield` (yeet) them out to the world\n",
    "4. **Timeout:** a special time-based event, that describes how long it takes for an event to occur (assumed units)\n",
    "5. **Resource:** an object representing a resource that can be acquired or released by Processes (gas station with limited fuel pumps)\n",
    "6. **Container:** an object representing a resource that can be produced or consumed (like electrical power or apples)\n",
    "7. **Store:** an object representing a store that can replenish or sell its items (dynamic quantities)\n",
    "\n",
    "One thing that is key about event-based simulation is that, much like embedded systems, all processes are **interruptible** by priority, meaning that processes can be at different priorities (just like real life).\n",
    "\n",
    "If you need to yield multiple events (actions) at a time, use the `&` operator.  If you need to yield at least one event (whichever event is closest), use the `|` operator."
   ]
  },
  {
   "cell_type": "markdown",
   "id": "c44bdc8e-3c30-4a78-9c90-2dea976c2d40",
   "metadata": {},
   "source": [
    "### DMV customer example\n",
    "\n",
    "Just to show everything in context, I'll modify the [Bank example](https://simpy.readthedocs.io/en/latest/examples/bank_renege.html) to the DMV:"
   ]
  },
  {
   "cell_type": "code",
   "execution_count": null,
   "id": "746a1f55-af1e-4879-991d-eb234933f1dd",
   "metadata": {},
   "outputs": [],
   "source": [
    "RANDOM_SEED = 42\n",
    "NEW_CUSTOMERS = 10  # Total number of customers\n",
    "INTERVAL_CUSTOMERS = 10.0  # Generate new customers roughly every x seconds\n",
    "MIN_PATIENCE = 10  # Min. customer patience\n",
    "MAX_PATIENCE = 40  # Max. customer patience\n",
    "\n",
    "\n",
    "def source(env, number, interval, counter, the_rng):\n",
    "    \"\"\"Source generates customers randomly\"\"\"\n",
    "    for i in range(number):\n",
    "        c = customer(env, 'Customer %02d' % i, counter, 12.0, the_rng)\n",
    "        env.process(c)\n",
    "        t = the_rng.exponential(interval)\n",
    "        yield env.timeout(t)\n",
    "\n",
    "\n",
    "def customer(env, name, counter, time_in_bank, the_rng):\n",
    "    \"\"\"Customer arrives, is served and leaves.\"\"\"\n",
    "    arrive = env.now\n",
    "    print('at time %7.2f, %s arrived' % (arrive, name))\n",
    "\n",
    "    with counter.request() as req:\n",
    "        patience = the_rng.uniform(MIN_PATIENCE, MAX_PATIENCE)\n",
    "        # Wait for the counter or abort at the end of our tether\n",
    "        results = yield req | env.timeout(patience)\n",
    "\n",
    "        wait = env.now - arrive\n",
    "\n",
    "        if req in results:\n",
    "            # We got to the counter\n",
    "            print('at time %7.2f, %s waited %6.2f' % (env.now, name, wait))\n",
    "\n",
    "            tib = the_rng.exponential(time_in_bank)\n",
    "            yield env.timeout(tib)\n",
    "            print('at time %7.2f, %s finished their transactions' % (env.now, name))\n",
    "\n",
    "        else:\n",
    "            # We reneged\n",
    "            print('at time %7.2f, %s left the line after waiting %6.2f minutes' % (env.now, name, wait))\n",
    "\n",
    "\n",
    "# Setup and start the simulation\n",
    "print('SIMULATION: DMV in all of its glory (time units are minutes)')\n",
    "the_rng = np.random.default_rng(RANDOM_SEED)\n",
    "env = sp.Environment()\n",
    "\n",
    "# Start processes and run\n",
    "counter = sp.Resource(env, capacity=1)\n",
    "env.process(source(env, NEW_CUSTOMERS, INTERVAL_CUSTOMERS, counter, the_rng))\n",
    "env.run()"
   ]
  },
  {
   "cell_type": "markdown",
   "id": "298b8c2b-41a4-4b6d-b6d3-348f88d07b15",
   "metadata": {},
   "source": [
    "### Sample SimPy problem\n",
    "\n",
    "Let's perform a simulation of four electric cars (EV, electric vehicles) trying to drive to and use a battery charging station. A car will perform three actions:\n",
    "1. Driving to the EV charging station (accept the driving time as an input parameter).\n",
    "2. Request/acquire a charging spot.\n",
    "3. Charge the battery (accept the time it takes to charge the battery as an input parameter).\n",
    "\n",
    "Define the charging station as only having two spots, so we have a likely chance of at least one car waiting for charging to complete.\n",
    "Let's use a uniform distribution between 2 and 6 miles to model the distance each car has to drive in order to reach the EV charging station. Let's also assume that the cars can drive 35 miles per hour to reach the charging station.  Let's also use a uniform distribution to model the number of minutes that each car has to charge, from 30 minutes to 90 minutes.\n",
    "\n",
    "LPT: Don't forget the random seed!"
   ]
  },
  {
   "cell_type": "code",
   "execution_count": null,
   "id": "d41dcced-2a28-45b8-ad4b-6ebb73142452",
   "metadata": {},
   "outputs": [],
   "source": []
  },
  {
   "cell_type": "code",
   "execution_count": null,
   "id": "122ae4a2-b39f-4fe7-9d95-757fc9e5f726",
   "metadata": {},
   "outputs": [],
   "source": []
  },
  {
   "cell_type": "code",
   "execution_count": null,
   "id": "bb46fdc6-8c82-4bb6-96f7-d7060bc936a9",
   "metadata": {},
   "outputs": [],
   "source": []
  },
  {
   "cell_type": "markdown",
   "id": "7757a8c4-e550-4326-bcfb-39aa543c815e",
   "metadata": {},
   "source": [
    "## Handling priorities and interrupts\n",
    "\n",
    "### Using PriorityResource\n",
    "Let's bump the EV charging simulation up now, to 10 cars, and pretend that a couple of the cars have made reservations online, so they can jump the queue ([`simpy.PriorityResource`](https://simpy.readthedocs.io/en/latest/topical_guides/resources.html#priorityresource))."
   ]
  },
  {
   "cell_type": "code",
   "execution_count": null,
   "id": "19a5ac85-fa84-4735-a551-a341bbae603b",
   "metadata": {},
   "outputs": [],
   "source": []
  },
  {
   "cell_type": "code",
   "execution_count": null,
   "id": "0e46334e-8379-4bcd-bac8-4252f83357f9",
   "metadata": {},
   "outputs": [],
   "source": []
  },
  {
   "cell_type": "code",
   "execution_count": null,
   "id": "a59d4848-54bd-45f6-98a7-7b9710db6b75",
   "metadata": {},
   "outputs": [],
   "source": []
  },
  {
   "cell_type": "markdown",
   "id": "fc3864c3-0b42-417c-96a7-13d035930403",
   "metadata": {},
   "source": [
    "**Notice:** You can see that in the above output has cars with higher priority 0 that have \"jumped the queue\" over cars with lower priority 1."
   ]
  },
  {
   "cell_type": "markdown",
   "id": "3566bffc-77be-4e29-8ae9-902b99e84bbe",
   "metadata": {},
   "source": [
    "### Using a time-based interrupt\n",
    "\n",
    "Interrupts in a fair way, to indicate when a driver might have just gotten a text message and needs to leave and be somewhere instead.  We can simulate this by adding a \"scheduled event\" timeout in addition to the charging time timeout using the \"|\" (or) operator:"
   ]
  },
  {
   "cell_type": "code",
   "execution_count": null,
   "id": "387d1122-2bd5-4af8-ac26-2fccf8f81ebd",
   "metadata": {},
   "outputs": [],
   "source": []
  },
  {
   "cell_type": "code",
   "execution_count": null,
   "id": "a5b69876-0c3e-45e0-8eb3-5f8a80900950",
   "metadata": {},
   "outputs": [],
   "source": []
  },
  {
   "cell_type": "markdown",
   "id": "00aedff6-5d13-48fe-bdd7-7709fa26b9b5",
   "metadata": {},
   "source": [
    "**Notice:** Some of the cars above waited the whole charging time, others have just left because they need to go somewhere else."
   ]
  },
  {
   "cell_type": "markdown",
   "id": "db463ef3-d51f-4731-ae4e-b2f42aa9ffaa",
   "metadata": {},
   "source": [
    "### Using PreemptiveResource \n",
    "\n",
    "We could even say someone has a VIP card that can kick someone off of a pump ([`simpy.PreemptiveResource`](https://simpy.readthedocs.io/en/latest/topical_guides/resources.html#preemptiveresource)), though that would probably not be a fair system at all.  However, you can imagine there are simulation cases where you would want [preemption](https://en.wikipedia.org/wiki/Preemption_(computing)), such as in an embedded system that requires fast response times, networks that require resources to be shutdown for maintenance, etc. \n",
    "\n",
    "To catch when an interrupt occurs, we have to use a [try-except statement](https://docs.python.org/3/tutorial/errors.html#handling-exceptions).  We also have to use a while loop to re-enter the line.  Let's see it in action: "
   ]
  },
  {
   "cell_type": "code",
   "execution_count": null,
   "id": "adf4996f-3563-4652-bc27-7994fac12ed7",
   "metadata": {},
   "outputs": [],
   "source": []
  },
  {
   "cell_type": "code",
   "execution_count": null,
   "id": "e3a1b410-01e4-44a7-8dbb-28d32c321f28",
   "metadata": {},
   "outputs": [],
   "source": []
  },
  {
   "cell_type": "markdown",
   "id": "d6f23e3f-3ca8-4c63-84d3-ccce153975f3",
   "metadata": {},
   "source": [
    "**Notice:** We can capture if a car gives up in line, but if we extended the leave timeout then you can also see interrupted cars wait it out."
   ]
  },
  {
   "cell_type": "markdown",
   "id": "6cdaa508-88c5-4fee-806a-c3212533e5b3",
   "metadata": {},
   "source": [
    "## Monitoring your SimPy simulation\n",
    "\n",
    "There are three ways to go about monitoring a simulation, in order from easy to difficult:\n",
    "1. Implement your own monitoring harness (basically, add input/output data structures (such as lists) for monitoring into your process functions and classes)\n",
    "2. Patching (creating a wrapper) for Simpy `Events` ([see this link](https://simpy.readthedocs.io/en/latest/topical_guides/monitoring.html#event-tracing))\n",
    "3. Patching (creating a wrapper) for SimPy `Resources` ([see this link](https://simpy.readthedocs.io/en/latest/topical_guides/monitoring.html#resource-usage))"
   ]
  },
  {
   "cell_type": "markdown",
   "id": "7ee890aa-115e-4736-925e-e7959ae6edad",
   "metadata": {},
   "source": [
    "So, we can go ahead and use a dictionary and some lists to basically make our monitoring harness.  If we want to be fancier and make it available for analysis immediately after, we can use a pandas DataFrame after.  Either way, we must think about how we want to store our data (the columns of the table, the type of information, the granularity).  Sometimes this is called a _data schema_.\n",
    "\n",
    "So, let's go ahead and log the following information: Event time, Car ID, Car Priority, Drive Time, Available Time Left, Charge Time Left, Event\n",
    "\n",
    "Let's see how to setup our previous code so that we can finalize it into a `pandas.DataFrame` so we can easily get analyze it:"
   ]
  },
  {
   "cell_type": "code",
   "execution_count": null,
   "id": "d5805f74-af6a-4058-bb7a-12525568ea28",
   "metadata": {},
   "outputs": [],
   "source": []
  },
  {
   "cell_type": "code",
   "execution_count": null,
   "id": "1ed8078d-692b-4c93-b6f1-cd22d9c0b9b2",
   "metadata": {},
   "outputs": [],
   "source": []
  },
  {
   "cell_type": "code",
   "execution_count": null,
   "id": "fe3b4eeb-8c21-49aa-9561-d5633a4055bd",
   "metadata": {},
   "outputs": [],
   "source": []
  },
  {
   "cell_type": "code",
   "execution_count": null,
   "id": "0ea0dcd3-755c-4bf6-b02d-47cd82c6f2c3",
   "metadata": {},
   "outputs": [],
   "source": []
  },
  {
   "cell_type": "code",
   "execution_count": null,
   "id": "2543009d-2f13-41f6-8ba9-ccf1b345531b",
   "metadata": {},
   "outputs": [],
   "source": []
  },
  {
   "cell_type": "markdown",
   "id": "c8497e10-9d27-4584-a282-b1ea6e0c67b1",
   "metadata": {},
   "source": [
    "Now, say that we want to find out the average amount of charge time left on all cars.  One of the ways we can get this is to group by the Car ID, then get the minimum charge time of each car (or last time event of each car), and then take the mean of that:"
   ]
  },
  {
   "cell_type": "code",
   "execution_count": null,
   "id": "1e450d6e-8112-423d-917c-7339bb65fecf",
   "metadata": {},
   "outputs": [],
   "source": []
  },
  {
   "cell_type": "markdown",
   "id": "b486af03-98b7-4a69-a6a3-7f1dba9d0879",
   "metadata": {},
   "source": [
    "We see that for some reason, there are certain cars that did not get any charge time at all, pretty much.  If we were trying to optimize for a fair system, then we'd want to tweak our settings (perhaps get rid of the VIP provision!) until the standard deviation is much lower.  This is the power of discrete-event simulation -- we are able to run stochastic simulations that otherwise may be difficult to compute deterministically."
   ]
  },
  {
   "cell_type": "markdown",
   "id": "697ed2a8-ea88-4f46-abeb-b3cdae766ad8",
   "metadata": {
    "tags": []
   },
   "source": [
    "# Using SimPy for real-time ECE problems\n",
    "\n",
    "Turns out that SimPy also has a RealtimeEnvironment, which lets you synchronize events with wall-clock time.\n",
    "\n",
    "This means that we can perform the following simulations:\n",
    "1. Hardware-in-the-loop testing (VERY useful in electronics, embedded systems, medical devices, networking, etc.)\n",
    "2. Testing that requires human interaction (energy, sustainability, etc.)\n",
    "\n",
    "**Let's discuss:** what might be an event-based simulation problem in your specialization"
   ]
  }
 ],
 "metadata": {
  "kernelspec": {
   "display_name": "Python 3 (ipykernel)",
   "language": "python",
   "name": "python3"
  },
  "language_info": {
   "codemirror_mode": {
    "name": "ipython",
    "version": 3
   },
   "file_extension": ".py",
   "mimetype": "text/x-python",
   "name": "python",
   "nbconvert_exporter": "python",
   "pygments_lexer": "ipython3",
   "version": "3.9.7"
  },
  "toc-autonumbering": true
 },
 "nbformat": 4,
 "nbformat_minor": 5
}
