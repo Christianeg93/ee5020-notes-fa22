{
 "cells": [
  {
   "cell_type": "markdown",
   "id": "74569962-1177-4720-8676-8801fabc29ee",
   "metadata": {},
   "source": [
    "# Introduction to Python\n",
    "\n",
    "In this notebook, we'll explore more about Python's syntax and module (library) loading system.  You'll work through some writing some functions in this notebook before modifying `py_demo_lib.py` and adding functions there so that you can abstract your code away and keep the \"big picture\" items in the notebook for presentation."
   ]
  },
  {
   "cell_type": "markdown",
   "id": "48a265e4-c47c-458c-96a0-3bc2363b89ef",
   "metadata": {},
   "source": [
    "## Python syntax"
   ]
  },
  {
   "cell_type": "markdown",
   "id": "c751be5b-b27f-4103-9a69-8ed86874c37d",
   "metadata": {},
   "source": [
    "### Data types and variables\n",
    "\n",
    "- **int**: integer numeric type\n",
    "- **float**: floating-point (decimal point) numeric type\n",
    "- **str**: sequence type for text\n",
    "- **bool**: True or False (Boolean) type\n",
    "\n",
    "Use the assignment `=` operator to assign values on the right-hand side to names or objects on the left-hand side.\n",
    "\n",
    "You can hint to Python that a variable should be a particular data type by writing a colon immediately after the name and providing the data type.  For instance:\n",
    "\n",
    "```\n",
    "PI: float = 3.141592\n",
    "```\n",
    "\n",
    "Try using variables to solve the problem below:\n",
    "\n",
    "Say I have four items in my shopping basket: three bags of Takis (2 USD each bag), and a box of chicken tenders (5 USD each box). I want to compute the subtotal (price without tax) of this basket:"
   ]
  },
  {
   "cell_type": "code",
   "execution_count": 1,
   "id": "80348bd1-d047-4441-8802-255ca11b5de8",
   "metadata": {},
   "outputs": [],
   "source": [
    "takis_bag_price_usd = 2\n",
    "takis_bag_count = 3\n",
    "\n",
    "tenders_box_price_usd = 5\n",
    "tenders_box_count = 1\n",
    "\n",
    "subtotal = (takis_bag_price_usd * takis_bag_count\n",
    "            + tenders_box_price_usd * tenders_box_count)"
   ]
  },
  {
   "cell_type": "markdown",
   "id": "ffaf5554-392d-4106-808c-b72527260955",
   "metadata": {},
   "source": [
    "### Terminology refresher\n",
    "\n",
    "- When we \"use\" a function, we **call** (invoke) the **function**\n",
    "  - Functions also used to be called subroutines\n",
    "- The inputs to a function are input **parameters** or **arguments**\n",
    "- The output of a function is the **return value**\n",
    "- Use parentheses to surround the parameter list\n",
    "- A **class** is a \"definable\" data type\n",
    "- All data in Python is considered an **object** of some **class** (data type)\n",
    "\n",
    "### Scoping\n",
    "\n",
    "Scoping in Python is performed by whitespace.  This allows you to visually note what code is part of which block, and to purposefully encourage you to keep blocks small.\n",
    "\n",
    "A colon (:) at the end of the line indicates to Python that you will begin a new scope.  In the new scope, anything that is created inside the scope will not be automatically available on the outside of the scope.\n",
    "\n",
    "The function definition provides the simplest form of scoping.  For example, this function that simply performs a multiply-add (multiply-accumulate) function:"
   ]
  },
  {
   "cell_type": "code",
   "execution_count": 2,
   "id": "42b95a1e-1715-4278-a690-4f85a2647313",
   "metadata": {},
   "outputs": [],
   "source": [
    "def multiply_add(num_a: float, num_b: float, num_c: float) -> float:\n",
    "    \"\"\"\n",
    "    Performs the multiply-accumulate operation.\n",
    "    \n",
    "    :example: multiply_add(1.0, 2.0, 3.0) -> 7.0\n",
    "    \n",
    "    :param num_a: the accumulator a\n",
    "    :param num_b: the product operand b\n",
    "    :param num_c: the product operand c\n",
    "    :returns: a + b * c\n",
    "    \"\"\"\n",
    "    return num_a + num_b * num_c"
   ]
  },
  {
   "cell_type": "code",
   "execution_count": 3,
   "id": "810a84fc-6d71-4f4e-8199-39e4626c09a9",
   "metadata": {},
   "outputs": [
    {
     "data": {
      "text/plain": [
       "7.0"
      ]
     },
     "execution_count": 3,
     "metadata": {},
     "output_type": "execute_result"
    }
   ],
   "source": [
    "multiply_add(1.0, 2.0, 3.0)"
   ]
  },
  {
   "cell_type": "markdown",
   "id": "185db8e5-d2cd-4cb5-803e-a1a8598dd461",
   "metadata": {},
   "source": [
    "## Programming practices\n",
    "\n",
    "This course exists to help you get used to best practices when it comes to programming.\n",
    "\n",
    "Here are a few best practices:\n",
    "- Make clear function signatures, especially in Python\n",
    "- A function should only do one task -- you can split up tasks into multiple functions\n",
    "- Avoid global-context variables unless strictly needed\n",
    "- Use descriptive names:\n",
    "  - Constants should be fully capitalized\n",
    "  - Use snake_case (underscores) for variables and function names\n",
    "  - Use CamelCase for data type and class names\n",
    "  - Include units in variable names as necessary\n",
    "- Run test cases (examples) as the main() for library modules\n",
    "- Follow the Design Recipe\n",
    "\n",
    "### The Function Design Recipe\n",
    "\n",
    "In this class, all functions should follow the Function Design Recipe.  It is a structured way to approach writing functions that allows you to focus on a clean design for a solution to a problem. \n",
    "\n",
    "0. Start by exploring the problem by hand, making sure you understand the problem.\n",
    "1. Define the function signature and purpose portions of the function header.\n",
    "2. Determine the strategy for solving the problem: function composition or data decomposition.\n",
    "3. Explain the input parameters (arguments) and the return value of the function.\n",
    "4. Provide some examples (test cases).\n",
    "5. Finally, write the function body (action code)."
   ]
  },
  {
   "cell_type": "markdown",
   "id": "758d6f4c-9b70-4784-997c-28ca4a879893",
   "metadata": {},
   "source": [
    "## Function Design Recipe Practice\n",
    "\n",
    "### Problem 1\n",
    "\n",
    "Let's calculate the amount of ice cream that a waffle cone can contain!  Assume that our waffle cone is 4 inches tall and has a 1.5 inch radius at the open end.  One inch is equivalent to 2.54 centimeters.  \n",
    "\n",
    "What is the volume of ice cream inside this waffle cone, given in centimeters cubed?"
   ]
  },
  {
   "cell_type": "code",
   "execution_count": null,
   "id": "fdfec74c-d016-4aee-8605-ff89b3e1478c",
   "metadata": {},
   "outputs": [],
   "source": []
  },
  {
   "cell_type": "markdown",
   "id": "c9ac6891-695c-496f-aad3-10bf11528116",
   "metadata": {},
   "source": [
    "## Python Module Practice"
   ]
  },
  {
   "cell_type": "markdown",
   "id": "81f0fc81-e7ca-419b-870a-e3f226f2f09b",
   "metadata": {},
   "source": [
    "### Problem 1\n",
    "\n",
    "Using the [NumPy documentation](https://numpy.org/doc/), write a version of the multiply-accumulate function that accepts `np.ndarray` objects instead of just singular floating point objects, inside `py_demo_lib.py`.  Then, test your function definition by importing `py_demo_lib` and calling your function."
   ]
  },
  {
   "cell_type": "code",
   "execution_count": null,
   "id": "85f5db90-d327-49bf-9bb7-a878d2b3da5d",
   "metadata": {},
   "outputs": [],
   "source": []
  },
  {
   "cell_type": "code",
   "execution_count": null,
   "id": "ed09cfea-2f41-4274-a73d-a80c5044ec58",
   "metadata": {},
   "outputs": [],
   "source": []
  }
 ],
 "metadata": {
  "kernelspec": {
   "display_name": "Python 3 (ipykernel)",
   "language": "python",
   "name": "python3"
  },
  "language_info": {
   "codemirror_mode": {
    "name": "ipython",
    "version": 3
   },
   "file_extension": ".py",
   "mimetype": "text/x-python",
   "name": "python",
   "nbconvert_exporter": "python",
   "pygments_lexer": "ipython3",
   "version": "3.9.7"
  },
  "toc-autonumbering": true
 },
 "nbformat": 4,
 "nbformat_minor": 5
}
