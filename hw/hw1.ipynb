{
 "cells": [
  {
   "cell_type": "markdown",
   "id": "a8b760c9-5e2f-4d18-81c3-3ffe4a89c0c1",
   "metadata": {},
   "source": [
    "# EE 5050 Homework 1: Visualizing distributions and basic regression modeling\n",
    "\n",
    "In this homework, you'll practice programming with the scientific Python stack (NumPy, SciPy, pandas, statsmodels, matplotlib, seaborn) and getting what you already know (or are re-learning) about statistics down in a structured manner.\n",
    "\n",
    "You can add as many cells as you need by using the \"plus\" icon above."
   ]
  },
  {
   "cell_type": "markdown",
   "id": "1f7ba43f-b5d9-4142-995d-5795efd3f5a8",
   "metadata": {},
   "source": [
    "## Section 1: Toy demonstration problems\n",
    "\n",
    "In this section, we'll practice programming by creating more toy problems to solve.  In particular, we'll try using multiple features rather than a single feature to create an output (response).\n",
    "\n",
    "Let's create a multiple regression model to estimate data from the multivariate equation: $y = 5 x_1 + 7 x_2 - 3 x_3$"
   ]
  },
  {
   "cell_type": "markdown",
   "id": "40ff5b59-d460-41d8-a3f1-d641e350431b",
   "metadata": {},
   "source": [
    "**Problem 1:** Using good variable names to allow for the number of samples of $y, x_1, x_2, x_3$ to be easily changed, create your necessary data objects to set up your problem.  Then, plot your data to make sure that it matches the given equation.\n",
    "\n",
    "How many samples (length of $x$ and $y$ vectors) do you need to make sure that you have enough information to solve this problem?"
   ]
  },
  {
   "cell_type": "code",
   "execution_count": null,
   "id": "2b33f422-4f13-44c1-975b-3e033d39886f",
   "metadata": {},
   "outputs": [],
   "source": []
  },
  {
   "cell_type": "code",
   "execution_count": null,
   "id": "bc08b84a-ded8-4857-9f18-d86ebbe2bcc0",
   "metadata": {},
   "outputs": [],
   "source": []
  },
  {
   "cell_type": "code",
   "execution_count": null,
   "id": "980d1082-e948-4b56-959a-ae5a5e4eeee2",
   "metadata": {},
   "outputs": [],
   "source": []
  },
  {
   "cell_type": "markdown",
   "id": "25b8e8ba-ab29-4a80-81ae-e565ec59adfe",
   "metadata": {},
   "source": [
    "**Problem 2:** Now, create a regression model using Ordinary Least Squares on your exact data with no noise yet added.  Double-check all of the coefficients.  You may find using the Formula API simpler, but if you would like to use the machine learning API then make sure to have $x_1, x_2, x_3$ all in one matrix (ndarray)."
   ]
  },
  {
   "cell_type": "code",
   "execution_count": null,
   "id": "550ec85b-81d8-4998-930e-e7355393cd00",
   "metadata": {},
   "outputs": [],
   "source": []
  },
  {
   "cell_type": "code",
   "execution_count": null,
   "id": "1edb6c8f-414e-48fe-a5b4-82b3ac6fa1ef",
   "metadata": {},
   "outputs": [],
   "source": []
  },
  {
   "cell_type": "markdown",
   "id": "7a3fdc93-8c48-447b-a625-2de5e2aaf949",
   "metadata": {},
   "source": [
    "**Problem 3:** Now, add some Gaussian noise to your $y$ vector (make a new variable so you don't overwrite your exact data).  Then, run OLS, but keep changing the sample size until you get very tight (within 1e-2 for your confidence intervals).  How many samples did you need?"
   ]
  },
  {
   "cell_type": "code",
   "execution_count": null,
   "id": "1082ad43-41a5-4671-9304-712e09e477b2",
   "metadata": {},
   "outputs": [],
   "source": []
  },
  {
   "cell_type": "code",
   "execution_count": null,
   "id": "f6cbdc5d-c141-4a84-90fc-a217f9442917",
   "metadata": {},
   "outputs": [],
   "source": []
  },
  {
   "cell_type": "markdown",
   "id": "e294e693-926a-4bed-9100-c1a94cd024dd",
   "metadata": {},
   "source": [
    "**Problem 4:** Finally, let's test how OLS works against non-Gaussian noise.  Add an exponential noise distribution instead of Gaussian noise to your $y$ vector (make sure to use a new variable and copy your exact data from Problem 1 and 2 rather than adding even more noise to the data arrays you created in Problem 3)."
   ]
  },
  {
   "cell_type": "code",
   "execution_count": null,
   "id": "b8c8f838-3d32-41b1-a70d-f115a7ab76cf",
   "metadata": {},
   "outputs": [],
   "source": []
  },
  {
   "cell_type": "code",
   "execution_count": null,
   "id": "daf65af7-7554-4578-b3ba-c8d1e8bbc6a0",
   "metadata": {},
   "outputs": [],
   "source": []
  },
  {
   "cell_type": "markdown",
   "id": "8df98e85-1c96-41c8-9db5-a2c876e34360",
   "metadata": {},
   "source": [
    "**Problem 5:** Compare and contrast your results.  Then, try searching to see if there are ways you can improve your regression model by using different assumptions about the residuals in `statsmodels`; for instance, robust least squares.  What did you find? \n",
    "\n",
    "The next cell is a Markdown cell for you to write your answer to this problem."
   ]
  },
  {
   "cell_type": "markdown",
   "id": "225ff1d2-1f63-4d77-b7b9-56c8233f19ad",
   "metadata": {},
   "source": []
  },
  {
   "cell_type": "markdown",
   "id": "81187d01-b7ec-49f7-aa9a-df83c2780511",
   "metadata": {},
   "source": []
  },
  {
   "cell_type": "code",
   "execution_count": null,
   "id": "93b0aead-c88d-42ec-9277-88172ef6392e",
   "metadata": {},
   "outputs": [],
   "source": []
  },
  {
   "cell_type": "markdown",
   "id": "52a6eced-281b-4eb8-8a12-b20e8469b4b6",
   "metadata": {},
   "source": [
    "## Section 2: Analyzing building designs for energy efficiency\n",
    "\n",
    "In this section, you'll practice analyzing a real-world dataset and attempt to draw some statistical conclusions (inference and regression modeling) from this data.  This section will walk you through the steps of data exploration and visualization, data cleanup (if needed), preliminary modeling, and finally inference."
   ]
  },
  {
   "cell_type": "markdown",
   "id": "bfcc1312-9407-43e8-8ee3-ac194dc5e909",
   "metadata": {},
   "source": [
    "**Dataset:** `datasets_ml/building_energy_efficiency.csv` (Dataset creators: Angeliki Xifara and Athanasios Tsanas)\n",
    "\n",
    "**Dataset description:** A dataset containing energy analysis using 12 different building shapes simulated in Ecotect. The buildings differ with respect to the glazing area, the glazing area distribution, and the orientation, amongst other parameters. We simulate various settings as functions of the afore-mentioned characteristics to obtain 768 building shapes. The dataset comprises 768 samples and 8 features, aiming to predict two real valued responses.\n",
    "\n",
    "The dataset contains eight attributes (or features, denoted by X1...X8) and two responses (or outcomes, denoted by y1 and y2):\n",
    "\n",
    "- X1 Relative Compactness\n",
    "- X2 Surface Area\n",
    "- X3 Wall Area\n",
    "- X4 Roof Area\n",
    "- X5 Overall Height\n",
    "- X6 Orientation\n",
    "- X7 Glazing Area\n",
    "- X8 Glazing Area Distribution\n",
    "- y1 Heating Load\n",
    "- y2 Cooling Load\n",
    "\n",
    "**Our overarching research problem:** Can we build a regression model to predict the heating or cooling load? Which features work best?"
   ]
  },
  {
   "cell_type": "markdown",
   "id": "feba6ee3-fad9-4e3a-8940-ddd53fdc29fd",
   "metadata": {},
   "source": [
    "**Problem 6:** Import the data and perform some initial data analysis and visualization."
   ]
  },
  {
   "cell_type": "code",
   "execution_count": null,
   "id": "08c09591-cb81-4c8c-a3ae-2228648417b4",
   "metadata": {},
   "outputs": [],
   "source": []
  },
  {
   "cell_type": "code",
   "execution_count": null,
   "id": "11f14fd8-c576-4d4a-a9bf-42b060fdc1c6",
   "metadata": {},
   "outputs": [],
   "source": []
  },
  {
   "cell_type": "markdown",
   "id": "8df47a2a-8fc4-4922-8e2c-4f9d53822988",
   "metadata": {},
   "source": [
    "**Problem 7:** Now, build a linear regression model to estimate the heating load (do not use the cooling load as a feature).  How well does your model work?  How do you know?"
   ]
  },
  {
   "cell_type": "code",
   "execution_count": null,
   "id": "035921c8-5b9e-4029-80c4-07d0ab36e17b",
   "metadata": {},
   "outputs": [],
   "source": []
  },
  {
   "cell_type": "code",
   "execution_count": null,
   "id": "428d212f-d9a5-4886-bebf-c7767e354f27",
   "metadata": {},
   "outputs": [],
   "source": []
  },
  {
   "cell_type": "code",
   "execution_count": null,
   "id": "84de04b3-747a-4c2d-8069-36b97c8c1e26",
   "metadata": {},
   "outputs": [],
   "source": []
  }
 ],
 "metadata": {
  "kernelspec": {
   "display_name": "Python 3 (ipykernel)",
   "language": "python",
   "name": "python3"
  },
  "language_info": {
   "codemirror_mode": {
    "name": "ipython",
    "version": 3
   },
   "file_extension": ".py",
   "mimetype": "text/x-python",
   "name": "python",
   "nbconvert_exporter": "python",
   "pygments_lexer": "ipython3",
   "version": "3.9.7"
  }
 },
 "nbformat": 4,
 "nbformat_minor": 5
}
