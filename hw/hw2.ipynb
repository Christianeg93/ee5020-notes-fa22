{
 "cells": [
  {
   "cell_type": "markdown",
   "id": "a8b760c9-5e2f-4d18-81c3-3ffe4a89c0c1",
   "metadata": {},
   "source": [
    "# EE 5020 Homework 2: Visualizing distributions and basic regression modeling, Round 2\n",
    "\n",
    "In this homework, you'll practice programming with the scientific Python stack (NumPy, SciPy, pandas, statsmodels, matplotlib, seaborn) and getting what you already know (or are re-learning) about statistics down in a structured manner.\n",
    "\n",
    "You can add as many cells as you need by using the \"plus\" icon above."
   ]
  },
  {
   "cell_type": "markdown",
   "id": "52a6eced-281b-4eb8-8a12-b20e8469b4b6",
   "metadata": {},
   "source": [
    "## Section 1: Analyzing Solar Energy (PV) Energy generation\n",
    "\n",
    "In this section, you'll practice analyzing a real-world dataset and attempt to draw some statistical conclusions (inference and regression modeling) from this data.  This section will walk you through the steps of data exploration and visualization, data cleanup (if needed), preliminary modeling, and finally inference."
   ]
  },
  {
   "cell_type": "markdown",
   "id": "bfcc1312-9407-43e8-8ee3-ac194dc5e909",
   "metadata": {},
   "source": [
    "**Dataset:** `datasets_real/Sao_Paolo_PV_generation.xlsx` (Dataset creators: Enerq-USP / Southeast of Brazil)\n",
    "\n",
    "**Dataset description:** See the first sheet (\"Info\") for the description.\n",
    "\n",
    "**Our overarching research problem:** Can we build a regression model to predict the Power in Watts (column I in sheet \"Trend\")?"
   ]
  },
  {
   "cell_type": "markdown",
   "id": "feba6ee3-fad9-4e3a-8940-ddd53fdc29fd",
   "metadata": {},
   "source": [
    "**Problem 1:** Import the data and perform some initial data analysis and visualization."
   ]
  },
  {
   "cell_type": "code",
   "execution_count": null,
   "id": "08c09591-cb81-4c8c-a3ae-2228648417b4",
   "metadata": {},
   "outputs": [],
   "source": []
  },
  {
   "cell_type": "code",
   "execution_count": null,
   "id": "11f14fd8-c576-4d4a-a9bf-42b060fdc1c6",
   "metadata": {},
   "outputs": [],
   "source": []
  },
  {
   "cell_type": "markdown",
   "id": "8df47a2a-8fc4-4922-8e2c-4f9d53822988",
   "metadata": {},
   "source": [
    "**Problem 2:** Now, build a linear regression model to estimate the heating load (do not use the cooling load as a feature).  How well does your model work?  How do you know?"
   ]
  },
  {
   "cell_type": "code",
   "execution_count": null,
   "id": "035921c8-5b9e-4029-80c4-07d0ab36e17b",
   "metadata": {},
   "outputs": [],
   "source": []
  },
  {
   "cell_type": "code",
   "execution_count": null,
   "id": "428d212f-d9a5-4886-bebf-c7767e354f27",
   "metadata": {},
   "outputs": [],
   "source": []
  },
  {
   "cell_type": "code",
   "execution_count": null,
   "id": "84de04b3-747a-4c2d-8069-36b97c8c1e26",
   "metadata": {},
   "outputs": [],
   "source": []
  },
  {
   "cell_type": "code",
   "execution_count": null,
   "id": "79c5371d-6483-4798-a4c6-e757e0dcd265",
   "metadata": {},
   "outputs": [],
   "source": []
  },
  {
   "cell_type": "markdown",
   "id": "b67b852e-3a5e-4dab-b4d8-6c0ab083111a",
   "metadata": {},
   "source": [
    "**Problem 3:** Let's say that we wanted to just build the \"best\" possible regression (basically, lowest mean square error) that includes nonlinear regression methods.  Which method works the best for this dataset?"
   ]
  },
  {
   "cell_type": "code",
   "execution_count": null,
   "id": "9d9027b1-412a-4251-a1e3-29d08d2e57ea",
   "metadata": {},
   "outputs": [],
   "source": []
  },
  {
   "cell_type": "code",
   "execution_count": null,
   "id": "0c18b68e-2df5-4dd1-9a8d-25575b48b0d0",
   "metadata": {},
   "outputs": [],
   "source": []
  },
  {
   "cell_type": "code",
   "execution_count": null,
   "id": "b2660c23-b049-4052-97d8-671d83047048",
   "metadata": {},
   "outputs": [],
   "source": []
  }
 ],
 "metadata": {
  "kernelspec": {
   "display_name": "Python 3 (ipykernel)",
   "language": "python",
   "name": "python3"
  },
  "language_info": {
   "codemirror_mode": {
    "name": "ipython",
    "version": 3
   },
   "file_extension": ".py",
   "mimetype": "text/x-python",
   "name": "python",
   "nbconvert_exporter": "python",
   "pygments_lexer": "ipython3",
   "version": "3.9.7"
  }
 },
 "nbformat": 4,
 "nbformat_minor": 5
}
