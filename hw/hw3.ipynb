{
 "cells": [
  {
   "cell_type": "markdown",
   "id": "a8b760c9-5e2f-4d18-81c3-3ffe4a89c0c1",
   "metadata": {},
   "source": [
    "# EE 5020 Homework 3: Visualizing distributions and basic regression modeling, Round 3\n",
    "\n",
    "In this homework, you'll practice programming with the scientific Python stack (NumPy, SciPy, pandas, statsmodels, matplotlib, seaborn) and getting what you already know (or are re-learning) about statistics down in a structured manner.\n",
    "\n",
    "You can add as many cells as you need by using the \"plus\" icon above."
   ]
  },
  {
   "cell_type": "markdown",
   "id": "52a6eced-281b-4eb8-8a12-b20e8469b4b6",
   "metadata": {},
   "source": [
    "## Section 1: Analyzing microprocessor performance evolution over time\n",
    "\n",
    "In this section, you'll practice analyzing a real-world dataset and attempt to draw some statistical conclusions (inference and regression modeling) from this data.  This section will walk you through the steps of data exploration and visualization, data cleanup (if needed), preliminary modeling, and finally inference."
   ]
  },
  {
   "cell_type": "markdown",
   "id": "bfcc1312-9407-43e8-8ee3-ac194dc5e909",
   "metadata": {},
   "source": [
    "**Dataset:** `../datasets_real/Rupp_48_Years_Microprocessor_Trends.xlsx` (Dataset citation: Rupp, Karl. (2020). 48 Years of Microprocessor Trend Data (2020.0). Zenodo. https://doi.org/10.5281/zenodo.3947824)\n",
    "\n",
    "**Dataset description:** This dataset contains the trends of microprocessors over the past few decades, in terms of the number of cores, clock frequency, number of transistors, thermal design power, and SpecINT (single-threaded) benchmark scores.\n",
    "\n",
    "**IMPORTANT**: In order to prepare for your project, make sure to write your analysis below before and after your code cells using the Markdown cells. Explain your process and results thoroughly such that you would be able to deliver a presentation to the class using your homework."
   ]
  },
  {
   "cell_type": "markdown",
   "id": "feba6ee3-fad9-4e3a-8940-ddd53fdc29fd",
   "metadata": {},
   "source": [
    "**Problem 1:** Import the data and perform some initial data analysis and visualization.  What general trends do you observe?"
   ]
  },
  {
   "cell_type": "code",
   "execution_count": null,
   "id": "08c09591-cb81-4c8c-a3ae-2228648417b4",
   "metadata": {},
   "outputs": [],
   "source": []
  },
  {
   "cell_type": "code",
   "execution_count": null,
   "id": "4993095e-c7d4-4c15-bba8-701d06db956f",
   "metadata": {},
   "outputs": [],
   "source": []
  },
  {
   "cell_type": "code",
   "execution_count": null,
   "id": "531e7398-27b4-409b-8106-16b6f03ece51",
   "metadata": {},
   "outputs": [],
   "source": []
  },
  {
   "cell_type": "code",
   "execution_count": null,
   "id": "8b9e07de-8b20-4bdc-87fc-b94a1db87a48",
   "metadata": {},
   "outputs": [],
   "source": []
  },
  {
   "cell_type": "code",
   "execution_count": null,
   "id": "11f14fd8-c576-4d4a-a9bf-42b060fdc1c6",
   "metadata": {},
   "outputs": [],
   "source": []
  },
  {
   "cell_type": "markdown",
   "id": "8df47a2a-8fc4-4922-8e2c-4f9d53822988",
   "metadata": {},
   "source": [
    "**Problem 2:** Now, build a linear regression model to estimate the SpecINT benchmark scores without using the Year.  How well does your model work?  How do you know?"
   ]
  },
  {
   "cell_type": "code",
   "execution_count": null,
   "id": "035921c8-5b9e-4029-80c4-07d0ab36e17b",
   "metadata": {},
   "outputs": [],
   "source": []
  },
  {
   "cell_type": "code",
   "execution_count": null,
   "id": "428d212f-d9a5-4886-bebf-c7767e354f27",
   "metadata": {},
   "outputs": [],
   "source": []
  },
  {
   "cell_type": "code",
   "execution_count": null,
   "id": "cd7e67a0-fa30-44fe-bf39-88aa07ff676c",
   "metadata": {},
   "outputs": [],
   "source": []
  },
  {
   "cell_type": "code",
   "execution_count": null,
   "id": "84de04b3-747a-4c2d-8069-36b97c8c1e26",
   "metadata": {},
   "outputs": [],
   "source": []
  },
  {
   "cell_type": "code",
   "execution_count": null,
   "id": "79c5371d-6483-4798-a4c6-e757e0dcd265",
   "metadata": {},
   "outputs": [],
   "source": []
  },
  {
   "cell_type": "markdown",
   "id": "b67b852e-3a5e-4dab-b4d8-6c0ab083111a",
   "metadata": {},
   "source": [
    "**Problem 3:** Let's say that we wanted to just build the \"best\" possible regression (basically, lowest mean square error) that includes nonlinear regression methods.  Which method works the best for this dataset to estimate the SpecINT scores?"
   ]
  },
  {
   "cell_type": "code",
   "execution_count": null,
   "id": "9d9027b1-412a-4251-a1e3-29d08d2e57ea",
   "metadata": {},
   "outputs": [],
   "source": []
  },
  {
   "cell_type": "code",
   "execution_count": null,
   "id": "0c18b68e-2df5-4dd1-9a8d-25575b48b0d0",
   "metadata": {},
   "outputs": [],
   "source": []
  },
  {
   "cell_type": "code",
   "execution_count": null,
   "id": "b2660c23-b049-4052-97d8-671d83047048",
   "metadata": {},
   "outputs": [],
   "source": []
  },
  {
   "cell_type": "code",
   "execution_count": null,
   "id": "befd27a3-48e3-4ed0-8dd9-4834285f1d99",
   "metadata": {},
   "outputs": [],
   "source": []
  },
  {
   "cell_type": "code",
   "execution_count": null,
   "id": "1f684ae2-e59c-4084-b73b-4c7be0ed0067",
   "metadata": {},
   "outputs": [],
   "source": []
  }
 ],
 "metadata": {
  "kernelspec": {
   "display_name": "Python 3 (ipykernel)",
   "language": "python",
   "name": "python3"
  },
  "language_info": {
   "codemirror_mode": {
    "name": "ipython",
    "version": 3
   },
   "file_extension": ".py",
   "mimetype": "text/x-python",
   "name": "python",
   "nbconvert_exporter": "python",
   "pygments_lexer": "ipython3",
   "version": "3.9.7"
  }
 },
 "nbformat": 4,
 "nbformat_minor": 5
}
