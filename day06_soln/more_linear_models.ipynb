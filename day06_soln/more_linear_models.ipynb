{
 "cells": [
  {
   "cell_type": "code",
   "execution_count": 40,
   "id": "f6189e60-2055-4a33-aba2-50d8d93cb250",
   "metadata": {},
   "outputs": [],
   "source": [
    "import numpy as np\n",
    "import pandas as pd\n",
    "import seaborn as sns\n",
    "import matplotlib.pyplot as plt\n",
    "from patsy import dmatrices"
   ]
  },
  {
   "cell_type": "markdown",
   "id": "62ec2bf8-6f77-461f-8217-44294533268f",
   "metadata": {},
   "source": [
    "# Additional Linear Modeling Schemes\n",
    "\n",
    "Previously, we used primarily Ordinary Least Squares, which is helpful because it can help tell us if the noise on the data (the residuals of the \"smooth\" model) is normal.\n",
    "\n",
    "Once we have a regression model, we can run a few diagnostics and tests, many of which are already run by `statsmodels` as part of the `.summary()` function.  There are a few more diagnostics available as well, see: https://www.statsmodels.org/stable/examples/notebooks/generated/regression_diagnostics.html\n",
    "\n",
    "However, sometimes our data/residuals are not normal.  See: https://en.wikipedia.org/wiki/Homoscedasticity_and_heteroscedasticity\n",
    "\n",
    "Sometimes, there is a correlation between the residuals, which happens quite often in time-series data. In this case, we may want to use Generalized Least Squares.\n",
    "\n",
    "Other times, we might have too much data to really thrown out any outliers, and thus need to create a robust regression model using either Robust Least Squares or RANSAC.  RANSAC is actually used quite often in computer vision!\n",
    "\n",
    "We'll explore all of these today using `../datasets_as/fat.csv`!"
   ]
  },
  {
   "cell_type": "markdown",
   "id": "ec92a23d-dc8c-4f64-afdb-4c5e8d271c9f",
   "metadata": {},
   "source": [
    "## `statsmodels` design matrices API\n",
    "\n",
    "First, a little bit more about why we have `endog` and `exog`, and why we had the \"machine learning\" API.\n",
    "\n",
    "For reference: https://www.statsmodels.org/stable/gettingstarted.html#design-matrices-endog-exog\n",
    "\n",
    "Conveniently, this will help us as we explore our other regression modeling library, `sklearn` (scikit-learn)!\n",
    "\n",
    "Set up the X (exog) and y (endog) matrices, then double-check that it works with OLS:"
   ]
  },
  {
   "cell_type": "code",
   "execution_count": 2,
   "id": "7ded41eb-e49b-454c-ae6c-fa96db58898c",
   "metadata": {},
   "outputs": [
    {
     "data": {
      "text/html": [
       "<div>\n",
       "<style scoped>\n",
       "    .dataframe tbody tr th:only-of-type {\n",
       "        vertical-align: middle;\n",
       "    }\n",
       "\n",
       "    .dataframe tbody tr th {\n",
       "        vertical-align: top;\n",
       "    }\n",
       "\n",
       "    .dataframe thead th {\n",
       "        text-align: right;\n",
       "    }\n",
       "</style>\n",
       "<table border=\"1\" class=\"dataframe\">\n",
       "  <thead>\n",
       "    <tr style=\"text-align: right;\">\n",
       "      <th></th>\n",
       "      <th>Month</th>\n",
       "      <th>Day</th>\n",
       "      <th>Hour</th>\n",
       "      <th>Minute</th>\n",
       "      <th>Wind_speed_mps</th>\n",
       "      <th>Power_W</th>\n",
       "      <th>Time_s</th>\n",
       "    </tr>\n",
       "  </thead>\n",
       "  <tbody>\n",
       "    <tr>\n",
       "      <th>0</th>\n",
       "      <td>1</td>\n",
       "      <td>1</td>\n",
       "      <td>0</td>\n",
       "      <td>0</td>\n",
       "      <td>5.26</td>\n",
       "      <td>103.349282</td>\n",
       "      <td>0</td>\n",
       "    </tr>\n",
       "    <tr>\n",
       "      <th>1</th>\n",
       "      <td>1</td>\n",
       "      <td>1</td>\n",
       "      <td>0</td>\n",
       "      <td>10</td>\n",
       "      <td>5.50</td>\n",
       "      <td>114.832536</td>\n",
       "      <td>600</td>\n",
       "    </tr>\n",
       "    <tr>\n",
       "      <th>2</th>\n",
       "      <td>1</td>\n",
       "      <td>1</td>\n",
       "      <td>0</td>\n",
       "      <td>20</td>\n",
       "      <td>4.76</td>\n",
       "      <td>79.425837</td>\n",
       "      <td>1200</td>\n",
       "    </tr>\n",
       "    <tr>\n",
       "      <th>3</th>\n",
       "      <td>1</td>\n",
       "      <td>1</td>\n",
       "      <td>0</td>\n",
       "      <td>30</td>\n",
       "      <td>4.94</td>\n",
       "      <td>88.038278</td>\n",
       "      <td>1800</td>\n",
       "    </tr>\n",
       "    <tr>\n",
       "      <th>4</th>\n",
       "      <td>1</td>\n",
       "      <td>1</td>\n",
       "      <td>0</td>\n",
       "      <td>40</td>\n",
       "      <td>4.42</td>\n",
       "      <td>63.157895</td>\n",
       "      <td>2400</td>\n",
       "    </tr>\n",
       "  </tbody>\n",
       "</table>\n",
       "</div>"
      ],
      "text/plain": [
       "   Month  Day  Hour  Minute  Wind_speed_mps     Power_W  Time_s\n",
       "0      1    1     0       0            5.26  103.349282       0\n",
       "1      1    1     0      10            5.50  114.832536     600\n",
       "2      1    1     0      20            4.76   79.425837    1200\n",
       "3      1    1     0      30            4.94   88.038278    1800\n",
       "4      1    1     0      40            4.42   63.157895    2400"
      ]
     },
     "execution_count": 2,
     "metadata": {},
     "output_type": "execute_result"
    }
   ],
   "source": [
    "df_wind = pd.read_excel(\n",
    "    \"../datasets_ml/GECAD_renewable_energy_lab _Wind_power_data.xlsx\",\n",
    "    sheet_name=\"Wind speed and Power\")\n",
    "\n",
    "df_wind.drop(columns=\"Year\", inplace=True)\n",
    "\n",
    "df_wind[\"Time (s)\"] = ((df_wind[\"Month\"] - 1) * 2628000 + \n",
    "                       (df_wind[\"Day\"] - 1) * 86400 + \n",
    "                       df_wind[\"Hour\"] * 3600 + \n",
    "                       df_wind[\"Minute\"] * 60)\n",
    "\n",
    "df_wind_good = df_wind[(df_wind[\"Wind speed (m/s)\"] < 11.6) & (df_wind[\"Power (W)\"] > 0)].copy()\n",
    "df_wind_good.dropna(inplace=True)\n",
    "\n",
    "df_wind_good_renamed = df_wind_good.rename(\n",
    "    columns={\n",
    "        \"Wind speed (m/s)\": \"Wind_speed_mps\",\n",
    "        \"Power (W)\": \"Power_W\",\n",
    "        \"Time (s)\": \"Time_s\"\n",
    "    })\n",
    "\n",
    "df_wind_good_renamed.head()"
   ]
  },
  {
   "cell_type": "code",
   "execution_count": 7,
   "id": "e71ff73c-148b-4c30-99ba-ea09fc01019c",
   "metadata": {},
   "outputs": [],
   "source": [
    "wind_turbine_y, wind_turbine_X = dmatrices(\n",
    "    'Power_W ~ Time_s + Wind_speed_mps + 1',\n",
    "    data=df_wind_good_renamed,\n",
    "    return_type='dataframe')"
   ]
  },
  {
   "cell_type": "code",
   "execution_count": 8,
   "id": "9b6b04bb-1aa7-4488-8515-404934ce35b0",
   "metadata": {},
   "outputs": [
    {
     "data": {
      "text/html": [
       "<table class=\"simpletable\">\n",
       "<caption>OLS Regression Results</caption>\n",
       "<tr>\n",
       "  <th>Dep. Variable:</th>         <td>Power_W</td>     <th>  R-squared:         </th>  <td>   1.000</td> \n",
       "</tr>\n",
       "<tr>\n",
       "  <th>Model:</th>                   <td>OLS</td>       <th>  Adj. R-squared:    </th>  <td>   1.000</td> \n",
       "</tr>\n",
       "<tr>\n",
       "  <th>Method:</th>             <td>Least Squares</td>  <th>  F-statistic:       </th>  <td>2.676e+33</td>\n",
       "</tr>\n",
       "<tr>\n",
       "  <th>Date:</th>             <td>Wed, 14 Sep 2022</td> <th>  Prob (F-statistic):</th>   <td>  0.00</td>  \n",
       "</tr>\n",
       "<tr>\n",
       "  <th>Time:</th>                 <td>16:57:52</td>     <th>  Log-Likelihood:    </th> <td>7.9092e+05</td>\n",
       "</tr>\n",
       "<tr>\n",
       "  <th>No. Observations:</th>      <td> 28721</td>      <th>  AIC:               </th> <td>-1.582e+06</td>\n",
       "</tr>\n",
       "<tr>\n",
       "  <th>Df Residuals:</th>          <td> 28718</td>      <th>  BIC:               </th> <td>-1.582e+06</td>\n",
       "</tr>\n",
       "<tr>\n",
       "  <th>Df Model:</th>              <td>     2</td>      <th>                     </th>      <td> </td>    \n",
       "</tr>\n",
       "<tr>\n",
       "  <th>Covariance Type:</th>      <td>nonrobust</td>    <th>                     </th>      <td> </td>    \n",
       "</tr>\n",
       "</table>\n",
       "<table class=\"simpletable\">\n",
       "<tr>\n",
       "         <td></td>           <th>coef</th>     <th>std err</th>      <th>t</th>      <th>P>|t|</th>  <th>[0.025</th>    <th>0.975]</th>  \n",
       "</tr>\n",
       "<tr>\n",
       "  <th>Intercept</th>      <td> -148.3254</td> <td> 5.43e-15</td> <td>-2.73e+16</td> <td> 0.000</td> <td> -148.325</td> <td> -148.325</td>\n",
       "</tr>\n",
       "<tr>\n",
       "  <th>Time_s</th>         <td> 1.143e-20</td> <td> 1.87e-22</td> <td>   61.128</td> <td> 0.000</td> <td> 1.11e-20</td> <td> 1.18e-20</td>\n",
       "</tr>\n",
       "<tr>\n",
       "  <th>Wind_speed_mps</th> <td>   47.8469</td> <td> 6.55e-16</td> <td>  7.3e+16</td> <td> 0.000</td> <td>   47.847</td> <td>   47.847</td>\n",
       "</tr>\n",
       "</table>\n",
       "<table class=\"simpletable\">\n",
       "<tr>\n",
       "  <th>Omnibus:</th>       <td>263.998</td> <th>  Durbin-Watson:     </th> <td>   1.668</td>\n",
       "</tr>\n",
       "<tr>\n",
       "  <th>Prob(Omnibus):</th> <td> 0.000</td>  <th>  Jarque-Bera (JB):  </th> <td> 207.838</td>\n",
       "</tr>\n",
       "<tr>\n",
       "  <th>Skew:</th>          <td> 0.129</td>  <th>  Prob(JB):          </th> <td>7.39e-46</td>\n",
       "</tr>\n",
       "<tr>\n",
       "  <th>Kurtosis:</th>      <td> 2.673</td>  <th>  Cond. No.          </th> <td>5.86e+07</td>\n",
       "</tr>\n",
       "</table><br/><br/>Notes:<br/>[1] Standard Errors assume that the covariance matrix of the errors is correctly specified.<br/>[2] The condition number is large, 5.86e+07. This might indicate that there are<br/>strong multicollinearity or other numerical problems."
      ],
      "text/plain": [
       "<class 'statsmodels.iolib.summary.Summary'>\n",
       "\"\"\"\n",
       "                            OLS Regression Results                            \n",
       "==============================================================================\n",
       "Dep. Variable:                Power_W   R-squared:                       1.000\n",
       "Model:                            OLS   Adj. R-squared:                  1.000\n",
       "Method:                 Least Squares   F-statistic:                 2.676e+33\n",
       "Date:                Wed, 14 Sep 2022   Prob (F-statistic):               0.00\n",
       "Time:                        16:57:52   Log-Likelihood:             7.9092e+05\n",
       "No. Observations:               28721   AIC:                        -1.582e+06\n",
       "Df Residuals:                   28718   BIC:                        -1.582e+06\n",
       "Df Model:                           2                                         \n",
       "Covariance Type:            nonrobust                                         \n",
       "==================================================================================\n",
       "                     coef    std err          t      P>|t|      [0.025      0.975]\n",
       "----------------------------------------------------------------------------------\n",
       "Intercept       -148.3254   5.43e-15  -2.73e+16      0.000    -148.325    -148.325\n",
       "Time_s          1.143e-20   1.87e-22     61.128      0.000    1.11e-20    1.18e-20\n",
       "Wind_speed_mps    47.8469   6.55e-16    7.3e+16      0.000      47.847      47.847\n",
       "==============================================================================\n",
       "Omnibus:                      263.998   Durbin-Watson:                   1.668\n",
       "Prob(Omnibus):                  0.000   Jarque-Bera (JB):              207.838\n",
       "Skew:                           0.129   Prob(JB):                     7.39e-46\n",
       "Kurtosis:                       2.673   Cond. No.                     5.86e+07\n",
       "==============================================================================\n",
       "\n",
       "Notes:\n",
       "[1] Standard Errors assume that the covariance matrix of the errors is correctly specified.\n",
       "[2] The condition number is large, 5.86e+07. This might indicate that there are\n",
       "strong multicollinearity or other numerical problems.\n",
       "\"\"\""
      ]
     },
     "execution_count": 8,
     "metadata": {},
     "output_type": "execute_result"
    }
   ],
   "source": [
    "import statsmodels.regression.linear_model as slm\n",
    "\n",
    "model_wind_good = slm.OLS(wind_turbine_y, wind_turbine_X)\n",
    "model_wind_good_results = model_wind_good.fit()\n",
    "model_wind_good_results.summary()"
   ]
  },
  {
   "cell_type": "markdown",
   "id": "9ad7b97b-354c-4b5d-a2ae-ef48fde8298c",
   "metadata": {},
   "source": [
    "## Introducing `sklearn`\n",
    "\n",
    "scikit-learn is a library full of machine learning schemes!  We don't cover the workings of the algorithms per se here, but we will walk through what each scheme does aim to minimize.\n",
    "\n",
    "See: https://scikit-learn.org/stable/modules/linear_model.html\n",
    "\n",
    "Then, perform OLS using `sklearn` and see how it compares to OLS from `statsmodels`:"
   ]
  },
  {
   "cell_type": "code",
   "execution_count": 16,
   "id": "370fae49-00fa-4c0a-8343-f04c728a5b62",
   "metadata": {},
   "outputs": [
    {
     "data": {
      "text/plain": [
       "array([[ 0.00000000e+00, -1.32780204e-22,  4.78468900e+01]])"
      ]
     },
     "execution_count": 16,
     "metadata": {},
     "output_type": "execute_result"
    }
   ],
   "source": [
    "import sklearn.linear_model as skl\n",
    "\n",
    "skl_model_wind_good = skl.LinearRegression()\n",
    "skl_model_wind_good_results = skl_model_wind_good.fit(wind_turbine_X, wind_turbine_y)\n",
    "skl_model_wind_good_results.coef_"
   ]
  },
  {
   "cell_type": "code",
   "execution_count": 17,
   "id": "348af1c8-f2ab-4f2e-b3c7-1f04db5be90e",
   "metadata": {},
   "outputs": [
    {
     "data": {
      "text/plain": [
       "array([-148.32535885])"
      ]
     },
     "execution_count": 17,
     "metadata": {},
     "output_type": "execute_result"
    }
   ],
   "source": [
    "skl_model_wind_good_results.intercept_"
   ]
  },
  {
   "cell_type": "code",
   "execution_count": 46,
   "id": "cbfc93fc-5169-4f1b-baf3-0364fe596adc",
   "metadata": {},
   "outputs": [
    {
     "data": {
      "text/plain": [
       "[<matplotlib.lines.Line2D at 0x24d603bc400>]"
      ]
     },
     "execution_count": 46,
     "metadata": {},
     "output_type": "execute_result"
    },
    {
     "data": {
      "image/png": "[encoded data removed]",
      "text/plain": [
       "<Figure size 640x480 with 1 Axes>"
      ]
     },
     "metadata": {},
     "output_type": "display_data"
    }
   ],
   "source": [
    "plt.scatter(wind_turbine_X[\"Wind_speed_mps\"], wind_turbine_y)\n",
    "plt.plot(wind_turbine_X[\"Wind_speed_mps\"], \n",
    "         skl_model_wind_good_results.predict(wind_turbine_X),\n",
    "         color='red')"
   ]
  },
  {
   "cell_type": "markdown",
   "id": "0231adf4-f6c4-46e1-b432-406051cf5a26",
   "metadata": {},
   "source": [
    "### Ridge, Lasso, and Elastic Net regression\n",
    "\n",
    "Try out these techniques now:"
   ]
  },
  {
   "cell_type": "code",
   "execution_count": 27,
   "id": "0bf27c07-a7b5-422f-91ce-ef344ef02407",
   "metadata": {},
   "outputs": [
    {
     "name": "stderr",
     "output_type": "stream",
     "text": [
      "C:\\Users\\ywang11\\mambaforge\\envs\\ee5020\\lib\\site-packages\\sklearn\\linear_model\\_ridge.py:212: LinAlgWarning: Ill-conditioned matrix (rcond=4.94459e-19): result may not be accurate.\n",
      "  return linalg.solve(A, Xy, assume_a=\"pos\", overwrite_a=True).T\n"
     ]
    },
    {
     "data": {
      "text/plain": [
       "array([[0.00000000e+00, 5.12651151e-12, 4.78465986e+01]])"
      ]
     },
     "execution_count": 27,
     "metadata": {},
     "output_type": "execute_result"
    }
   ],
   "source": [
    "skl_ridge_wind = skl.Ridge(alpha=1.0)\n",
    "skl_ridge_wind_results = skl_ridge_wind.fit(wind_turbine_X, wind_turbine_y)\n",
    "skl_ridge_wind_results.coef_"
   ]
  },
  {
   "cell_type": "code",
   "execution_count": 28,
   "id": "35fde845-47d3-4a8f-a66c-ef7b7d231237",
   "metadata": {},
   "outputs": [
    {
     "data": {
      "text/plain": [
       "array([-148.32338923])"
      ]
     },
     "execution_count": 28,
     "metadata": {},
     "output_type": "execute_result"
    }
   ],
   "source": [
    "skl_ridge_wind_results.intercept_"
   ]
  },
  {
   "cell_type": "code",
   "execution_count": 45,
   "id": "661b4b24-58b1-4ce8-8ff5-97b5068fcab0",
   "metadata": {},
   "outputs": [
    {
     "data": {
      "text/plain": [
       "[<matplotlib.lines.Line2D at 0x24d60378610>]"
      ]
     },
     "execution_count": 45,
     "metadata": {},
     "output_type": "execute_result"
    },
    {
     "data": {
      "image/png": "[encoded data removed]",
      "text/plain": [
       "<Figure size 640x480 with 1 Axes>"
      ]
     },
     "metadata": {},
     "output_type": "display_data"
    }
   ],
   "source": [
    "plt.scatter(wind_turbine_X[\"Wind_speed_mps\"], wind_turbine_y)\n",
    "plt.plot(wind_turbine_X[\"Wind_speed_mps\"], \n",
    "         skl_ridge_wind_results.predict(wind_turbine_X),\n",
    "         color='red')"
   ]
  },
  {
   "cell_type": "code",
   "execution_count": 35,
   "id": "deb9ec14-cf23-4840-9f7a-9afb289d6cff",
   "metadata": {},
   "outputs": [
    {
     "data": {
      "text/plain": [
       "array([0.00000000e+00, 3.07729008e-09, 4.76719889e+01])"
      ]
     },
     "execution_count": 35,
     "metadata": {},
     "output_type": "execute_result"
    }
   ],
   "source": [
    "skl_lasso_wind = skl.Lasso(alpha=1.0)\n",
    "skl_lasso_wind_results = skl_lasso_wind.fit(wind_turbine_X, wind_turbine_y)\n",
    "skl_lasso_wind_results.coef_"
   ]
  },
  {
   "cell_type": "code",
   "execution_count": 36,
   "id": "7afbbf99-415f-443d-86fa-71250678c8b6",
   "metadata": {},
   "outputs": [
    {
     "data": {
      "text/plain": [
       "array([-147.14305085])"
      ]
     },
     "execution_count": 36,
     "metadata": {},
     "output_type": "execute_result"
    }
   ],
   "source": [
    "skl_lasso_wind_results.intercept_"
   ]
  },
  {
   "cell_type": "code",
   "execution_count": 53,
   "id": "40e19b06-7da6-4c1a-afd0-fbb64b7c2788",
   "metadata": {},
   "outputs": [
    {
     "data": {
      "text/plain": [
       "array([0.00000000e+00, 3.07729008e-09, 4.76719889e+01])"
      ]
     },
     "execution_count": 53,
     "metadata": {},
     "output_type": "execute_result"
    }
   ],
   "source": [
    "skl_elasticnet_wind = skl.ElasticNet(alpha=1.0, l1_ratio=1.0)\n",
    "skl_elasticnet_wind_results = skl_elasticnet_wind.fit(wind_turbine_X, wind_turbine_y)\n",
    "skl_elasticnet_wind_results.coef_"
   ]
  },
  {
   "cell_type": "code",
   "execution_count": 54,
   "id": "52fc516f-8144-428e-8664-45554e7f38d1",
   "metadata": {},
   "outputs": [
    {
     "data": {
      "text/plain": [
       "array([-147.14305085])"
      ]
     },
     "execution_count": 54,
     "metadata": {},
     "output_type": "execute_result"
    }
   ],
   "source": [
    "skl_elasticnet_wind_results.intercept_"
   ]
  },
  {
   "cell_type": "code",
   "execution_count": 55,
   "id": "ad56c2c0-fcab-412c-ad77-53c1641e0e14",
   "metadata": {},
   "outputs": [
    {
     "data": {
      "text/plain": [
       "[<matplotlib.lines.Line2D at 0x24d614bc580>]"
      ]
     },
     "execution_count": 55,
     "metadata": {},
     "output_type": "execute_result"
    },
    {
     "data": {
      "image/png": "[encoded data removed]",
      "text/plain": [
       "<Figure size 640x480 with 1 Axes>"
      ]
     },
     "metadata": {},
     "output_type": "display_data"
    }
   ],
   "source": [
    "plt.scatter(wind_turbine_X[\"Wind_speed_mps\"], wind_turbine_y)\n",
    "plt.plot(wind_turbine_X[\"Wind_speed_mps\"], \n",
    "         skl_elasticnet_wind_results.predict(wind_turbine_X),\n",
    "         color='red')"
   ]
  },
  {
   "cell_type": "markdown",
   "id": "cd0ff331-9061-4ddf-bb85-6c048c4c08b0",
   "metadata": {},
   "source": [
    "### RANSAC Robust Regression\n",
    "\n",
    "Sometimes, we don't really know about the outliers other than that they exist.  So we can try using RANSAC: https://scikit-learn.org/stable/auto_examples/linear_model/plot_ransac.html\n",
    "\n",
    "Let's try using RANSAC on the GECAD wind turbine dataset:"
   ]
  },
  {
   "cell_type": "code",
   "execution_count": null,
   "id": "79cb0111-b327-42d3-aa2c-4794d3d59d5d",
   "metadata": {},
   "outputs": [],
   "source": []
  },
  {
   "cell_type": "code",
   "execution_count": null,
   "id": "9b378590-6917-42cf-ad55-ef085794a481",
   "metadata": {},
   "outputs": [],
   "source": []
  },
  {
   "cell_type": "markdown",
   "id": "b53b1514-337e-4341-b403-765bfc612e9f",
   "metadata": {},
   "source": [
    "## Frequentist error types\n",
    "\n",
    "Type I: false positive\n",
    "\n",
    "Type II: false negative"
   ]
  },
  {
   "cell_type": "code",
   "execution_count": null,
   "id": "ff72daa0-b2e9-405e-acfb-9f297811e412",
   "metadata": {},
   "outputs": [],
   "source": []
  }
 ],
 "metadata": {
  "kernelspec": {
   "display_name": "Python 3 (ipykernel)",
   "language": "python",
   "name": "python3"
  },
  "language_info": {
   "codemirror_mode": {
    "name": "ipython",
    "version": 3
   },
   "file_extension": ".py",
   "mimetype": "text/x-python",
   "name": "python",
   "nbconvert_exporter": "python",
   "pygments_lexer": "ipython3",
   "version": "3.10.6"
  }
 },
 "nbformat": 4,
 "nbformat_minor": 5
}
