{
 "cells": [
  {
   "cell_type": "markdown",
   "id": "438261de-b6e9-414f-93f3-82da42b53ee4",
   "metadata": {},
   "source": [
    "# Analyzing and modeling datasets\n",
    "\n",
    "## Importing and performing rudimentary analysis"
   ]
  },
  {
   "cell_type": "code",
   "execution_count": null,
   "id": "fa79fef4-0333-450a-a8a5-13a757aaf6f9",
   "metadata": {},
   "outputs": [],
   "source": []
  },
  {
   "cell_type": "code",
   "execution_count": null,
   "id": "b79424d1-ff52-4e2e-b45e-cdfca202c146",
   "metadata": {},
   "outputs": [],
   "source": []
  },
  {
   "cell_type": "markdown",
   "id": "1c73e400-dd53-460b-8f4b-57040e360752",
   "metadata": {},
   "source": [
    "## Basic modeling and inference of data\n",
    "\n",
    "### Terminology\n",
    "\n",
    "- **Feature:** column name, independent variable, some type of data that can be related to the output variable\n",
    "- **Target:** the dependent variable or output of the model\n",
    "- **Instance:** a \"row\" or observation of data that includes the independent variables and the dependent variable\n",
    "- **Training data:** instances used for building the regression/classification model\n",
    "- **Testing data:** instances used for testing the validity of the regression/classification model\n",
    "- **Residual:** the difference between the estimated output values from the model and the true output values from the data\n",
    "- **Inference:** Inferring the properties of an underlying distribution (making conclusions from data subject to random variation).\n",
    "- **Parameter:** a summary statistic of the population we are interested in\n",
    "\n",
    "### Distributions\n",
    "\n",
    "This class will be all about distributions.  Why?\n",
    "\n",
    "Because all physical data and models are about distributions.\n",
    "\n",
    "In this module of EE 5020, we focus on **frequentist** (classical) statistics, where we assume the Gaussian and whether features can be parameterized as such.\n",
    "\n",
    "You'll see Bayesian statistics in the next module, where data is treated as informing a probability estimate instead.\n",
    "\n",
    "#### Distribution terminology\n",
    "- **pdf:** probability density function, probability for each possible value of a **continuous** random variable\n",
    "- **pmf:** probability mass function, probability for each possible value of a **discrete** random variable\n",
    "- **cdf:** cumulative distribution function, cumulative probability for each value (and the ones before it)\n",
    "- **samples:** just like with signals, samples (instant values) are drawn from a random variable (which conforms to some distribution)\n",
    "\n",
    "#### Trying out distributions\n",
    "\n",
    "Let's try to draw some samples and plot a few distributions using NumPy:"
   ]
  },
  {
   "cell_type": "code",
   "execution_count": null,
   "id": "81b0b639-bad1-4d9d-96a6-d15683802b0c",
   "metadata": {},
   "outputs": [],
   "source": []
  },
  {
   "cell_type": "markdown",
   "id": "a83036bf-9fc9-4e16-bceb-2039ba739b60",
   "metadata": {},
   "source": [
    "Now let's try to draw some samples and plot a few distributions using SciPy:"
   ]
  },
  {
   "cell_type": "code",
   "execution_count": null,
   "id": "caddf142-a9cb-4f1a-b676-3e5e1597b931",
   "metadata": {},
   "outputs": [],
   "source": []
  },
  {
   "cell_type": "markdown",
   "id": "5d654824-f430-40ca-883b-fdd336efc7d5",
   "metadata": {},
   "source": [
    "### Linear regression\n",
    "\n",
    "Let's try using the `statsmodels` for linear regression!  There's a few different methods we'll go over, [see the statsmodels documentation on linear regression](https://www.statsmodels.org/stable/regression.html).\n",
    "\n",
    "Why do we think about distributions when we are performing linear regression?  Because all of our analysis assumes the following:\n",
    "\n",
    "![linear regression](./linear_regression.png)\n",
    "\n",
    "Sometimes, a feature can be transformed using the `np.log10()` or `np.log()` function to attempt to normalize it.\n",
    "\n",
    "#### Building models using toy data\n",
    "\n",
    "Let's visualize this by making up some toy problems before we build models of real datasets."
   ]
  },
  {
   "cell_type": "code",
   "execution_count": null,
   "id": "e1e60824-df4d-487b-992d-1ffa9d5f6a08",
   "metadata": {},
   "outputs": [],
   "source": []
  },
  {
   "cell_type": "code",
   "execution_count": null,
   "id": "bb9fcab2-c1d2-4d68-96a5-53e32de46fe3",
   "metadata": {},
   "outputs": [],
   "source": []
  },
  {
   "cell_type": "code",
   "execution_count": null,
   "id": "67e10e23-436d-48fb-84e5-29e70ab65736",
   "metadata": {},
   "outputs": [],
   "source": []
  },
  {
   "cell_type": "code",
   "execution_count": null,
   "id": "9a99619d-2385-4012-bf18-b17a2550fe63",
   "metadata": {},
   "outputs": [],
   "source": []
  },
  {
   "cell_type": "markdown",
   "id": "ff2e3136-1b91-4658-ac29-24b64b3e649a",
   "metadata": {},
   "source": [
    "#### Building models using real data\n",
    "\n",
    "Datasets:\n",
    "1. https://www.kaggle.com/datasets/nicholasjhana/energy-consumption-generation-prices-and-weather\n",
    "2. https://data.lacity.org/City-Infrastructure-Service-Requests/LADWP-Power-Outages/tdb2-bvuq\n",
    "3. http://www.laalmanac.com/weather/we04a.php\n",
    "4. https://www.californiadgstats.ca.gov/downloads/\n"
   ]
  },
  {
   "cell_type": "code",
   "execution_count": null,
   "id": "d7c22ab6-f804-45ae-9c82-b1a743d9b350",
   "metadata": {},
   "outputs": [],
   "source": []
  }
 ],
 "metadata": {
  "kernelspec": {
   "display_name": "Python 3 (ipykernel)",
   "language": "python",
   "name": "python3"
  },
  "language_info": {
   "codemirror_mode": {
    "name": "ipython",
    "version": 3
   },
   "file_extension": ".py",
   "mimetype": "text/x-python",
   "name": "python",
   "nbconvert_exporter": "python",
   "pygments_lexer": "ipython3",
   "version": "3.9.7"
  }
 },
 "nbformat": 4,
 "nbformat_minor": 5
}
