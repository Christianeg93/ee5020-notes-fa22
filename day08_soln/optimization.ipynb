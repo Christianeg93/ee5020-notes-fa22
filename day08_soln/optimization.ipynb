{
 "cells": [
  {
   "cell_type": "code",
   "execution_count": 3,
   "id": "9b8491dc-9b8d-4a08-898a-f3fa5e12efe2",
   "metadata": {},
   "outputs": [],
   "source": [
    "import numpy as np\n",
    "import matplotlib.pyplot as plt\n",
    "import scipy.optimize\n",
    "from typing import Callable, Tuple"
   ]
  },
  {
   "cell_type": "markdown",
   "id": "85a43cce-d6c9-4526-a727-1f6fad5b5300",
   "metadata": {},
   "source": [
    "# Optimization with SciPy\n",
    "\n",
    "## What is optimization?\n",
    "\n",
    "- Problem\n",
    "- Constraints\n",
    "- Objective function\n",
    "- Gradient\n",
    "- Problem type\n",
    "- Dimensionality\n",
    "\n",
    "## Have we done optimization already?\n",
    "\n",
    "1. Classic example: Least-squares linear regression\n",
    "\n",
    "## Example problem\n",
    "\n",
    "What is the maximal rectangle area's length/height that can fit within a parabola?  Let a = -1, b = 7, c = 4 for the parabola.\n",
    "\n",
    "Variable names for the rectangle: l for length, h for height, origin_x, origin_y for the bottom-left origin of the rectangle."
   ]
  },
  {
   "cell_type": "code",
   "execution_count": 9,
   "id": "c4d18735-45f3-4901-ac06-571012380563",
   "metadata": {},
   "outputs": [],
   "source": [
    "def f_parabola(x: np.ndarray, a: float, b: float, c: float) -> np.ndarray:\n",
    "    return a * np.square(x) + b * x + c\n",
    "\n",
    "def quadratic_roots(a: float, b: float, c: float) -> Tuple[float, float]:\n",
    "    root0 = (-b + np.sqrt(b ** 2 - 4 * a * c)) / (2 * a)\n",
    "    root1 = (-b - np.sqrt(b ** 2 - 4 * a * c)) / (2 * a)\n",
    "    return root0, root1\n",
    "\n",
    "def rect_area(x: np.ndarray, a: float, b: float, c: float) -> np.ndarray:\n",
    "    height = f_parabola(x, a, b, c)\n",
    "    root0, root1 = quadratic_roots(a, b, c)\n",
    "    # length = (root1 - x) - (x - root0)\n",
    "    length = (root1 - root0) + 2 * root0 - 2 * x\n",
    "    return np.abs(length * height)\n",
    "\n",
    "def obj_rect_area(x: np.ndarray, a: float, b: float, c: float) -> np.ndarray:\n",
    "    return -1. * rect_area(x, a, b, c)"
   ]
  },
  {
   "cell_type": "code",
   "execution_count": 6,
   "id": "142e6868-9ccb-46fc-80a0-893265861b5e",
   "metadata": {},
   "outputs": [
    {
     "name": "stdout",
     "output_type": "stream",
     "text": [
      "-0.5311288741492746 7.531128874149275\n",
      "3.5\n",
      "0.0\n"
     ]
    }
   ],
   "source": [
    "parab_xmin, parab_xmax = quadratic_roots(-1, 7, 4)\n",
    "print(parab_xmin, parab_xmax)\n",
    "print((parab_xmax - parab_xmin) / 2 + parab_xmin)\n",
    "print(rect_area(3.5, -1, 7, 4))"
   ]
  },
  {
   "cell_type": "code",
   "execution_count": 10,
   "id": "82bbea3e-cf46-4af3-9610-e058adb13c82",
   "metadata": {},
   "outputs": [
    {
     "data": {
      "text/plain": [
       "<matplotlib.collections.PathCollection at 0x286a53dcc70>"
      ]
     },
     "execution_count": 10,
     "metadata": {},
     "output_type": "execute_result"
    },
    {
     "data": {
      "image/png": "[encoded data removed]",
      "text/plain": [
       "<Figure size 640x480 with 1 Axes>"
      ]
     },
     "metadata": {},
     "output_type": "display_data"
    }
   ],
   "source": [
    "parab_x = np.linspace(start=parab_xmin, stop=parab_xmax, num=1000)\n",
    "parab_y = f_parabola(parab_x, -1, 7, 4)\n",
    "the_rectarea = rect_area(parab_x, -1, 7, 4)\n",
    "the_obj_rectarea = obj_rect_area(parab_x, -1, 7, 4)\n",
    "\n",
    "plt.scatter(parab_x, parab_y)\n",
    "plt.scatter(parab_x, the_rectarea, c=\"gold\")\n",
    "plt.scatter(parab_x, the_obj_rectarea, c=\"red\")\n",
    "plt.scatter(parab_x, np.zeros_like(parab_x), c=\"black\")"
   ]
  },
  {
   "cell_type": "markdown",
   "id": "871ba27c-ccd6-4e6e-a89d-3c4a3fcbfc0c",
   "metadata": {},
   "source": [
    "### Minimization for smooth functions"
   ]
  },
  {
   "cell_type": "code",
   "execution_count": 15,
   "id": "238f45d9-09b7-4b29-91e3-b7617d957021",
   "metadata": {},
   "outputs": [
    {
     "data": {
      "text/plain": [
       "     fun: -50.42642238027673\n",
       " message: '\\nOptimization terminated successfully;\\nThe returned value satisfies the termination criteria\\n(using xtol = 1.48e-08 )'\n",
       "    nfev: 14\n",
       "     nit: 10\n",
       " success: True\n",
       "       x: 1.1726266421540226"
      ]
     },
     "execution_count": 15,
     "metadata": {},
     "output_type": "execute_result"
    }
   ],
   "source": [
    "scipy.optimize.minimize_scalar(obj_rect_area, args=(-1, 7, 4))"
   ]
  },
  {
   "cell_type": "code",
   "execution_count": 14,
   "id": "263999c3-c486-4ba9-b32e-ef1bfc5cf4af",
   "metadata": {},
   "outputs": [
    {
     "data": {
      "text/plain": [
       "     fun: -50.42642238024738\n",
       " message: 'Solution found.'\n",
       "    nfev: 10\n",
       "     nit: 10\n",
       "  status: 0\n",
       " success: True\n",
       "       x: 5.827374789821771"
      ]
     },
     "execution_count": 14,
     "metadata": {},
     "output_type": "execute_result"
    }
   ],
   "source": [
    "scipy.optimize.minimize_scalar(obj_rect_area, method='bounded', bounds=(3, 8), args=(-1, 7, 4))"
   ]
  },
  {
   "cell_type": "markdown",
   "id": "2c6171e0-9f9c-41c5-ad7a-f6716a00a170",
   "metadata": {},
   "source": [
    "This is \"bad\" because it is a non-differentiable function, so any derivatives that we calculate cannot be guaranteed to be correct:"
   ]
  },
  {
   "cell_type": "code",
   "execution_count": 37,
   "id": "e85ac119-f336-4edc-97ac-221f8cf4a073",
   "metadata": {},
   "outputs": [],
   "source": [
    "def bad_obj_rect_area(x: np.ndarray, a: float, b: float, c: float) -> np.ndarray:\n",
    "    if np.round(x, 1) != 3.4:\n",
    "        return -1. * rect_area(x, a, b, c)\n",
    "    else:\n",
    "        return -9001."
   ]
  },
  {
   "cell_type": "code",
   "execution_count": 38,
   "id": "daf7477a-42f6-490a-afe5-7b0c89cc81db",
   "metadata": {},
   "outputs": [
    {
     "data": {
      "text/plain": [
       "     fun: -9001.0\n",
       " message: 'Solution found.'\n",
       "    nfev: 22\n",
       "     nit: 22\n",
       "  status: 0\n",
       " success: True\n",
       "       x: 3.38197232059872"
      ]
     },
     "execution_count": 38,
     "metadata": {},
     "output_type": "execute_result"
    }
   ],
   "source": [
    "scipy.optimize.minimize_scalar(bad_obj_rect_area, method='bounded', bounds=(3, 4), args=(-1, 7, 4))"
   ]
  },
  {
   "cell_type": "markdown",
   "id": "a6413bf7-eb45-4e91-abd6-88c7c0904b60",
   "metadata": {},
   "source": [
    "### \"Global\" minimization methods (for not-so-smooth functions)"
   ]
  },
  {
   "cell_type": "code",
   "execution_count": 39,
   "id": "a2c4adc5-f65a-406e-9e74-2b3a37d53362",
   "metadata": {},
   "outputs": [
    {
     "data": {
      "text/plain": [
       "                        fun: -50.42642238027674\n",
       " lowest_optimization_result:       fun: -50.42642238027674\n",
       " hess_inv: array([[0.03582084]])\n",
       "      jac: array([4.76837158e-07])\n",
       "  message: 'Optimization terminated successfully.'\n",
       "     nfev: 10\n",
       "      nit: 3\n",
       "     njev: 5\n",
       "   status: 0\n",
       "  success: True\n",
       "        x: array([1.17262665])\n",
       "                    message: ['requested number of basinhopping iterations completed successfully']\n",
       "      minimization_failures: 0\n",
       "                       nfev: 956\n",
       "                        nit: 100\n",
       "                       njev: 478\n",
       "                    success: True\n",
       "                          x: array([1.17262665])"
      ]
     },
     "execution_count": 39,
     "metadata": {},
     "output_type": "execute_result"
    }
   ],
   "source": [
    "scipy.optimize.basinhopping(obj_rect_area, x0=0.0, minimizer_kwargs={\"args\": (-1, 7, 4)})"
   ]
  },
  {
   "cell_type": "code",
   "execution_count": 42,
   "id": "7e70b4e3-4a64-4215-96cc-c9e94c8ab93f",
   "metadata": {},
   "outputs": [
    {
     "data": {
      "text/plain": [
       "     fun: -9001.0\n",
       " message: ['Maximum number of iteration reached']\n",
       "    nfev: 2007\n",
       "    nhev: 0\n",
       "     nit: 1000\n",
       "    njev: 3\n",
       "  status: 0\n",
       " success: True\n",
       "       x: array([3.35282184])"
      ]
     },
     "execution_count": 42,
     "metadata": {},
     "output_type": "execute_result"
    }
   ],
   "source": [
    "scipy.optimize.dual_annealing(bad_obj_rect_area, bounds=[(-10, 10)], args=(-1, 7, 4))"
   ]
  },
  {
   "cell_type": "markdown",
   "id": "6adc23da-99b6-45fc-8ef8-5ef7fcd98cb2",
   "metadata": {},
   "source": [
    "### Trying to make a voltage divider the lazy way\n",
    "\n",
    "Let's say that we've got a 3.3 V source and we have two sets of real, physically-obtainable resistors, and we want to get to an output voltage of 1.8 V.\n",
    "\n",
    "Let's say that our real resistors are in the set: [100, 220, 330, 470, 560, 680, 1000, 2200, 4700, 5600, 6800]"
   ]
  },
  {
   "cell_type": "code",
   "execution_count": 15,
   "id": "5c6a6dd7-c1d9-4203-8219-9624e2d076e4",
   "metadata": {},
   "outputs": [],
   "source": [
    "def round_ten(x):\n",
    "    return int(np.ceil(x / 10.0)) * 10\n",
    "\n",
    "def lazy_obj_voltage_divider(x: np.ndarray, v_in: float, v_out: float, r_set: list) -> float:\n",
    "    \"\"\"\n",
    "    :param x: a 1x2 vector where x[0] is R1 and x[1] is R2; R2 is the resistor to ground.\n",
    "    \"\"\"\n",
    "    R1 = x[0]\n",
    "    R2 = x[1]\n",
    "    if round_ten(R1) not in r_set or round_ten(R2) not in r_set:\n",
    "        return 9001\n",
    "    guess_V_out = v_in * (R2 / (R1 + R2))    \n",
    "    return np.abs(v_out - guess_V_out)  # NOTE: we had a mistake earlier and wrote v_in instead of v_out"
   ]
  },
  {
   "cell_type": "code",
   "execution_count": 23,
   "id": "067fb667-028f-49dc-a260-8cbabe60c1de",
   "metadata": {},
   "outputs": [
    {
     "data": {
      "text/plain": [
       "     fun: 1.2656542480726785e-14\n",
       " message: ['Maximum number of iteration reached']\n",
       "    nfev: 191788\n",
       "    nhev: 0\n",
       "     nit: 10000\n",
       "    njev: 50593\n",
       "  status: 0\n",
       " success: True\n",
       "       x: array([462.60749943, 555.12899932])"
      ]
     },
     "execution_count": 23,
     "metadata": {},
     "output_type": "execute_result"
    }
   ],
   "source": [
    "scipy.optimize.dual_annealing(\n",
    "    lazy_obj_voltage_divider, \n",
    "    bounds=[(100, 10000), (100, 10000)], \n",
    "    args=(3.3, 1.8, [100, 220, 330, 470, 560, 680, 1000, 2200, 4700, 5600, 6800]),\n",
    "    maxiter=10000,\n",
    "    seed=7\n",
    ")"
   ]
  }
 ],
 "metadata": {
  "kernelspec": {
   "display_name": "Python 3 (ipykernel)",
   "language": "python",
   "name": "python3"
  },
  "language_info": {
   "codemirror_mode": {
    "name": "ipython",
    "version": 3
   },
   "file_extension": ".py",
   "mimetype": "text/x-python",
   "name": "python",
   "nbconvert_exporter": "python",
   "pygments_lexer": "ipython3",
   "version": "3.9.7"
  }
 },
 "nbformat": 4,
 "nbformat_minor": 5
}
