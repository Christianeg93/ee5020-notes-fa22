{
 "cells": [
  {
   "cell_type": "code",
   "execution_count": 2,
   "id": "9b8491dc-9b8d-4a08-898a-f3fa5e12efe2",
   "metadata": {},
   "outputs": [],
   "source": [
    "import numpy as np\n",
    "import matplotlib.pyplot as plt\n",
    "import scipy.optimize\n",
    "from typing import Callable, Tuple"
   ]
  },
  {
   "cell_type": "markdown",
   "id": "85a43cce-d6c9-4526-a727-1f6fad5b5300",
   "metadata": {},
   "source": [
    "# Optimization with SciPy\n",
    "\n",
    "## What is optimization?\n",
    "\n",
    "- Problem\n",
    "- Constraints\n",
    "- Objective function\n",
    "- Gradient\n",
    "- Problem type\n",
    "- Dimensionality\n",
    "\n",
    "## Have we done optimization already?\n",
    "\n",
    "1. Classic example: Least-squares linear regression\n",
    "\n",
    "## Example problem\n",
    "\n",
    "What is the maximal rectangle area's length/height that can fit within a parabola?  Let a = -1, b = 7, c = 4 for the parabola.\n",
    "\n",
    "Variable names for the rectangle: l for length, h for height, origin_x, origin_y for the bottom-left origin of the rectangle."
   ]
  },
  {
   "cell_type": "code",
   "execution_count": 14,
   "id": "c4d18735-45f3-4901-ac06-571012380563",
   "metadata": {},
   "outputs": [],
   "source": [
    "def f_parabola(x: np.ndarray, a: float, b: float, c: float) -> np.ndarray:\n",
    "    return a * np.square(x) + b * x + c\n",
    "\n",
    "def quadratic_roots(a: float, b: float, c: float) -> Tuple[float, float]:\n",
    "    root0 = (-b + np.sqrt(b ** 2 - 4 * a * c)) / (2 * a)\n",
    "    root1 = (-b - np.sqrt(b ** 2 - 4 * a * c)) / (2 * a)\n",
    "    return root0, root1\n",
    "\n",
    "def rect_area(x: np.ndarray, a: float, b: float, c: float) -> np.ndarray:\n",
    "    height = f_parabola(x, a, b, c)\n",
    "    root0, root1 = quadratic_roots(a, b, c)\n",
    "    length = (root1 - root0) + 2 * root0 - 2 * x # root1 - 2 * x + 2 * root0\n",
    "    return length * height"
   ]
  },
  {
   "cell_type": "code",
   "execution_count": 15,
   "id": "142e6868-9ccb-46fc-80a0-893265861b5e",
   "metadata": {},
   "outputs": [
    {
     "name": "stdout",
     "output_type": "stream",
     "text": [
      "-0.5311288741492746 7.531128874149275\n",
      "3.5\n",
      "-8.630844204925712\n"
     ]
    }
   ],
   "source": [
    "parab_xmin, parab_xmax = quadratic_roots(-1, 7, 4)\n",
    "print(parab_xmin, parab_xmax)\n",
    "print((parab_xmax - parab_xmin) / 2 + parab_xmin)\n",
    "print(rect_area(3.5, -1, 7, 4))"
   ]
  },
  {
   "cell_type": "code",
   "execution_count": 10,
   "id": "82bbea3e-cf46-4af3-9610-e058adb13c82",
   "metadata": {},
   "outputs": [
    {
     "data": {
      "text/plain": [
       "<matplotlib.collections.PathCollection at 0x264cb739990>"
      ]
     },
     "execution_count": 10,
     "metadata": {},
     "output_type": "execute_result"
    },
    {
     "data": {
      "image/png": "[encoded data removed]",
      "text/plain": [
       "<Figure size 640x480 with 1 Axes>"
      ]
     },
     "metadata": {},
     "output_type": "display_data"
    }
   ],
   "source": [
    "parab_x = np.linspace(start=parab_xmin, stop=parab_xmax, num=1000)\n",
    "parab_y = f_parabola(parab_x, -1, 7, 4)\n",
    "the_rectarea = rect_area(parab_x, -1, 7, 4)\n",
    "\n",
    "plt.scatter(parab_x, parab_y)\n",
    "plt.scatter(parab_x, the_rectarea, c=\"red\")\n",
    "plt.scatter(parab_x, np.zeros_like(parab_x), c=\"black\")"
   ]
  },
  {
   "cell_type": "code",
   "execution_count": null,
   "id": "238f45d9-09b7-4b29-91e3-b7617d957021",
   "metadata": {},
   "outputs": [],
   "source": []
  },
  {
   "cell_type": "code",
   "execution_count": null,
   "id": "e85ac119-f336-4edc-97ac-221f8cf4a073",
   "metadata": {},
   "outputs": [],
   "source": []
  },
  {
   "cell_type": "markdown",
   "id": "2caf6d94-bc43-4cfc-8e3b-999b5d7a5598",
   "metadata": {},
   "source": [
    "## Fitting a rectangular prism under a paraboloid\n",
    "\n",
    "This one is a little bit trickier.  We have to make a formulation that allows for origin_x and origin_y, where the height is the value of the paraboloid."
   ]
  },
  {
   "cell_type": "code",
   "execution_count": null,
   "id": "98b5ebaf-52db-44de-bb5e-fb702be77a2f",
   "metadata": {},
   "outputs": [],
   "source": []
  },
  {
   "cell_type": "code",
   "execution_count": null,
   "id": "d3ff5469-501a-41cd-98ec-3bc601e53724",
   "metadata": {},
   "outputs": [],
   "source": []
  }
 ],
 "metadata": {
  "kernelspec": {
   "display_name": "Python 3 (ipykernel)",
   "language": "python",
   "name": "python3"
  },
  "language_info": {
   "codemirror_mode": {
    "name": "ipython",
    "version": 3
   },
   "file_extension": ".py",
   "mimetype": "text/x-python",
   "name": "python",
   "nbconvert_exporter": "python",
   "pygments_lexer": "ipython3",
   "version": "3.10.6"
  }
 },
 "nbformat": 4,
 "nbformat_minor": 5
}
