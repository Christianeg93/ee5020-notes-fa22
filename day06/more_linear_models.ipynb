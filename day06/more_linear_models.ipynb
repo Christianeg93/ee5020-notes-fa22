{
 "cells": [
  {
   "cell_type": "markdown",
   "id": "62ec2bf8-6f77-461f-8217-44294533268f",
   "metadata": {},
   "source": [
    "# Additional Linear Modeling Schemes\n",
    "\n",
    "Previously, we used primarily Ordinary Least Squares, which is helpful because it can help tell us if the noise on the data (the residuals of the \"smooth\" model) is normal.\n",
    "\n",
    "Once we have a regression model, we can run a few diagnostics and tests, many of which are already run by `statsmodels` as part of the `.summary()` function.  There are a few more diagnostics available as well, see: https://www.statsmodels.org/stable/examples/notebooks/generated/regression_diagnostics.html\n",
    "\n",
    "However, sometimes our data/residuals are not normal.  See: https://en.wikipedia.org/wiki/Homoscedasticity_and_heteroscedasticity\n",
    "\n",
    "Sometimes, there is a correlation between the residuals, which happens quite often in time-series data. In this case, we may want to use Generalized Least Squares.\n",
    "\n",
    "Other times, we might have too much data to really thrown out any outliers, and thus need to create a robust regression model using either Robust Least Squares or RANSAC.  RANSAC is actually used quite often in computer vision!\n",
    "\n",
    "We'll explore all of these today using `../datasets_as/fat.csv`!"
   ]
  },
  {
   "cell_type": "markdown",
   "id": "ec92a23d-dc8c-4f64-afdb-4c5e8d271c9f",
   "metadata": {},
   "source": [
    "## `statsmodels` design matrices API\n",
    "\n",
    "First, a little bit more about why we have `endog` and `exog`, and why we had the \"machine learning\" API.\n",
    "\n",
    "For reference: https://www.statsmodels.org/stable/gettingstarted.html#design-matrices-endog-exog\n",
    "\n",
    "Conveniently, this will help us as we explore our other regression modeling library, `sklearn` (scikit-learn)!\n",
    "\n",
    "Set up the X (exog) and y (endog) matrices, then double-check that it works with OLS:"
   ]
  },
  {
   "cell_type": "code",
   "execution_count": null,
   "id": "7ded41eb-e49b-454c-ae6c-fa96db58898c",
   "metadata": {},
   "outputs": [],
   "source": []
  },
  {
   "cell_type": "code",
   "execution_count": null,
   "id": "e71ff73c-148b-4c30-99ba-ea09fc01019c",
   "metadata": {},
   "outputs": [],
   "source": []
  },
  {
   "cell_type": "code",
   "execution_count": null,
   "id": "9b6b04bb-1aa7-4488-8515-404934ce35b0",
   "metadata": {},
   "outputs": [],
   "source": []
  },
  {
   "cell_type": "markdown",
   "id": "9ad7b97b-354c-4b5d-a2ae-ef48fde8298c",
   "metadata": {},
   "source": [
    "## Introducing `sklearn`\n",
    "\n",
    "scikit-learn is a library full of machine learning schemes!  We don't cover the workings of the algorithms per se here, but we will walk through what each scheme does aim to minimize.\n",
    "\n",
    "See: https://scikit-learn.org/stable/modules/linear_model.html\n",
    "\n",
    "Then, perform OLS using `sklearn` and see how it compares to OLS from `statsmodels`:"
   ]
  },
  {
   "cell_type": "code",
   "execution_count": null,
   "id": "370fae49-00fa-4c0a-8343-f04c728a5b62",
   "metadata": {},
   "outputs": [],
   "source": []
  },
  {
   "cell_type": "code",
   "execution_count": null,
   "id": "348af1c8-f2ab-4f2e-b3c7-1f04db5be90e",
   "metadata": {},
   "outputs": [],
   "source": []
  },
  {
   "cell_type": "markdown",
   "id": "0231adf4-f6c4-46e1-b432-406051cf5a26",
   "metadata": {},
   "source": [
    "### Ridge, Lasso, and Elastic Net regression\n",
    "\n",
    "Try out these techniques now:"
   ]
  },
  {
   "cell_type": "code",
   "execution_count": null,
   "id": "0bf27c07-a7b5-422f-91ce-ef344ef02407",
   "metadata": {},
   "outputs": [],
   "source": []
  },
  {
   "cell_type": "code",
   "execution_count": null,
   "id": "35fde845-47d3-4a8f-a66c-ef7b7d231237",
   "metadata": {},
   "outputs": [],
   "source": []
  },
  {
   "cell_type": "code",
   "execution_count": null,
   "id": "deb9ec14-cf23-4840-9f7a-9afb289d6cff",
   "metadata": {},
   "outputs": [],
   "source": []
  },
  {
   "cell_type": "markdown",
   "id": "cd0ff331-9061-4ddf-bb85-6c048c4c08b0",
   "metadata": {},
   "source": [
    "### RANSAC Robust Regression\n",
    "\n",
    "Sometimes, we don't really know about the outliers other than that they exist.  So we can try using RANSAC: https://scikit-learn.org/stable/auto_examples/linear_model/plot_ransac.html\n",
    "\n",
    "Let's try using RANSAC on the GECAD wind turbine dataset:"
   ]
  },
  {
   "cell_type": "code",
   "execution_count": null,
   "id": "79cb0111-b327-42d3-aa2c-4794d3d59d5d",
   "metadata": {},
   "outputs": [],
   "source": []
  },
  {
   "cell_type": "code",
   "execution_count": null,
   "id": "9b378590-6917-42cf-ad55-ef085794a481",
   "metadata": {},
   "outputs": [],
   "source": []
  },
  {
   "cell_type": "markdown",
   "id": "b53b1514-337e-4341-b403-765bfc612e9f",
   "metadata": {},
   "source": [
    "## Frequentist error types\n",
    "\n",
    "Type I: false positive\n",
    "\n",
    "Type II: false negative"
   ]
  },
  {
   "cell_type": "code",
   "execution_count": null,
   "id": "ff72daa0-b2e9-405e-acfb-9f297811e412",
   "metadata": {},
   "outputs": [],
   "source": []
  }
 ],
 "metadata": {
  "kernelspec": {
   "display_name": "Python 3 (ipykernel)",
   "language": "python",
   "name": "python3"
  },
  "language_info": {
   "codemirror_mode": {
    "name": "ipython",
    "version": 3
   },
   "file_extension": ".py",
   "mimetype": "text/x-python",
   "name": "python",
   "nbconvert_exporter": "python",
   "pygments_lexer": "ipython3",
   "version": "3.9.7"
  }
 },
 "nbformat": 4,
 "nbformat_minor": 5
}
