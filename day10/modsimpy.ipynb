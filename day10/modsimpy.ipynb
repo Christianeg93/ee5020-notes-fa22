{
 "cells": [
  {
   "cell_type": "markdown",
   "id": "be768e58-930a-4f9f-a3f0-d7b5b16bd653",
   "metadata": {},
   "source": [
    "# Introduction to Computational Modeling and Simulation for Model-based Design\n",
    "\n",
    "Outline for Module 2 (Computational Modeling and Simulation): \n",
    "1. Computer models and simulation overview\n",
    "    1. Computational (numerical) model types:\n",
    "        1. Empirical, data-driven\n",
    "        2. Mechanistic, first principles\n",
    "    2. Simulation types:\n",
    "        1. Stochastic vs. Deterministic\n",
    "        2. Steady-state vs. Transient\n",
    "        3. Continuous vs. Discrete\n",
    "2. Simulation schemes:\n",
    "    1. Time-stepping\n",
    "    2. Event-based\n",
    "    3. Monte Carlo\n",
    "    4. Agent-based\n",
    "    5. Finite element"
   ]
  },
  {
   "cell_type": "markdown",
   "id": "ce1a4fe7-2b83-4535-872c-1625bf3cd763",
   "metadata": {},
   "source": [
    "## Computational (numerical) model types"
   ]
  },
  {
   "cell_type": "markdown",
   "id": "73347cea-e1af-4bd8-afa3-e37e0b208731",
   "metadata": {},
   "source": [
    "### Empirical, data-driven (_grey-box_ and _black-box_)\n",
    "\n",
    "- Collect real-world data on physical phenomenon\n",
    "- Create model that uses collected data to estimate physical phenomenon (system identification):\n",
    "    - Frequentist regression techniques\n",
    "    - Bayesian regression techniques\n",
    "    - Nonlinear system identification\n",
    "        - NARMAX (nonlinear auto-regressive moving average model)\n",
    "        - Volterra series\n",
    "        - Stochastic nonlinear model"
   ]
  },
  {
   "cell_type": "markdown",
   "id": "aa3b5342-4131-47da-a6a0-5d5fb838e053",
   "metadata": {},
   "source": [
    "### Mechanistic, first principles (_white-box_)\n",
    "\n",
    "- Use mathematics that models a phenomenon at different levels\n",
    "- Usually involves either partial differential equations (PDEs) or ordinary differential equations (ODEs)\n",
    "- Create model that estimates physical phenomenon through computation:\n",
    "    - Deterministic:\n",
    "        - Discrete-event problems\n",
    "        - Finite state machines\n",
    "        - Initial value problem (ODEs)\n",
    "        - Boundary value problem (ODEs)\n",
    "        - Finite element method for boundary value problems (PDEs)\n",
    "    - Stochastic:\n",
    "        - Stochastic processes\n",
    "        - Markov chains"
   ]
  },
  {
   "cell_type": "markdown",
   "id": "c6f31631-a760-49ff-933e-63501d819879",
   "metadata": {},
   "source": [
    "### Simulating an electrical circuit (transient analysis as initial value problem)\n",
    "\n",
    "Let's say that we have the following circuit:\n",
    "\n",
    "![RC circuit](rc_circuit.gif)\n",
    "\n",
    "_Figure 1: RC series circuit_\n",
    "\n",
    "In this case, V is a DC constant voltage. We know that from our previous knowledge:\n",
    "\n",
    "$V_R = R \\cdot i$ and $V_C = \\frac{1}{C} \\int i \\cdot dt$ and $i = \\frac{dq}{dt}$, where:\n",
    "- $i$ is the electrical current in Amps\n",
    "- $q$ is the electrical charge in Coulombs\n",
    "- $t$ is time in seconds\n",
    "\n",
    "What can we use to solve for $V_C$ generically in terms of $R$, $V$, and $C$, assuming $V_C(0) = 0$?"
   ]
  },
  {
   "cell_type": "markdown",
   "id": "8dd74aa8-dec4-4e30-b6ca-df41b12518f1",
   "metadata": {},
   "source": [
    "We know through Kirchoff's that:  $V_C +  V_R = V$ (or alternatively $V - V_R - V_C = 0$).\n",
    "\n",
    "$\\frac{1}{C} \\int i dt + i R = V$\n",
    "\n",
    "Let's do the substitution to make $i$ a bit simpler to calculate:\n",
    "\n",
    "$\\frac{1}{C} q + \\frac{dq}{dt} R = V$\n",
    "\n",
    "Move it around so it's easy to get $\\frac{dq}{dt}$:\n",
    "\n",
    "$\\frac{dq}{dt} R = V - \\frac{q}{C}$\n"
   ]
  },
  {
   "cell_type": "markdown",
   "id": "317727ee-ceec-47ad-97bc-6e9012d49cb5",
   "metadata": {},
   "source": [
    "$\\frac{dq}{dt} = \\frac{V - \\frac{q}{C}}{R}$"
   ]
  },
  {
   "cell_type": "markdown",
   "id": "95140146-8a6e-4e24-8372-865501a562b4",
   "metadata": {},
   "source": [
    "How would we get this in terms of $V_C$?"
   ]
  },
  {
   "cell_type": "markdown",
   "id": "ab7216c0-3ef6-4954-8f8e-273faca6a5be",
   "metadata": {},
   "source": [
    "$V_C = \\frac{q}{C}$, then $\\frac{dq}{dt} = \\frac{V - V_c}{R}$"
   ]
  },
  {
   "cell_type": "markdown",
   "id": "8ebd43ff-fc54-44a0-917c-88fc11fb6964",
   "metadata": {},
   "source": [
    "$\\frac{dV_c}{dt} = \\frac{d}{dt}( \\frac{q}{C})$ then we can just use $\\frac{dq}{dt} = \\frac{C dV_c}{dt}$"
   ]
  },
  {
   "cell_type": "markdown",
   "id": "a5949126-65d8-484a-9ed0-8a75ce18a3dc",
   "metadata": {},
   "source": [
    "Combine and substitute terms:\n",
    "\n",
    "$\\frac{C dV_c}{dt} = \\frac{V - V_c}{R}$"
   ]
  },
  {
   "cell_type": "markdown",
   "id": "d7cc1041-17ec-46e2-b8b7-c01bae5aab6d",
   "metadata": {},
   "source": [
    "$\\frac{dV_c}{dt} = \\frac{V - V_c}{R C}$"
   ]
  },
  {
   "cell_type": "markdown",
   "id": "2fefe713-6185-431c-b31f-88ad8fb06519",
   "metadata": {},
   "source": [
    "Now, let's use `scipy.integrate` to solve this ODE for $V_C$ numerically, assuming $R = 5 \\Omega$, $C = 0.02 F$, $V = 100 V$, and the initial value of $V_C(0) = 0$, $dV_C(0) = 0$:"
   ]
  },
  {
   "cell_type": "code",
   "execution_count": null,
   "id": "814cb00b-1fce-4ba5-9b54-2c2b984291fc",
   "metadata": {},
   "outputs": [],
   "source": []
  },
  {
   "cell_type": "code",
   "execution_count": null,
   "id": "0be74dd7-a149-4634-bb2f-cf296a653350",
   "metadata": {},
   "outputs": [],
   "source": []
  },
  {
   "cell_type": "markdown",
   "id": "3a65fca2-3c9f-4137-8d0f-79361ddb31b5",
   "metadata": {},
   "source": [
    "When we run the simulation (numerical integration) for different parameter values (such as different $R$s, $C$s, and $V$s), this is called a **parameter sweep**.  Parameter sweeps make up the bulk of design engineering in combination with optimization.  Let's run a parameter sweep and visualize the time it takes to reach $V$ with different $R$ and $C$ values:"
   ]
  },
  {
   "cell_type": "code",
   "execution_count": null,
   "id": "d9c92989-bbd1-4d48-8970-482448a49db4",
   "metadata": {},
   "outputs": [],
   "source": []
  },
  {
   "cell_type": "markdown",
   "id": "4531b4a0-d27a-4c34-b2c4-7579f891ec82",
   "metadata": {},
   "source": [
    "Now, let's say that V is no longer a single DC voltage, but instead is an AC source: $V = 85 \\cos 150t$.\n",
    "\n",
    "Let's see how we can modify the ODE and solve this numerically:"
   ]
  },
  {
   "cell_type": "code",
   "execution_count": null,
   "id": "653f1409-7f8d-491a-a6a0-9939083c0bdc",
   "metadata": {},
   "outputs": [],
   "source": []
  },
  {
   "cell_type": "markdown",
   "id": "4fb68ddb-733d-4ddf-af0a-65fb99b7e295",
   "metadata": {},
   "source": [
    "We see indeed that the capacitor has modified the phase of"
   ]
  },
  {
   "cell_type": "markdown",
   "id": "46800f04-c4de-437d-8c4e-b42874479188",
   "metadata": {},
   "source": [
    "### Solving a system of ODEs\n",
    "\n",
    "Also known as Lotka-Volterra equations, the predator-prey equations are a pair of first-order non-linear ordinary differential equations. They represent a simplified model of the change in populations of two species which interact via predation. For example, foxes (predators) and rabbits (prey). Let $x$ and $y$ represent rabbit and fox populations, respectively:\n",
    "\n",
    "$\\frac{dx}{dt} = x(a - by)$ and $\\frac{dy}{dt} = -y(c -dx)$\n",
    "\n",
    "Let's see how we can solve this using `scipy.integrate`, assuming a positive values for $a$, $b$, $c$, and $d$:"
   ]
  },
  {
   "cell_type": "code",
   "execution_count": null,
   "id": "b6bad85a-4353-44ab-83e9-49505ab0de62",
   "metadata": {},
   "outputs": [],
   "source": []
  },
  {
   "cell_type": "code",
   "execution_count": null,
   "id": "0d89a2f1-e5f1-4437-8a2b-22a4479db842",
   "metadata": {},
   "outputs": [],
   "source": []
  },
  {
   "cell_type": "code",
   "execution_count": null,
   "id": "5b3c5ef1-badc-4936-bfec-c09d66538473",
   "metadata": {},
   "outputs": [],
   "source": []
  },
  {
   "cell_type": "markdown",
   "id": "24abfc40-6aba-4211-9ca1-4e1465110f5d",
   "metadata": {},
   "source": [
    "Let's try it vectorized:"
   ]
  },
  {
   "cell_type": "code",
   "execution_count": null,
   "id": "e4ad2357-f169-417f-8702-7be91665cd17",
   "metadata": {},
   "outputs": [],
   "source": []
  },
  {
   "cell_type": "code",
   "execution_count": null,
   "id": "66817135-a061-42ec-8649-b661a6661a90",
   "metadata": {},
   "outputs": [],
   "source": []
  },
  {
   "cell_type": "code",
   "execution_count": null,
   "id": "2c11062a-5af3-403e-9c5d-5cbdff0ce685",
   "metadata": {},
   "outputs": [],
   "source": []
  },
  {
   "cell_type": "markdown",
   "id": "edaec4f7-5a84-4ab4-a02e-4d7e2110a1f5",
   "metadata": {},
   "source": [
    "### Other ODE system examples\n",
    "\n",
    "See the following for more examples of ODE-based systems:\n",
    "\n",
    "1. https://eng.libretexts.org/Bookshelves/Electrical_Engineering/Signal_Processing_and_Modeling/Introduction_to_Linear_Time-Invariant_Dynamic_Systems_for_Students_of_Engineering_(Hallauer)/05%3A_Basic_Electrical_Components_and_Circuits/5.04%3A_RC_Band-Pass_Filter\n",
    "2. https://eng.libretexts.org/Bookshelves/Electrical_Engineering/Signal_Processing_and_Modeling/Introduction_to_Linear_Time-Invariant_Dynamic_Systems_for_Students_of_Engineering_(Hallauer)/10%3A_Second_Order_Systems/10.04%3A_Frequency-Response_Function_of_an_RC_Band-Pass_Filter"
   ]
  },
  {
   "cell_type": "code",
   "execution_count": null,
   "id": "b48d16da-4b2b-4e58-9eb1-f34eecce3656",
   "metadata": {},
   "outputs": [],
   "source": []
  },
  {
   "cell_type": "code",
   "execution_count": null,
   "id": "dbbe75e1-c826-4195-a357-e8ada890cdd3",
   "metadata": {},
   "outputs": [],
   "source": []
  },
  {
   "cell_type": "code",
   "execution_count": null,
   "id": "9ce9fc6e-6847-4ee8-9441-55b2d6cb868d",
   "metadata": {},
   "outputs": [],
   "source": []
  },
  {
   "cell_type": "code",
   "execution_count": null,
   "id": "6ec24f16-5649-468c-a49c-bc7c27178ea7",
   "metadata": {},
   "outputs": [],
   "source": []
  },
  {
   "cell_type": "code",
   "execution_count": null,
   "id": "8518fa69-169f-4227-b639-c23f6e3c3f41",
   "metadata": {},
   "outputs": [],
   "source": []
  }
 ],
 "metadata": {
  "kernelspec": {
   "display_name": "Python 3 (ipykernel)",
   "language": "python",
   "name": "python3"
  },
  "language_info": {
   "codemirror_mode": {
    "name": "ipython",
    "version": 3
   },
   "file_extension": ".py",
   "mimetype": "text/x-python",
   "name": "python",
   "nbconvert_exporter": "python",
   "pygments_lexer": "ipython3",
   "version": "3.9.7"
  }
 },
 "nbformat": 4,
 "nbformat_minor": 5
}
