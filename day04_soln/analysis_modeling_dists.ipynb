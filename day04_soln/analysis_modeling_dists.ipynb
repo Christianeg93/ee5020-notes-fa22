{
 "cells": [
  {
   "cell_type": "markdown",
   "id": "438261de-b6e9-414f-93f3-82da42b53ee4",
   "metadata": {},
   "source": [
    "# Analyzing and modeling datasets\n",
    "\n",
    "## Importing and performing rudimentary analysis"
   ]
  },
  {
   "cell_type": "code",
   "execution_count": 42,
   "id": "fa79fef4-0333-450a-a8a5-13a757aaf6f9",
   "metadata": {},
   "outputs": [],
   "source": [
    "import numpy as np\n",
    "import scipy as sp\n",
    "import seaborn as sns\n",
    "import pandas as pd\n",
    "import statsmodels.regression.linear_model as slm"
   ]
  },
  {
   "cell_type": "code",
   "execution_count": 2,
   "id": "b79424d1-ff52-4e2e-b45e-cdfca202c146",
   "metadata": {},
   "outputs": [],
   "source": [
    "the_rng = np.random.default_rng(seed=7)"
   ]
  },
  {
   "cell_type": "markdown",
   "id": "1c73e400-dd53-460b-8f4b-57040e360752",
   "metadata": {},
   "source": [
    "## Basic modeling and inference of data\n",
    "\n",
    "### Terminology\n",
    "\n",
    "- **Feature:** column name, independent variable, some type of data that can be related to the output variable\n",
    "- **Target:** the dependent variable or output of the model\n",
    "- **Instance:** a \"row\" or observation of data that includes the independent variables and the dependent variable\n",
    "- **Training data:** instances used for building the regression/classification model\n",
    "- **Testing data:** instances used for testing the validity of the regression/classification model\n",
    "- **Residual:** the difference between the estimated output values from the model and the true output values from the data\n",
    "- **Inference:** Inferring the properties of an underlying distribution (making conclusions from data subject to random variation).\n",
    "- **Parameter:** a summary statistic of the population we are interested in\n",
    "\n",
    "### Distributions\n",
    "\n",
    "This class will be all about distributions.  Why?\n",
    "\n",
    "Because all physical data and models are about distributions.\n",
    "\n",
    "In this module of EE 5020, we focus on **frequentist** (classical) statistics, where we assume the Gaussian and whether features can be parameterized as such.\n",
    "\n",
    "You'll see Bayesian statistics in the next module, where data is treated as informing a probability estimate instead.\n",
    "\n",
    "#### Distribution terminology\n",
    "- **pdf:** probability density function, probability for each possible value of a **continuous** random variable\n",
    "- **pmf:** probability mass function, probability for each possible value of a **discrete** random variable\n",
    "- **cdf:** cumulative distribution function, cumulative probability for each value (and the ones before it)\n",
    "- **samples:** just like with signals, samples (instant values) are drawn from a random variable (which conforms to some distribution)\n",
    "\n",
    "#### Trying out distributions\n",
    "\n",
    "Let's try to draw some samples and plot a few distributions using NumPy:"
   ]
  },
  {
   "cell_type": "code",
   "execution_count": 5,
   "id": "81b0b639-bad1-4d9d-96a6-d15683802b0c",
   "metadata": {},
   "outputs": [
    {
     "name": "stdout",
     "output_type": "stream",
     "text": [
      "[6 9 3 9 0 6 4 5 6 2]\n"
     ]
    },
    {
     "data": {
      "text/plain": [
       "<AxesSubplot:ylabel='Count'>"
      ]
     },
     "execution_count": 5,
     "metadata": {},
     "output_type": "execute_result"
    },
    {
     "data": {
      "image/png": "[encoded data removed]",
      "text/plain": [
       "<Figure size 432x288 with 1 Axes>"
      ]
     },
     "metadata": {
      "needs_background": "light"
     },
     "output_type": "display_data"
    }
   ],
   "source": [
    "random_integer_sample = the_rng.integers(low=0, high=10, endpoint=True, size=1000)\n",
    "print(random_integer_sample[0:10])\n",
    "sns.histplot(data=random_integer_sample)"
   ]
  },
  {
   "cell_type": "code",
   "execution_count": 6,
   "id": "e89d258f-a82f-42c9-80d1-c3fef81e71a2",
   "metadata": {},
   "outputs": [
    {
     "data": {
      "text/plain": [
       "<AxesSubplot:ylabel='Count'>"
      ]
     },
     "execution_count": 6,
     "metadata": {},
     "output_type": "execute_result"
    },
    {
     "data": {
      "image/png": "[encoded data removed]",
      "text/plain": [
       "<Figure size 432x288 with 1 Axes>"
      ]
     },
     "metadata": {
      "needs_background": "light"
     },
     "output_type": "display_data"
    }
   ],
   "source": [
    "lognormal_sample = the_rng.lognormal(mean=1.0, sigma=1.0, size=1000)\n",
    "sns.histplot(data=lognormal_sample)"
   ]
  },
  {
   "cell_type": "markdown",
   "id": "a83036bf-9fc9-4e16-bceb-2039ba739b60",
   "metadata": {},
   "source": [
    "Now let's try to draw some samples and plot a few distributions using SciPy:"
   ]
  },
  {
   "cell_type": "code",
   "execution_count": 7,
   "id": "caddf142-a9cb-4f1a-b676-3e5e1597b931",
   "metadata": {},
   "outputs": [
    {
     "data": {
      "text/plain": [
       "<AxesSubplot:ylabel='Count'>"
      ]
     },
     "execution_count": 7,
     "metadata": {},
     "output_type": "execute_result"
    },
    {
     "data": {
      "image/png": "[encoded data removed]",
      "text/plain": [
       "<Figure size 432x288 with 1 Axes>"
      ]
     },
     "metadata": {
      "needs_background": "light"
     },
     "output_type": "display_data"
    }
   ],
   "source": [
    "uniform_sample = sp.stats.uniform.rvs(loc=20., scale=5., size=1000, random_state=the_rng)\n",
    "sns.histplot(data=uniform_sample)"
   ]
  },
  {
   "cell_type": "code",
   "execution_count": 9,
   "id": "338de7f6-b4e0-4890-9bb0-a576f64d6f79",
   "metadata": {},
   "outputs": [
    {
     "data": {
      "text/plain": [
       "<AxesSubplot:ylabel='Count'>"
      ]
     },
     "execution_count": 9,
     "metadata": {},
     "output_type": "execute_result"
    },
    {
     "data": {
      "image/png": "[encoded data removed]",
      "text/plain": [
       "<Figure size 432x288 with 1 Axes>"
      ]
     },
     "metadata": {
      "needs_background": "light"
     },
     "output_type": "display_data"
    }
   ],
   "source": [
    "randint_sample = sp.stats.randint.rvs(low=10, high=20, size=1000, random_state=the_rng)\n",
    "sns.histplot(data=randint_sample)"
   ]
  },
  {
   "cell_type": "markdown",
   "id": "df60d125-7e9b-4333-885f-1f205b848e42",
   "metadata": {},
   "source": [
    "The special thing about SciPy distributions are that you can generate a \"frozen\" random variable, meaning that you can set the low, high, random state, etc. of a distribution, and just keep drawing from that same distribution.\n",
    "\n",
    "To do this, rather than calling the `.rvs()` function of the distribution name, create the distribution as an object, then call `.rvs()` on your named distribution object instead, as I'll show.\n",
    "\n",
    "Let's pretend that the optimal performance of an integrated circuit relative to its clock speed can be modeled as a Rayleigh distribution with a peak at 120 MHz and a scale of 20 MHz:"
   ]
  },
  {
   "cell_type": "code",
   "execution_count": 19,
   "id": "a6b1bfaf-4c7c-42a1-b583-8cbeb68ed91d",
   "metadata": {},
   "outputs": [],
   "source": [
    "dist_ic_perf_clockspeed_peak = 120.\n",
    "dist_ic_perf_clockspeed_spread = 20.\n",
    "\n",
    "dist_ic_perf_clockspeed = sp.stats.rayleigh(loc=dist_ic_perf_clockspeed_peak - dist_ic_perf_clockspeed_spread,\n",
    "                                            scale=dist_ic_perf_clockspeed_spread)"
   ]
  },
  {
   "cell_type": "code",
   "execution_count": 23,
   "id": "5c56a219-01d5-47c7-a7fa-e5d16539e48c",
   "metadata": {},
   "outputs": [
    {
     "data": {
      "text/plain": [
       "Text(0.5, 0, 'Clock speed (MHz)')"
      ]
     },
     "execution_count": 23,
     "metadata": {},
     "output_type": "execute_result"
    },
    {
     "data": {
      "image/png": "[encoded data removed]",
      "text/plain": [
       "<Figure size 432x288 with 1 Axes>"
      ]
     },
     "metadata": {
      "needs_background": "light"
     },
     "output_type": "display_data"
    }
   ],
   "source": [
    "# examine the pdf directly rather than drawing samples:\n",
    "dist_ic_perf_clockspeed_pdf_x = np.linspace(start=80., stop=300., num=1000)\n",
    "dist_ic_perf_clockspeed_pdf_y = dist_ic_perf_clockspeed.pdf(dist_ic_perf_clockspeed_pdf_x)\n",
    "\n",
    "dist_ic_perf_clockspeed_pdf_plot = sns.lineplot(\n",
    "    x=dist_ic_perf_clockspeed_pdf_x, y=dist_ic_perf_clockspeed_pdf_y)\n",
    "\n",
    "dist_ic_perf_clockspeed_pdf_plot.set_title(\"IC Performance vs. Clockspeed\")\n",
    "dist_ic_perf_clockspeed_pdf_plot.set_ylabel(\"Performance probability\")\n",
    "dist_ic_perf_clockspeed_pdf_plot.set_xlabel(\"Clock speed (MHz)\")"
   ]
  },
  {
   "cell_type": "markdown",
   "id": "6a25f2fa-4865-4087-b0b2-802dca101558",
   "metadata": {},
   "source": [
    "The neatest thing is that you can attempt to fit data with a continuous distribution and examine the potential fits!\n",
    "\n",
    "For more info, see: https://docs.scipy.org/doc/scipy/reference/generated/scipy.stats.rv_continuous.fit.html#scipy.stats.rv_continuous.fit\n",
    "\n",
    "We'll see if we can fit our perfectly uniform data (literally just repeated increments of numbers) to a uniform continuous distribution!"
   ]
  },
  {
   "cell_type": "code",
   "execution_count": 34,
   "id": "e789a217-54b6-4f09-b569-d2606bd11397",
   "metadata": {},
   "outputs": [
    {
     "name": "stdout",
     "output_type": "stream",
     "text": [
      "[ 0.   0.   0.  ... 10.4 10.4 10.4]\n"
     ]
    }
   ],
   "source": [
    "data_perfect = np.repeat(np.arange(0, 10.5, 0.1), 10)  # include the endpoint 10.4\n",
    "print(data_perfect)"
   ]
  },
  {
   "cell_type": "code",
   "execution_count": 35,
   "id": "ffc41f48-cad5-422e-bf28-e2189417ced6",
   "metadata": {},
   "outputs": [
    {
     "data": {
      "text/plain": [
       "(0.0, 10.4)"
      ]
     },
     "execution_count": 35,
     "metadata": {},
     "output_type": "execute_result"
    }
   ],
   "source": [
    "sp.stats.uniform.fit(data=data_perfect)  # returns parameters for the uniform distribution"
   ]
  },
  {
   "cell_type": "markdown",
   "id": "5d654824-f430-40ca-883b-fdd336efc7d5",
   "metadata": {},
   "source": [
    "### Linear regression\n",
    "\n",
    "Let's try using the `statsmodels` for linear regression!  There's a few different methods we'll go over, [see the statsmodels documentation on linear regression](https://www.statsmodels.org/stable/regression.html).\n",
    "\n",
    "Why do we think about distributions when we are performing linear regression?  Because all of our analysis assumes the following:\n",
    "\n",
    "![linear regression](./linear_regression.png)\n",
    "\n",
    "Sometimes, a feature can be transformed using the `np.log10()` or `np.log()` function to attempt to normalize it.\n",
    "\n",
    "#### Building models using toy data\n",
    "\n",
    "Let's visualize this by making up some toy problems before we build models of real datasets."
   ]
  },
  {
   "cell_type": "markdown",
   "id": "b9482e60-9756-465b-b93a-36c693c8c702",
   "metadata": {},
   "source": [
    "We'll make a simple regression problem based on sampling from the equation `y = 2x + 5`.  We'll set up the vectors, then add some noise and attempt linear regression plots."
   ]
  },
  {
   "cell_type": "code",
   "execution_count": 36,
   "id": "e1e60824-df4d-487b-992d-1ffa9d5f6a08",
   "metadata": {},
   "outputs": [],
   "source": [
    "toy_sample_size = 21\n",
    "toy_sample_bound_left = -10.0\n",
    "toy_sample_bound_right = 10.0\n",
    "\n",
    "toy_x = np.linspace(start=toy_sample_bound_left,\n",
    "                    stop=toy_sample_bound_right,\n",
    "                    num=toy_sample_size)"
   ]
  },
  {
   "cell_type": "code",
   "execution_count": 38,
   "id": "bb9fcab2-c1d2-4d68-96a5-53e32de46fe3",
   "metadata": {},
   "outputs": [
    {
     "name": "stdout",
     "output_type": "stream",
     "text": [
      "[-15. -13. -11.  -9.  -7.  -5.  -3.  -1.   1.   3.   5.   7.   9.  11.\n",
      "  13.  15.  17.  19.  21.  23.  25.]\n"
     ]
    }
   ],
   "source": [
    "toy_y = 2. * toy_x + 5.\n",
    "print(toy_y)"
   ]
  },
  {
   "cell_type": "code",
   "execution_count": 39,
   "id": "67e10e23-436d-48fb-84e5-29e70ab65736",
   "metadata": {},
   "outputs": [
    {
     "data": {
      "text/plain": [
       "<AxesSubplot:>"
      ]
     },
     "execution_count": 39,
     "metadata": {},
     "output_type": "execute_result"
    },
    {
     "data": {
      "image/png": "[encoded data removed]",
      "text/plain": [
       "<Figure size 432x288 with 1 Axes>"
      ]
     },
     "metadata": {
      "needs_background": "light"
     },
     "output_type": "display_data"
    }
   ],
   "source": [
    "sns.scatterplot(x=toy_x, y=toy_y)"
   ]
  },
  {
   "cell_type": "markdown",
   "id": "3fa424b7-a40a-4d9b-84c0-a54f6b237ef0",
   "metadata": {},
   "source": [
    "For info about OLS (ordinary least squares), see: https://www.statsmodels.org/dev/generated/statsmodels.regression.linear_model.OLS.html\n",
    "\n",
    "Verify that we get the same model back when using `statsmodels` for regression since we have no noise:"
   ]
  },
  {
   "cell_type": "code",
   "execution_count": 46,
   "id": "b5992201-054b-4aa3-b772-8a02781ead4c",
   "metadata": {},
   "outputs": [
    {
     "data": {
      "text/html": [
       "<table class=\"simpletable\">\n",
       "<caption>OLS Regression Results</caption>\n",
       "<tr>\n",
       "  <th>Dep. Variable:</th>            <td>y</td>        <th>  R-squared:         </th> <td>   1.000</td> \n",
       "</tr>\n",
       "<tr>\n",
       "  <th>Model:</th>                   <td>OLS</td>       <th>  Adj. R-squared:    </th> <td>   1.000</td> \n",
       "</tr>\n",
       "<tr>\n",
       "  <th>Method:</th>             <td>Least Squares</td>  <th>  F-statistic:       </th> <td>1.159e+33</td>\n",
       "</tr>\n",
       "<tr>\n",
       "  <th>Date:</th>             <td>Fri, 09 Sep 2022</td> <th>  Prob (F-statistic):</th> <td>1.98e-303</td>\n",
       "</tr>\n",
       "<tr>\n",
       "  <th>Time:</th>                 <td>14:05:07</td>     <th>  Log-Likelihood:    </th> <td>  686.31</td> \n",
       "</tr>\n",
       "<tr>\n",
       "  <th>No. Observations:</th>      <td>    21</td>      <th>  AIC:               </th> <td>  -1369.</td> \n",
       "</tr>\n",
       "<tr>\n",
       "  <th>Df Residuals:</th>          <td>    19</td>      <th>  BIC:               </th> <td>  -1367.</td> \n",
       "</tr>\n",
       "<tr>\n",
       "  <th>Df Model:</th>              <td>     1</td>      <th>                     </th>     <td> </td>    \n",
       "</tr>\n",
       "<tr>\n",
       "  <th>Covariance Type:</th>      <td>nonrobust</td>    <th>                     </th>     <td> </td>    \n",
       "</tr>\n",
       "</table>\n",
       "<table class=\"simpletable\">\n",
       "<tr>\n",
       "    <td></td>       <th>coef</th>     <th>std err</th>      <th>t</th>      <th>P>|t|</th>  <th>[0.025</th>    <th>0.975]</th>  \n",
       "</tr>\n",
       "<tr>\n",
       "  <th>const</th> <td>    5.0000</td> <td> 3.56e-16</td> <td> 1.41e+16</td> <td> 0.000</td> <td>    5.000</td> <td>    5.000</td>\n",
       "</tr>\n",
       "<tr>\n",
       "  <th>x1</th>    <td>    2.0000</td> <td> 5.87e-17</td> <td>  3.4e+16</td> <td> 0.000</td> <td>    2.000</td> <td>    2.000</td>\n",
       "</tr>\n",
       "</table>\n",
       "<table class=\"simpletable\">\n",
       "<tr>\n",
       "  <th>Omnibus:</th>       <td> 6.221</td> <th>  Durbin-Watson:     </th> <td>   0.062</td>\n",
       "</tr>\n",
       "<tr>\n",
       "  <th>Prob(Omnibus):</th> <td> 0.045</td> <th>  Jarque-Bera (JB):  </th> <td>   5.502</td>\n",
       "</tr>\n",
       "<tr>\n",
       "  <th>Skew:</th>          <td>-1.230</td> <th>  Prob(JB):          </th> <td>  0.0639</td>\n",
       "</tr>\n",
       "<tr>\n",
       "  <th>Kurtosis:</th>      <td> 2.512</td> <th>  Cond. No.          </th> <td>    6.06</td>\n",
       "</tr>\n",
       "</table><br/><br/>Notes:<br/>[1] Standard Errors assume that the covariance matrix of the errors is correctly specified."
      ],
      "text/plain": [
       "<class 'statsmodels.iolib.summary.Summary'>\n",
       "\"\"\"\n",
       "                            OLS Regression Results                            \n",
       "==============================================================================\n",
       "Dep. Variable:                      y   R-squared:                       1.000\n",
       "Model:                            OLS   Adj. R-squared:                  1.000\n",
       "Method:                 Least Squares   F-statistic:                 1.159e+33\n",
       "Date:                Fri, 09 Sep 2022   Prob (F-statistic):          1.98e-303\n",
       "Time:                        14:05:07   Log-Likelihood:                 686.31\n",
       "No. Observations:                  21   AIC:                            -1369.\n",
       "Df Residuals:                      19   BIC:                            -1367.\n",
       "Df Model:                           1                                         \n",
       "Covariance Type:            nonrobust                                         \n",
       "==============================================================================\n",
       "                 coef    std err          t      P>|t|      [0.025      0.975]\n",
       "------------------------------------------------------------------------------\n",
       "const          5.0000   3.56e-16   1.41e+16      0.000       5.000       5.000\n",
       "x1             2.0000   5.87e-17    3.4e+16      0.000       2.000       2.000\n",
       "==============================================================================\n",
       "Omnibus:                        6.221   Durbin-Watson:                   0.062\n",
       "Prob(Omnibus):                  0.045   Jarque-Bera (JB):                5.502\n",
       "Skew:                          -1.230   Prob(JB):                       0.0639\n",
       "Kurtosis:                       2.512   Cond. No.                         6.06\n",
       "==============================================================================\n",
       "\n",
       "Notes:\n",
       "[1] Standard Errors assume that the covariance matrix of the errors is correctly specified.\n",
       "\"\"\""
      ]
     },
     "execution_count": 46,
     "metadata": {},
     "output_type": "execute_result"
    }
   ],
   "source": [
    "import statsmodels.api as sa\n",
    "\n",
    "# add the intercept, which is just a vector of 1s\n",
    "toy_x_train = sa.add_constant(toy_x)\n",
    "\n",
    "model_perfect = slm.OLS(endog=toy_y, exog=toy_x_train)\n",
    "model_perfect_results = model_perfect.fit()\n",
    "model_perfect_results.summary()"
   ]
  },
  {
   "cell_type": "code",
   "execution_count": 41,
   "id": "205e9c9b-9246-46a5-b9c1-c5ff98cf472b",
   "metadata": {},
   "outputs": [
    {
     "data": {
      "text/plain": [
       "<AxesSubplot:>"
      ]
     },
     "execution_count": 41,
     "metadata": {},
     "output_type": "execute_result"
    },
    {
     "data": {
      "image/png": "[encoded data removed]",
      "text/plain": [
       "<Figure size 432x288 with 1 Axes>"
      ]
     },
     "metadata": {
      "needs_background": "light"
     },
     "output_type": "display_data"
    }
   ],
   "source": [
    "dist_noise = sp.stats.norm(loc=0., scale=1.0)\n",
    "\n",
    "# reset the random number generator to a known state so our experiment is consistent\n",
    "noise_samples = dist_noise.rvs(size=len(toy_x), random_state=7)\n",
    "\n",
    "noisy_y = toy_y + noise_samples\n",
    "\n",
    "sns.scatterplot(x=toy_x, y=noisy_y)"
   ]
  },
  {
   "cell_type": "code",
   "execution_count": null,
   "id": "f36d5d94-19fc-4621-a87e-8f42316af5c5",
   "metadata": {},
   "outputs": [],
   "source": []
  },
  {
   "cell_type": "code",
   "execution_count": null,
   "id": "9a99619d-2385-4012-bf18-b17a2550fe63",
   "metadata": {},
   "outputs": [],
   "source": []
  },
  {
   "cell_type": "markdown",
   "id": "57a81422-53f5-492c-95b8-9d683d3904ee",
   "metadata": {},
   "source": [
    "You'll see that `statsmodels` can return a lot of different statistics about the regression model."
   ]
  },
  {
   "cell_type": "code",
   "execution_count": null,
   "id": "b7a11a89-11f6-4878-b6d2-0a677bcc8e16",
   "metadata": {},
   "outputs": [],
   "source": []
  },
  {
   "cell_type": "markdown",
   "id": "ff2e3136-1b91-4658-ac29-24b64b3e649a",
   "metadata": {},
   "source": [
    "#### Building models using real data\n",
    "\n",
    "Datasets:\n",
    "1. https://www.kaggle.com/datasets/nicholasjhana/energy-consumption-generation-prices-and-weather\n",
    "2. https://data.lacity.org/City-Infrastructure-Service-Requests/LADWP-Power-Outages/tdb2-bvuq\n",
    "3. http://www.laalmanac.com/weather/we04a.php\n",
    "4. https://www.californiadgstats.ca.gov/downloads/\n"
   ]
  },
  {
   "cell_type": "code",
   "execution_count": null,
   "id": "d7c22ab6-f804-45ae-9c82-b1a743d9b350",
   "metadata": {},
   "outputs": [],
   "source": []
  }
 ],
 "metadata": {
  "kernelspec": {
   "display_name": "Python 3 (ipykernel)",
   "language": "python",
   "name": "python3"
  },
  "language_info": {
   "codemirror_mode": {
    "name": "ipython",
    "version": 3
   },
   "file_extension": ".py",
   "mimetype": "text/x-python",
   "name": "python",
   "nbconvert_exporter": "python",
   "pygments_lexer": "ipython3",
   "version": "3.9.7"
  }
 },
 "nbformat": 4,
 "nbformat_minor": 5
}
